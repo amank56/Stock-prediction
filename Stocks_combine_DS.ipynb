{
 "cells": [
  {
   "cell_type": "code",
   "execution_count": 190,
   "metadata": {},
   "outputs": [],
   "source": [
    "import pandas as pd\n",
    "import numpy as np\n",
    "import os\n",
    "import string\n",
    "import glob\n",
    "from datetime import date"
   ]
  },
  {
   "cell_type": "code",
   "execution_count": 198,
   "metadata": {},
   "outputs": [],
   "source": [
    "#this function will combine the datasets of a specific company for e.g. Apple, Amazon etc.\n",
    "def stock_dataset_combine(stockName, path): \n",
    "    files = glob.glob(path+'\\\\Ds_'+stockName+'*.csv')\n",
    "    #print(len(files))\n",
    "    ds=[]    \n",
    "    for f in files:\n",
    "        ds.append(pd.read_csv(f))       \n",
    "    df=pd.concat(ds)   \n",
    "    df.drop_duplicates(subset =\"Headlines\", \n",
    "                     keep = False, inplace = True)\n",
    "    df_fin=df[['Firm','Date','Headlines','Label','Description','Open','Close']]\n",
    "    #print(df_fin.info())\n",
    "    return df_fin\n",
    "\n",
    "#this function will combine the datasets of a specific sector for data pulled from reuter news. for e.g. Tech, BDC, Hotel etc.\n",
    "def stock_sector_dataset_combine_reuter(sector_stock_list, path):\n",
    "    dt=[]\n",
    "    for stockName in sector_stock_list:        \n",
    "      files = glob.glob(path+'\\\\'+stockName+'_data*.csv')\n",
    "      #print(len(files))\n",
    "      ds=[]    \n",
    "      for f in files:\n",
    "        #print(f)\n",
    "        ds.append(pd.read_csv(f))       \n",
    "      df=pd.concat(ds)   \n",
    "      df.drop_duplicates(subset =\"Headlines\", \n",
    "                     keep = False, inplace = True)\n",
    "      df=df[['Firm','Date','Headlines','Label','Description','Open','Close']]\n",
    "      #print(df.head())\n",
    "      dt.append(df)\n",
    "    #print(len(dt))   \n",
    "    dc= pd.concat(dt)\n",
    "    return dc\n",
    "\n"
   ]
  },
  {
   "cell_type": "code",
   "execution_count": 192,
   "metadata": {},
   "outputs": [],
   "source": [
    "#this function will combine the datasets of a specific sector. for e.g. Tech, BDC, Hotel etc.\n",
    "\n",
    "def stock_sector_dataset_combine(sector_stock_list, path):\n",
    "    dt=[]\n",
    "    for stockName in sector_stock_list:        \n",
    "      files = glob.glob(path+'\\\\Ds_'+stockName+'*.csv')\n",
    "      #print(len(files))\n",
    "      ds=[]    \n",
    "      for f in files:\n",
    "        #print(f)\n",
    "        ds.append(pd.read_csv(f))       \n",
    "      df=pd.concat(ds)   \n",
    "      df.drop_duplicates(subset =\"Headlines\", \n",
    "                     keep = False, inplace = True)\n",
    "      df=df[['Firm','Date','Headlines','Label','Description','Open','Close']]\n",
    "      #print(df.head())\n",
    "      dt.append(df)\n",
    "    #print(len(dt))   \n",
    "    dc= pd.concat(dt)\n",
    "    return dc"
   ]
  },
  {
   "cell_type": "code",
   "execution_count": 195,
   "metadata": {},
   "outputs": [],
   "source": [
    "Tech_stock_list=['Apple','Alphabet','Amazon','Microsoft','Cisco']\n",
    "Hotel_stock_list=['Hyatt','Wyndham','Hilton','Marriot']\n",
    "Aviation_stock_list=['American Airlines','Southwest','JetBlue','Delta']\n",
    "BDC_stock_list=['Apollo','Hercules','Blackrock','Ares']\n",
    "\n",
    "\n",
    "\n",
    "stock_sector_dataset_combine(Tech_stock_list,'C:\\\\Dev\\\\stock_news_data\\\\Raw').to_csv('C:\\\\Dev\\\\stock_news_data\\\\Sector\\\\sector_Combine_{}.csv'\n",
    "                                                                                .format('tech'))\n",
    "\n",
    "stock_sector_dataset_combine(Hotel_stock_list,'C:\\\\Dev\\\\stock_news_data\\\\Raw').to_csv('C:\\\\Dev\\\\stock_news_data\\\\Sector\\\\sector_Combine_{}.csv'\n",
    "                                                                                .format('Hotel'))\n",
    "\n",
    "stock_sector_dataset_combine(Aviation_stock_list,'C:\\\\Dev\\\\stock_news_data\\\\Raw').to_csv('C:\\\\Dev\\\\stock_news_data\\\\Sector\\\\sector_Combine_{}.csv'\n",
    "                                                                                .format('Aviation'))\n",
    "\n",
    "stock_sector_dataset_combine(BDC_stock_list,'C:\\\\Dev\\\\stock_news_data\\\\Raw').to_csv('C:\\\\Dev\\\\stock_news_data\\\\Sector\\\\sector_Combine_{}.csv'\n",
    "                                                                                .format('BDC'))\n"
   ]
  },
  {
   "cell_type": "code",
   "execution_count": 189,
   "metadata": {},
   "outputs": [],
   "source": [
    "stock_dataset_combine('Apple','C:\\\\Dev\\\\stock_news_data\\\\Raw').to_csv('C:\\\\Dev\\\\stock_news_data\\\\Stock_combine\\\\Combine_{}.csv'\n",
    "                                                                 .format('Apple_combine'))\n",
    "stock_dataset_combine('Microsoft','C:\\\\Dev\\\\stock_news_data\\\\Raw').to_csv('C:\\\\Dev\\\\stock_news_data\\\\Stock_combine\\\\Combine_{}.csv'\n",
    "                                                                 .format('Microsoft_combine'))\n",
    "stock_dataset_combine('Alphabet','C:\\\\Dev\\\\stock_news_data\\\\Raw').to_csv('C:\\\\Dev\\\\stock_news_data\\\\Stock_combine\\\\Combine_{}.csv'\n",
    "                                                                 .format('Alphabet_combine'))\n",
    "stock_dataset_combine('Amazon','C:\\\\Dev\\\\stock_news_data\\\\Raw').to_csv('C:\\\\Dev\\\\stock_news_data\\\\Stock_combine\\\\Combine_{}.csv'\n",
    "                                                                 .format('Amazon_combine'))\n",
    "stock_dataset_combine('Cisco','C:\\\\Dev\\\\stock_news_data\\\\Raw').to_csv('C:\\\\Dev\\\\stock_news_data\\\\Stock_combine\\\\Combine_{}.csv'\n",
    "                                                                 .format('Cisco_combine'))"
   ]
  },
  {
   "cell_type": "code",
   "execution_count": 199,
   "metadata": {},
   "outputs": [],
   "source": [
    "Tech_stock_list_reuter=['Apple','Facebook','Cisco']\n",
    "stock_sector_dataset_combine_reuter(Tech_stock_list_reuter,'C:\\\\Dev\\\\mycode').to_csv('C:\\\\Dev\\\\stock_news_data\\\\Sector\\\\sector_Combine_{}.csv'\n",
    "                                                                                .format('tech_reuter'))"
   ]
  },
  {
   "cell_type": "code",
   "execution_count": null,
   "metadata": {},
   "outputs": [],
   "source": []
  }
 ],
 "metadata": {
  "kernelspec": {
   "display_name": "Python 3",
   "language": "python",
   "name": "python3"
  },
  "language_info": {
   "codemirror_mode": {
    "name": "ipython",
    "version": 3
   },
   "file_extension": ".py",
   "mimetype": "text/x-python",
   "name": "python",
   "nbconvert_exporter": "python",
   "pygments_lexer": "ipython3",
   "version": "3.7.6"
  }
 },
 "nbformat": 4,
 "nbformat_minor": 4
}
