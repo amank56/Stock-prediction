{
  "nbformat": 4,
  "nbformat_minor": 0,
  "metadata": {
    "colab": {
      "name": "Stock_pridict_bidirectional_attention_lstm3",
      "provenance": [],
      "collapsed_sections": [],
      "mount_file_id": "1MFp0Pk7Mz9wqIgZsnJwKQbR67HPt4ROa",
      "authorship_tag": "ABX9TyMS/bAGGHLa9RxNjj2u5RyU",
      "include_colab_link": true
    },
    "kernelspec": {
      "name": "python3",
      "display_name": "Python 3"
    },
    "accelerator": "GPU"
  },
  "cells": [
    {
      "cell_type": "markdown",
      "metadata": {
        "id": "view-in-github",
        "colab_type": "text"
      },
      "source": [
        "<a href=\"https://colab.research.google.com/github/amank56/Stock-prediction/blob/master/Stock_pridict_bidirectional_attention_lstm3.ipynb\" target=\"_parent\"><img src=\"https://colab.research.google.com/assets/colab-badge.svg\" alt=\"Open In Colab\"/></a>"
      ]
    },
    {
      "cell_type": "code",
      "metadata": {
        "id": "y4SrKvZCW004",
        "colab_type": "code",
        "colab": {
          "base_uri": "https://localhost:8080/",
          "height": 87
        },
        "outputId": "5b6af39f-7111-406b-9fc0-6a2aace776b4"
      },
      "source": [
        "#importing all dependencies \n",
        "\n",
        "import pandas as pd\n",
        "import numpy as np\n",
        "import matplotlib.pyplot as plt\n",
        "import seaborn as sns\n",
        "from sklearn.model_selection import train_test_split\n",
        "from sklearn.preprocessing import LabelEncoder\n",
        "from keras.models import Model\n",
        "from keras.layers import LSTM, Activation, Dense, Dropout, Input, Embedding, Bidirectional\n",
        "from keras.optimizers import RMSprop\n",
        "from keras.preprocessing.text import Tokenizer\n",
        "from keras.preprocessing import sequence , text\n",
        "from keras.utils import to_categorical\n",
        "from keras.callbacks import EarlyStopping\n",
        "%matplotlib inline\n",
        "import re"
      ],
      "execution_count": 1,
      "outputs": [
        {
          "output_type": "stream",
          "text": [
            "/usr/local/lib/python3.6/dist-packages/statsmodels/tools/_testing.py:19: FutureWarning: pandas.util.testing is deprecated. Use the functions in the public API at pandas.testing instead.\n",
            "  import pandas.util.testing as tm\n",
            "Using TensorFlow backend.\n"
          ],
          "name": "stderr"
        }
      ]
    },
    {
      "cell_type": "code",
      "metadata": {
        "id": "FoWtY4F5W8oH",
        "colab_type": "code",
        "outputId": "d3c812d3-4ec8-43d8-cc53-0a055dfac28a",
        "colab": {
          "resources": {
            "http://localhost:8080/nbextensions/google.colab/files.js": {
              "data": "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",
              "ok": true,
              "headers": [
                [
                  "content-type",
                  "application/javascript"
                ]
              ],
              "status": 200,
              "status_text": ""
            }
          },
          "base_uri": "https://localhost:8080/",
          "height": 74
        }
      },
      "source": [
        "#importing the data file\n",
        "#adding more data from tech sector \n",
        "from google.colab import files\n",
        "uploaded = files.upload()"
      ],
      "execution_count": 2,
      "outputs": [
        {
          "output_type": "display_data",
          "data": {
            "text/html": [
              "\n",
              "     <input type=\"file\" id=\"files-625d0460-c80e-4959-a4d4-d0688c6e9c70\" name=\"files[]\" multiple disabled />\n",
              "     <output id=\"result-625d0460-c80e-4959-a4d4-d0688c6e9c70\">\n",
              "      Upload widget is only available when the cell has been executed in the\n",
              "      current browser session. Please rerun this cell to enable.\n",
              "      </output>\n",
              "      <script src=\"/nbextensions/google.colab/files.js\"></script> "
            ],
            "text/plain": [
              "<IPython.core.display.HTML object>"
            ]
          },
          "metadata": {
            "tags": []
          }
        },
        {
          "output_type": "stream",
          "text": [
            "Saving sector_Combine_tech_reuter_2.csv to sector_Combine_tech_reuter_2.csv\n"
          ],
          "name": "stdout"
        }
      ]
    },
    {
      "cell_type": "code",
      "metadata": {
        "id": "cps5E2reXs39",
        "colab_type": "code",
        "colab": {}
      },
      "source": [
        "import io\n",
        "\n",
        "ds0 = pd.read_csv(io.BytesIO(uploaded['sector_Combine_tech_reuter_2.csv']))\n",
        "#ds0 = pd.read_csv(io.BytesIO(uploaded['sector_Combine_tech.csv']))\n",
        "#ds1 = pd.read_csv(io.BytesIO(uploaded['Ds_Apple_04-26-2020.csv']))\n",
        "#ds2 = pd.read_csv(io.BytesIO(uploaded['Ds_Apple_04-28-2020.csv']))\n",
        "#ds3 = pd.read_csv(io.BytesIO(uploaded['Ds_Apple_04-29-2020.csv']))\n",
        "#ds4 = pd.read_csv(io.BytesIO(uploaded['Ds_Apple_04-30-2020.csv']))\n",
        "df=ds0\n",
        "#frames=[ds0,ds1,ds2,ds3,ds4]\n",
        "#df=pd.concat(frames)\n",
        "#df= pd.read_csv(\"/content/Ds_Apple.csv\")"
      ],
      "execution_count": 0,
      "outputs": []
    },
    {
      "cell_type": "code",
      "metadata": {
        "id": "Vc3TJdP9Y9mH",
        "colab_type": "code",
        "outputId": "69b00ee1-1dc5-4d26-cd83-44458e1f53ab",
        "colab": {
          "base_uri": "https://localhost:8080/",
          "height": 195
        }
      },
      "source": [
        "#checking the data\n",
        "df.head()"
      ],
      "execution_count": 4,
      "outputs": [
        {
          "output_type": "execute_result",
          "data": {
            "text/html": [
              "<div>\n",
              "<style scoped>\n",
              "    .dataframe tbody tr th:only-of-type {\n",
              "        vertical-align: middle;\n",
              "    }\n",
              "\n",
              "    .dataframe tbody tr th {\n",
              "        vertical-align: top;\n",
              "    }\n",
              "\n",
              "    .dataframe thead th {\n",
              "        text-align: right;\n",
              "    }\n",
              "</style>\n",
              "<table border=\"1\" class=\"dataframe\">\n",
              "  <thead>\n",
              "    <tr style=\"text-align: right;\">\n",
              "      <th></th>\n",
              "      <th>Unnamed: 0</th>\n",
              "      <th>Firm</th>\n",
              "      <th>Date</th>\n",
              "      <th>Headlines</th>\n",
              "      <th>Label2</th>\n",
              "      <th>Description</th>\n",
              "      <th>Open</th>\n",
              "      <th>Close</th>\n",
              "      <th>Formula</th>\n",
              "      <th>Label</th>\n",
              "    </tr>\n",
              "  </thead>\n",
              "  <tbody>\n",
              "    <tr>\n",
              "      <th>0</th>\n",
              "      <td>2</td>\n",
              "      <td>Apple</td>\n",
              "      <td>3/19/2012</td>\n",
              "      <td>UPDATE 6-Apple's Cook finally shares $98 billi...</td>\n",
              "      <td>1</td>\n",
              "      <td>Apple Inc CEO\\nTim Cook, moving swiftly after ...</td>\n",
              "      <td>85.48143</td>\n",
              "      <td>85.871429</td>\n",
              "      <td>0</td>\n",
              "      <td>0</td>\n",
              "    </tr>\n",
              "    <tr>\n",
              "      <th>1</th>\n",
              "      <td>3</td>\n",
              "      <td>Apple</td>\n",
              "      <td>3/19/2012</td>\n",
              "      <td>RPT-US STOCKS-S&amp;P within 10 pct of record high...</td>\n",
              "      <td>1</td>\n",
              "      <td>The S&amp;P 500 extended its\\nrally on Monday to c...</td>\n",
              "      <td>85.48143</td>\n",
              "      <td>85.871429</td>\n",
              "      <td>0</td>\n",
              "      <td>0</td>\n",
              "    </tr>\n",
              "    <tr>\n",
              "      <th>2</th>\n",
              "      <td>4</td>\n",
              "      <td>Apple</td>\n",
              "      <td>3/19/2012</td>\n",
              "      <td>S&amp;P within 10 pct of record high; Apple up on ...</td>\n",
              "      <td>1</td>\n",
              "      <td>The S&amp;P 500 extended its\\nrally on Monday to c...</td>\n",
              "      <td>85.48143</td>\n",
              "      <td>85.871429</td>\n",
              "      <td>0</td>\n",
              "      <td>0</td>\n",
              "    </tr>\n",
              "    <tr>\n",
              "      <th>3</th>\n",
              "      <td>5</td>\n",
              "      <td>Apple</td>\n",
              "      <td>3/19/2012</td>\n",
              "      <td>BreakingViews: So what's Apple really going to...</td>\n",
              "      <td>1</td>\n",
              "      <td>(The author is a Reuters Breakingviews columni...</td>\n",
              "      <td>85.48143</td>\n",
              "      <td>85.871429</td>\n",
              "      <td>0</td>\n",
              "      <td>0</td>\n",
              "    </tr>\n",
              "    <tr>\n",
              "      <th>4</th>\n",
              "      <td>6</td>\n",
              "      <td>Apple</td>\n",
              "      <td>3/19/2012</td>\n",
              "      <td>Instant View: Apple to pay dividend, buy back ...</td>\n",
              "      <td>1</td>\n",
              "      <td>Apple Inc said it plans to pay a quarterly div...</td>\n",
              "      <td>85.48143</td>\n",
              "      <td>85.871429</td>\n",
              "      <td>0</td>\n",
              "      <td>0</td>\n",
              "    </tr>\n",
              "  </tbody>\n",
              "</table>\n",
              "</div>"
            ],
            "text/plain": [
              "   Unnamed: 0   Firm       Date  ...      Close  Formula Label\n",
              "0           2  Apple  3/19/2012  ...  85.871429        0     0\n",
              "1           3  Apple  3/19/2012  ...  85.871429        0     0\n",
              "2           4  Apple  3/19/2012  ...  85.871429        0     0\n",
              "3           5  Apple  3/19/2012  ...  85.871429        0     0\n",
              "4           6  Apple  3/19/2012  ...  85.871429        0     0\n",
              "\n",
              "[5 rows x 10 columns]"
            ]
          },
          "metadata": {
            "tags": []
          },
          "execution_count": 4
        }
      ]
    },
    {
      "cell_type": "code",
      "metadata": {
        "id": "wncprcskeNbZ",
        "colab_type": "code",
        "colab": {}
      },
      "source": [
        "#processing the text of headlines column\n",
        "\n",
        "col_name='Description'\n",
        "# Remove all the special characters\n",
        "df[col_name]=df[col_name].map(lambda x: re.sub(r'\\W+', ' ', x))\n",
        "\n",
        "# remove all single characters\n",
        "df[col_name]=df[col_name].map(lambda x: re.sub(r'\\s+[a-zA-Z]\\s+',' ',x))\n",
        "\n",
        "# Remove single characters from the start\n",
        "df[col_name]=df[col_name].map(lambda x: re.sub(r'\\^[a-zA-Z]\\s+',' ',x))\n",
        "\n",
        "#Substituting multiple spaces with single space\n",
        "df[col_name]=df[col_name].map(lambda x: re.sub(r'\\s+', ' ',x,flags=re.I))\n",
        "\n",
        "# Removing prefixed 'b'\n",
        "df[col_name]=df[col_name].map(lambda x: re.sub(r'^b\\s+', ' ',x))"
      ],
      "execution_count": 0,
      "outputs": []
    },
    {
      "cell_type": "markdown",
      "metadata": {
        "id": "XRJQUc_xaDdP",
        "colab_type": "text"
      },
      "source": [
        "Understand the distribution better.\n"
      ]
    },
    {
      "cell_type": "code",
      "metadata": {
        "id": "1XHpAUf-ZGt_",
        "colab_type": "code",
        "outputId": "3665edc2-19d3-41d0-ec9a-65458f1fd5ba",
        "colab": {
          "base_uri": "https://localhost:8080/",
          "height": 312
        }
      },
      "source": [
        "sns.countplot(df.Label)\n",
        "plt.xlabel('Label')\n",
        "plt.title('Number of +ive and -ive messages - 0 is -ve and +ive is 1')"
      ],
      "execution_count": 6,
      "outputs": [
        {
          "output_type": "execute_result",
          "data": {
            "text/plain": [
              "Text(0.5, 1.0, 'Number of +ive and -ive messages - 0 is -ve and +ive is 1')"
            ]
          },
          "metadata": {
            "tags": []
          },
          "execution_count": 6
        },
        {
          "output_type": "display_data",
          "data": {
            "image/png": "[encoded data removed]",
            "text/plain": [
              "<Figure size 432x288 with 1 Axes>"
            ]
          },
          "metadata": {
            "tags": [],
            "needs_background": "light"
          }
        }
      ]
    },
    {
      "cell_type": "markdown",
      "metadata": {
        "id": "3AbpBP5SaHWu",
        "colab_type": "text"
      },
      "source": [
        "1. Create input and output vectors.\n",
        "\n",
        "2. Process the labels."
      ]
    },
    {
      "cell_type": "code",
      "metadata": {
        "id": "rNZQTLatZxg-",
        "colab_type": "code",
        "colab": {}
      },
      "source": [
        "X = df.Headlines\n",
        "Y = df.Label\n",
        "le = LabelEncoder()\n",
        "Y = le.fit_transform(Y)\n",
        "Y = Y.reshape(-1,1)"
      ],
      "execution_count": 0,
      "outputs": []
    },
    {
      "cell_type": "markdown",
      "metadata": {
        "id": "C1f4v47IaRUe",
        "colab_type": "text"
      },
      "source": [
        "Split into training and test data."
      ]
    },
    {
      "cell_type": "code",
      "metadata": {
        "id": "2sMoIoc_aS5Y",
        "colab_type": "code",
        "colab": {}
      },
      "source": [
        "X_train,X_test,Y_train,Y_test = train_test_split(X,Y,test_size=0.15)"
      ],
      "execution_count": 0,
      "outputs": []
    },
    {
      "cell_type": "markdown",
      "metadata": {
        "id": "cIEiMU-TabtG",
        "colab_type": "text"
      },
      "source": [
        "**Process the data**\n",
        "\n",
        "Tokenize the data and convert the text to sequences.\n",
        "\n",
        "Add padding to ensure that all the sequences have the same shape.\n",
        "\n",
        "There are many ways of taking the max_len and here an arbitrary length of 150 is chosen"
      ]
    },
    {
      "cell_type": "code",
      "metadata": {
        "id": "lbdDQKyjajcs",
        "colab_type": "code",
        "colab": {}
      },
      "source": [
        "max_words = 1000\n",
        "max_len = 150\n",
        "tok = Tokenizer(num_words=max_words)\n",
        "tok.fit_on_texts(X_train)\n",
        "sequences = tok.texts_to_sequences(X_train)\n",
        "sequences_matrix = sequence.pad_sequences(sequences,maxlen=max_len)"
      ],
      "execution_count": 0,
      "outputs": []
    },
    {
      "cell_type": "code",
      "metadata": {
        "id": "Zidrqq3bhjGd",
        "colab_type": "code",
        "outputId": "0b9064d3-58f0-4a93-fb25-f7256b0a80b7",
        "colab": {
          "base_uri": "https://localhost:8080/",
          "height": 168
        }
      },
      "source": [
        "print((sequences_matrix[0]))"
      ],
      "execution_count": 12,
      "outputs": [
        {
          "output_type": "stream",
          "text": [
            "[  0   0   0   0   0   0   0   0   0   0   0   0   0   0   0   0   0   0\n",
            "   0   0   0   0   0   0   0   0   0   0   0   0   0   0   0   0   0   0\n",
            "   0   0   0   0   0   0   0   0   0   0   0   0   0   0   0   0   0   0\n",
            "   0   0   0   0   0   0   0   0   0   0   0   0   0   0   0   0   0   0\n",
            "   0   0   0   0   0   0   0   0   0   0   0   0   0   0   0   0   0   0\n",
            "   0   0   0   0   0   0   0   0   0   0   0   0   0   0   0   0   0   0\n",
            "   0   0   0   0   0   0   0   0   0   0   0   0   0   0   0   0   0   0\n",
            "   0   0   0   0   0   0   0   0   0   0   0   0   0   0   0   0   1  60\n",
            "   2 313  21 637   5  97]\n"
          ],
          "name": "stdout"
        }
      ]
    },
    {
      "cell_type": "markdown",
      "metadata": {
        "id": "pdZ5Ejc7anV0",
        "colab_type": "text"
      },
      "source": [
        "**RNN**\n",
        "\n",
        "Define the RNN structure."
      ]
    },
    {
      "cell_type": "code",
      "metadata": {
        "id": "nAUbltSCarCl",
        "colab_type": "code",
        "colab": {}
      },
      "source": [
        "def RNN():\n",
        "    inputs = Input(name='inputs',shape=[max_len])\n",
        "    layer = Embedding(max_words,50,input_length=max_len)(inputs)\n",
        "    layer = LSTM(64)(layer)\n",
        "    layer = Dense(256,name='FC1')(layer)\n",
        "    layer = Activation('relu')(layer)\n",
        "    layer = Dropout(0.35)(layer)\n",
        "    layer = Dense(1,name='out_layer')(layer)\n",
        "    layer = Activation('sigmoid')(layer)\n",
        "    model = Model(inputs=inputs,outputs=layer)\n",
        "    return model"
      ],
      "execution_count": 0,
      "outputs": []
    },
    {
      "cell_type": "markdown",
      "metadata": {
        "id": "ofBWdyEtawG2",
        "colab_type": "text"
      },
      "source": [
        "Call the function and compile the model."
      ]
    },
    {
      "cell_type": "code",
      "metadata": {
        "id": "YRjwZXs1axHG",
        "colab_type": "code",
        "outputId": "69ce4421-9efd-4ba2-ccdd-578f3615cb77",
        "colab": {
          "base_uri": "https://localhost:8080/",
          "height": 420
        }
      },
      "source": [
        "model = RNN()\n",
        "model.summary()\n",
        "model.compile(loss='binary_crossentropy',optimizer=RMSprop(),metrics=['accuracy'])"
      ],
      "execution_count": 14,
      "outputs": [
        {
          "output_type": "stream",
          "text": [
            "Model: \"model_1\"\n",
            "_________________________________________________________________\n",
            "Layer (type)                 Output Shape              Param #   \n",
            "=================================================================\n",
            "inputs (InputLayer)          (None, 150)               0         \n",
            "_________________________________________________________________\n",
            "embedding_1 (Embedding)      (None, 150, 50)           50000     \n",
            "_________________________________________________________________\n",
            "lstm_1 (LSTM)                (None, 64)                29440     \n",
            "_________________________________________________________________\n",
            "FC1 (Dense)                  (None, 256)               16640     \n",
            "_________________________________________________________________\n",
            "activation_1 (Activation)    (None, 256)               0         \n",
            "_________________________________________________________________\n",
            "dropout_1 (Dropout)          (None, 256)               0         \n",
            "_________________________________________________________________\n",
            "out_layer (Dense)            (None, 1)                 257       \n",
            "_________________________________________________________________\n",
            "activation_2 (Activation)    (None, 1)                 0         \n",
            "=================================================================\n",
            "Total params: 96,337\n",
            "Trainable params: 96,337\n",
            "Non-trainable params: 0\n",
            "_________________________________________________________________\n"
          ],
          "name": "stdout"
        }
      ]
    },
    {
      "cell_type": "markdown",
      "metadata": {
        "id": "OupsGL3gbH3v",
        "colab_type": "text"
      },
      "source": [
        "Fit on the training data."
      ]
    },
    {
      "cell_type": "code",
      "metadata": {
        "id": "fx4T3r1ybIgG",
        "colab_type": "code",
        "outputId": "c1a9fc0a-d5d0-4fb5-dbb2-36076ac3a62c",
        "colab": {
          "base_uri": "https://localhost:8080/",
          "height": 440
        }
      },
      "source": [
        "#without Early stopping\n",
        "model.fit(sequences_matrix,Y_train,batch_size=128,epochs=10,\n",
        "          validation_split=0.2)"
      ],
      "execution_count": 15,
      "outputs": [
        {
          "output_type": "stream",
          "text": [
            "/usr/local/lib/python3.6/dist-packages/tensorflow/python/framework/indexed_slices.py:434: UserWarning: Converting sparse IndexedSlices to a dense Tensor of unknown shape. This may consume a large amount of memory.\n",
            "  \"Converting sparse IndexedSlices to a dense Tensor of unknown shape. \"\n"
          ],
          "name": "stderr"
        },
        {
          "output_type": "stream",
          "text": [
            "Train on 3808 samples, validate on 952 samples\n",
            "Epoch 1/10\n",
            "3808/3808 [==============================] - 10s 3ms/step - loss: 0.5484 - accuracy: 0.7713 - val_loss: 0.5211 - val_accuracy: 0.7847\n",
            "Epoch 2/10\n",
            "3808/3808 [==============================] - 8s 2ms/step - loss: 0.5165 - accuracy: 0.7883 - val_loss: 0.5240 - val_accuracy: 0.7847\n",
            "Epoch 3/10\n",
            "3808/3808 [==============================] - 8s 2ms/step - loss: 0.4955 - accuracy: 0.7889 - val_loss: 0.5611 - val_accuracy: 0.7847\n",
            "Epoch 4/10\n",
            "3808/3808 [==============================] - 8s 2ms/step - loss: 0.4511 - accuracy: 0.7960 - val_loss: 0.5266 - val_accuracy: 0.7616\n",
            "Epoch 5/10\n",
            "3808/3808 [==============================] - 8s 2ms/step - loss: 0.4106 - accuracy: 0.8154 - val_loss: 0.5972 - val_accuracy: 0.7626\n",
            "Epoch 6/10\n",
            "3808/3808 [==============================] - 8s 2ms/step - loss: 0.3872 - accuracy: 0.8227 - val_loss: 0.5831 - val_accuracy: 0.7458\n",
            "Epoch 7/10\n",
            "3808/3808 [==============================] - 7s 2ms/step - loss: 0.3633 - accuracy: 0.8364 - val_loss: 0.6060 - val_accuracy: 0.6964\n",
            "Epoch 8/10\n",
            "3808/3808 [==============================] - 7s 2ms/step - loss: 0.3476 - accuracy: 0.8474 - val_loss: 0.6250 - val_accuracy: 0.7311\n",
            "Epoch 9/10\n",
            "3808/3808 [==============================] - 7s 2ms/step - loss: 0.3245 - accuracy: 0.8634 - val_loss: 0.6667 - val_accuracy: 0.7405\n",
            "Epoch 10/10\n",
            "3808/3808 [==============================] - 7s 2ms/step - loss: 0.3083 - accuracy: 0.8700 - val_loss: 0.7005 - val_accuracy: 0.7826\n"
          ],
          "name": "stdout"
        },
        {
          "output_type": "execute_result",
          "data": {
            "text/plain": [
              "<keras.callbacks.callbacks.History at 0x7f3340131e80>"
            ]
          },
          "metadata": {
            "tags": []
          },
          "execution_count": 15
        }
      ]
    },
    {
      "cell_type": "code",
      "metadata": {
        "id": "3JY0iET-UP-_",
        "colab_type": "code",
        "colab": {}
      },
      "source": [
        "#with early stopping\n",
        "#model.fit(sequences_matrix,Y_train,batch_size=128,epochs=10,\n",
        "#          validation_split=0.2,callbacks=[EarlyStopping(monitor='val_loss',min_delta=0.0001)])"
      ],
      "execution_count": 0,
      "outputs": []
    },
    {
      "cell_type": "markdown",
      "metadata": {
        "id": "V_qFoMEubg5H",
        "colab_type": "text"
      },
      "source": [
        "Process the test set data."
      ]
    },
    {
      "cell_type": "code",
      "metadata": {
        "id": "vc-MXcfhbiLd",
        "colab_type": "code",
        "colab": {}
      },
      "source": [
        "test_sequences = tok.texts_to_sequences(X_test)\n",
        "test_sequences_matrix = sequence.pad_sequences(test_sequences,maxlen=max_len)"
      ],
      "execution_count": 0,
      "outputs": []
    },
    {
      "cell_type": "markdown",
      "metadata": {
        "id": "pvhKI3oLbtEH",
        "colab_type": "text"
      },
      "source": [
        "Evaluate the model on the test set."
      ]
    },
    {
      "cell_type": "code",
      "metadata": {
        "id": "kBnwz1qwblm3",
        "colab_type": "code",
        "outputId": "a125a8a7-90a8-4b9d-8b28-bc8a9fe183cd",
        "colab": {
          "base_uri": "https://localhost:8080/",
          "height": 34
        }
      },
      "source": [
        "accr = model.evaluate(test_sequences_matrix,Y_test)"
      ],
      "execution_count": 18,
      "outputs": [
        {
          "output_type": "stream",
          "text": [
            "841/841 [==============================] - 1s 687us/step\n"
          ],
          "name": "stdout"
        }
      ]
    },
    {
      "cell_type": "code",
      "metadata": {
        "id": "kZhoW2c3bz21",
        "colab_type": "code",
        "outputId": "4d9398a1-b67c-4fe3-cb3f-f0cf9126ef38",
        "colab": {
          "base_uri": "https://localhost:8080/",
          "height": 67
        }
      },
      "source": [
        "print('Test set\\n  Loss: {:0.3f}\\n  Accuracy: {:0.3f}'.format(accr[0],accr[1]))"
      ],
      "execution_count": 19,
      "outputs": [
        {
          "output_type": "stream",
          "text": [
            "Test set\n",
            "  Loss: 0.740\n",
            "  Accuracy: 0.781\n"
          ],
          "name": "stdout"
        }
      ]
    },
    {
      "cell_type": "code",
      "metadata": {
        "id": "RYq6XjsOwe1A",
        "colab_type": "code",
        "outputId": "2daf3161-e8e0-4eee-b909-ed32d28cccc3",
        "colab": {
          "base_uri": "https://localhost:8080/",
          "height": 1000
        }
      },
      "source": [
        "#checking output of layer\n",
        "\n",
        "Xnew=np.array(X_test.values.tolist())\n",
        "ynew=model.predict(test_sequences_matrix)\n",
        "\n",
        "for i in range(len(ynew)):\n",
        "\tprint(\"X=%s, Predicted=%s\" % (Xnew[i], ynew[i]))"
      ],
      "execution_count": 52,
      "outputs": [
        {
          "output_type": "stream",
          "text": [
            "X=Apple takes top gifting spot in China: report, Predicted=[0.10046244]\n",
            "X=Irish PM says future of $1 billion Apple data center uncertain, Predicted=[0.7905534]\n",
            "X=Canada's Supreme Court clears way for Facebook privacy lawsuit, Predicted=[0.03288981]\n",
            "X=UPDATE 1-US trade panel to revisit initial ruling vs. Apple, Predicted=[0.33667332]\n",
            "X=Cook says Apple in talks with Alibaba over Apple Pay in China - Xinhua, Predicted=[0.28661978]\n",
            "X=MARKET PULSE-Jos. A. Bank, Apple, Wal-Mart, Yum Brands, CytRx, Predicted=[0.03647685]\n",
            "X=Exclusive: Japan Display to supply OLED screens for Apple Watch - sources, Predicted=[5.6891036e-05]\n",
            "X=CORRECTED-Apple edges out Samsung in global smartphone sales-Gartner, Predicted=[0.00925061]\n",
            "X=New iPhones expected at Sept. 9 Apple event, Predicted=[0.00027403]\n",
            "X=South Korean group files complaint against Apple CEO over iPhone slowdown, Predicted=[0.00162884]\n",
            "X=CORRECTED-UPDATE 2-Apple warns holiday sales may disappoint amid weakness in emerging markets, Predicted=[0.74977654]\n",
            "X=Facebook removes 8.7 million sexual photos of kids in last three months, Predicted=[0.01564056]\n",
            "X=Apple reassures customers after Australian media reports hack by teen, Predicted=[0.05008276]\n",
            "X=Apple in big solar power deal, market cap closes over $700 billion, Predicted=[0.75661963]\n",
            "X=UPDATE 1-Facebook opens Internet.org to developers amid open web debate in India, Predicted=[0.50369453]\n",
            "X=Facebook vows Libra currency will wait for approval as U.S. airs worries, Predicted=[0.27056503]\n",
            "X=BRIEF-Facebook Says To Prohibit Ads Promoting Cryptocurrency, ICOs, Predicted=[0.05280617]\n",
            "X=MARKET PULSE-Unilife, Apple, Sony, Oncolytics, Biodel, BlackBerry, Predicted=[0.05099734]\n",
            "X=US STOCKS-Futures extend losses, Cisco weighs, Predicted=[0.0292181]\n",
            "X=UPDATE 2-Apple plans to launch Apple Pay in China by February - WSJ, Predicted=[0.08737105]\n",
            "X=UPDATE 1-Apple slice: Share split makes joining the Dow more likely, Predicted=[0.07895794]\n",
            "X=UPDATE 1-Facebook says it suspends accounts tied to Putin ally for meddling in Africa, Predicted=[0.00427923]\n",
            "X=UPDATE 3-Apple's iPhone sales and outlook lag targets, shares slide, Predicted=[0.33373258]\n",
            "X=UDPATE 1-Apple faces U.S. class-action lawsuit by employees over bag searches, Predicted=[0.01063307]\n",
            "X=UPDATE 1-Facebook begins 'fact-checking' photos and videos, Predicted=[0.05064363]\n",
            "X=UPDATE 2-Apple expected to cut iPhone 6S, 6S Plus production - Nikkei, Predicted=[0.00779741]\n",
            "X=The Apple Watch: Is it a gadget or a fashion statement?, Predicted=[0.04005776]\n",
            "X=Facebook says it was “too slow” to fight hate speech in Myanmar, Predicted=[0.00013783]\n",
            "X=US STOCKS-Futures point to higher open after Apple earnings, Predicted=[0.16197076]\n",
            "X=Facebook talks up need for virtual reality, big tech bets, Predicted=[0.06359902]\n",
            "X=Apple News+, at $10 a month, could deliver more content than multiple subscriptions, Predicted=[0.00173621]\n",
            "X=RPT-Apple enjoyed Irish tax holiday from the start, Predicted=[0.22232234]\n",
            "X=UPDATE 4-Apple gets partial win on appeal in Samsung patent case, Predicted=[0.13120745]\n",
            "X=Facebook to require separate mobile app for messages, Predicted=[0.07155758]\n",
            "X=Porsche race car engineer joins Apple: source, Predicted=[0.00072112]\n",
            "X=UPDATE 1-Apple U.S. margins for iPad about half of iPhone -filing, Predicted=[0.00437042]\n",
            "X=MARKET PULSE-Apple, Pandora, Isis, Dover Saddlery, Sealed Air, Predicted=[0.03008229]\n",
            "X=Apple I computer fetches $374,500 at NY auction, Predicted=[0.05484419]\n",
            "X=Google, Facebook move to restrict ads on fake news sites, Predicted=[0.0740381]\n",
            "X=Musk deletes Facebook pages of Tesla, SpaceX after challenged on Twitter, Predicted=[0.56536055]\n",
            "X=Apple to pay Italy 318 million euros, sign tax deal: source, Predicted=[0.08197261]\n",
            "X=Strong iPhone 7 sales 'a bridge' to Apple's next upgrade, Predicted=[0.05803678]\n",
            "X=Wall Street ends mixed as Apple weighs on Nasdaq, Predicted=[0.58067626]\n",
            "X=Facebook's new search feature will reveal only \"shared\" results, Predicted=[0.05685629]\n",
            "X=Hackers of Apple, Facebook seen as independent group seeking money, Predicted=[0.24131931]\n",
            "X=Apple, Google won't face poaching class action suit, yet, Predicted=[3.455353e-06]\n",
            "X=UK's data watchdog seeks more clarity from Facebook over Libra, Predicted=[0.00235819]\n",
            "X=BRIEF-Facebook CIO Tim Campos is leaving Co at the end of the year to start a new company, Facebook is searching for a new CIO - WSJ, Predicted=[0.02787131]\n",
            "X=Cisco's TRILL drill: FabricPath beats IETF standard to market, Predicted=[0.07117038]\n",
            "X=Facebook's market maker losses may top $115 million: sources, Predicted=[0.08259624]\n",
            "X=US STOCKS-Dow, S&P rise on earnings, Apple jumps late, Predicted=[0.01693287]\n",
            "X=UPDATE 2-Around the world, a muted launch for Apple's iPhone 8, Predicted=[0.00016989]\n",
            "X=Should Facebook, Google be liable for user posts? asks U.S. Attorney General Barr, Predicted=[0.12757799]\n",
            "X=UPDATE 1-Some consumers say Apple is losing its 'cool' factor, Predicted=[0.1450468]\n",
            "X=UPDATE 3-Apple scores 2nd legal win vs Samsung in a week, Predicted=[0.71150017]\n",
            "X=Apple's iPhone 6 Plus includes chips from Qualcomm, SK Hynix - iFixit, Predicted=[0.00528121]\n",
            "X=UPDATE 2-Hearing on Apple injunction vs Samsung set for December, Predicted=[0.20436828]\n",
            "X=UPDATE 5-Apple cuts sales forecast as China sales weaken; iPhone pricing in focus, Predicted=[0.06920575]\n",
            "X=UPDATE 1-Facebook warned it may lose a key seal of approval for ad measurement - WSJ, Predicted=[2.1968068e-05]\n",
            "X=Breakingviews - Finance makes Apple and Google forced friends, Predicted=[0.49795365]\n",
            "X=Apple, Foxconn revamp China work conditions, Predicted=[0.05282415]\n",
            "X=Facebook's public relations chief to step down, Predicted=[0.02804761]\n",
            "X=Uber hires Facebook's product director as its driver product head, Predicted=[0.00175197]\n",
            "X=UPDATE 3-Apple nabs Oprah as top talent flocks to digital entertainment, Predicted=[0.11169814]\n",
            "X=In glow of Apple, NXP pitches tap-to-pay technology to car makers, Predicted=[0.2766923]\n",
            "X=Facebook's cryptocurrency ambitions face privacy concerns, political backlash, Predicted=[0.04469067]\n",
            "X=Privacy versus security at heart of Apple phone decrypt order, Predicted=[0.21865791]\n",
            "X=Facebook in talks with publishers on supporting subscription models, Predicted=[0.13463393]\n",
            "X=Facebook, Twitter, Snap to seek soccer World Cup clips from Fox: Bloomberg, Predicted=[0.09963484]\n",
            "X=UPDATE 1-Yahoo, Facebook seek more time for settlement talks, Predicted=[0.35955912]\n",
            "X=Taylor Swift's '1989' will not be offered on Apple Music, Predicted=[0.04015001]\n",
            "X=UPDATE 1-Apple margin concerns fade, focus shifts to iPhone launch, Predicted=[0.00367339]\n",
            "X=MARKET PULSE-US stocks to watch: Apple, Motorola Solutions, Boeing, Predicted=[0.00444415]\n",
            "X=Apple's iPhone X has higher margin than iPhone 8 -analysis, Predicted=[0.09501629]\n",
            "X=US STOCKS-Apple juices Wall St after mixed jobs report, Predicted=[0.03617043]\n",
            "X=UPDATE 2-Facebook says coronavirus hits advertising sales, Predicted=[0.8028462]\n",
            "X=Facebook launches desktop version for Messenger as video calls surge, Predicted=[0.51403177]\n",
            "X=Beats raises $60M to spin off ‘Daisy’ music service; may partner with Apple, Predicted=[0.06754352]\n",
            "X=Fund managers unconvinced by Apple rebound, Predicted=[0.02908162]\n",
            "X=UPDATE 2-Facebook changes algorithm to curb 'tiny group' of spammers, Predicted=[0.20181903]\n",
            "X=UPDATE 3-Apple ordered to pay $234 mln to university for infringing patent, Predicted=[0.00860939]\n",
            "X=Russia tells Facebook to localize user data or be blocked, Predicted=[0.00758884]\n",
            "X=Insight: Trigger Finger - Apple fires biometrics into the mainstream, Predicted=[0.10397004]\n",
            "X=Apple's newest courtroom foe is a patent-savvy university, Predicted=[0.09421486]\n",
            "X=UPDATE 1-Facebook, Twitter, Snap to seek soccer World Cup clips from Fox - Bloomberg, Predicted=[0.11795169]\n",
            "X=YOUR MONEY-Family unity doesn't extend to Apple IDs, Predicted=[0.07391385]\n",
            "X=UPDATE 1-Amazon wins EU e-book pricing battle with Apple, Predicted=[0.00124047]\n",
            "X=US STOCKS-Dow, S&P end at record highs as Apple deal lifts techs, Predicted=[0.06512318]\n",
            "X=US STOCKS-Dow, S&P climb on earnings, Apple bruises Nasdaq, Predicted=[0.11544517]\n",
            "X=UPDATE 1-Apple, Samsung do not have to disclose profit details -court, Predicted=[0.01421935]\n",
            "X=Apple is almost a $1 trillion company, but watch out for Amazon, Predicted=[0.19141237]\n",
            "X=UPDATE 1-Apple's iPad Air is a major improvement, but pricier than competitors - reviews, Predicted=[0.86617213]\n",
            "X=Activist manager sells Cisco shares on rights concerns, Predicted=[0.00439256]\n",
            "X=Hamburg data protection officer opens non-compliance procedure against Facebook, Predicted=[0.35866055]\n",
            "X=UPDATE 2-Facebook buys Boston software company that authenticates IDs, Predicted=[0.07389516]\n",
            "X=Facebook responds to German privacy watchdog on data leak, Predicted=[0.08193464]\n",
            "X=U.S. jury awards Apple $539 million in Samsung patent retrial, Predicted=[0.00443901]\n",
            "X=Apple, publishers must face consumers' e-book suit, Predicted=[0.00049483]\n",
            "X=Facebook employee fired over bragging about access to user information, Predicted=[0.01510525]\n",
            "X=Analysis: Cisco needs more than a quick fix, Predicted=[0.16606201]\n",
            "X=MARKET PULSE-Apple, Pepsi, Motorola, Predicted=[0.03008229]\n",
            "X=Apple explores move into original programming business - Variety, Predicted=[0.01638199]\n",
            "X=UPDATE 6-Facebook expects rising costs to combat scandals to moderate after 2019, Predicted=[2.6714859e-05]\n",
            "X=Exclusive: Apple's Tim Cook to visit China for government meetings - source, Predicted=[0.02197853]\n",
            "X=FTC chairman says Facebook's plan to merge brands may make it harder to split -FT, Predicted=[0.03419553]\n",
            "X=Apple, energy shares shine as Wall Street rallies, Predicted=[0.5023024]\n",
            "X=Apple nears $1 trillion as bright forecast highlights future demand, Predicted=[0.5807942]\n",
            "X=Indian state won't ease crackdown on crime despite Apple manager's death, Predicted=[0.0288927]\n",
            "X=Facebook slammed by UK lawmakers as CTO promises transparency overhaul, Predicted=[0.16079739]\n",
            "X=US STOCKS-Markets down for third day on jobs data, Cisco, Predicted=[0.05859951]\n",
            "X=UPDATE 4-Facebook mobile revenue grows faster than expected, Predicted=[0.6957969]\n",
            "X=UPDATE 3-Cisco loses court challenge to Microsoft's takeover of Skype, Predicted=[0.07605729]\n",
            "X=Apple bans Facebook from tech tools for tracking teen browsing habits, Predicted=[0.08826672]\n",
            "X=Cisco stuns investors on weak profit outlook, Predicted=[0.1824889]\n",
            "X=Apple signals emerging-market rethink with India push, Predicted=[0.08339842]\n",
            "X=UPDATE 2-Apple warning shakes European shares as tech stocks tumble, Predicted=[0.3003624]\n",
            "X=Facebook's Sandberg says number of monthly advertisers tops 5 mln, Predicted=[0.01472915]\n",
            "X=REFILE-UPDATE 1-Apple's book, film services go dark in China, Predicted=[0.01438687]\n",
            "X=Facebook hires AI expert, launches lab in Canada's Montreal, Predicted=[0.5819325]\n",
            "X=Apple's blockbuster quarter eases doubts about growth, Predicted=[0.01727995]\n",
            "X=Germany's Scholz: We cannot accept parallel currencies such as Facebook's Libra, Predicted=[0.13463749]\n",
            "X=UPDATE 4-Apple touts privacy in web sign-on war with Facebook, Google, Predicted=[0.04582325]\n",
            "X=Facebook sued in U.S. federal court for alleged anticompetitive conduct, Predicted=[0.40734378]\n",
            "X=Apple plans biggest iPhone yet for 2018: Bloomberg, Predicted=[0.7468899]\n",
            "X=SAFT ON WEALTH-Apple, the Fed and the financial fallacy, Predicted=[0.5897194]\n",
            "X=UPDATE 3-Judge rejects $324.5 mln settlement over Apple, Google hiring, Predicted=[0.23399718]\n",
            "X=Facebook, tech firms meet with U.S. intelligence on 2020 election security, Predicted=[0.00498966]\n",
            "X=Samsung trips on quality control in rush to pip Apple, Predicted=[0.00648444]\n",
            "X=US STOCKS-Wall St weighed by Apple but banks shine on, Predicted=[0.12290831]\n",
            "X=UPDATE 1-SalesCrunch makes $1 bid for Cisco's WebEx, Predicted=[0.10386828]\n",
            "X=UPDATE 3-Apple's shares swallow biggest loss in 4 years, Predicted=[0.848998]\n",
            "X=REFILE-UPDATE 1-Apple partners with Goldman to add a credit card to Wallet, Predicted=[0.00690244]\n",
            "X=Exclusive: Facebook suspends app pre-installs on Huawei phones, Predicted=[0.02357478]\n",
            "X=UPDATE 3-Apple expands buybacks by $30 bln, OKs 7-for-1 stock split, Predicted=[0.01166952]\n",
            "X=Analysis: Apple's win dents Android's standard-essential patent hopes, Predicted=[0.01262103]\n",
            "X=UPDATE 3-Apple CEO: Unlocking San Bernardino iPhone would be 'bad for America', Predicted=[0.01168431]\n",
            "X=Facebook fact-checker says company must share more data to fight misinformation, Predicted=[0.11567655]\n",
            "X=UPDATE 2-Google pays $22.5 mln to settle Apple Safari charges, Predicted=[0.00099284]\n",
            "X=UPDATE 1-Apple CEO's stock grant now subject to share performance, Predicted=[0.03363359]\n",
            "X=UPDATE 1-U.S. judge OKs class action in e-book suit against Apple, Predicted=[0.0164586]\n",
            "X=Apple colluded on e-book prices, judge finds, Predicted=[0.03377787]\n",
            "X=Insight: Cider, the golden apple of brewers' eyes, Predicted=[0.13722284]\n",
            "X=Facebook forecasts rising ad sales despite dip in usage, Predicted=[0.01322707]\n",
            "X=CIA sought to hack Apple iPhones from earliest days: The Intercept, Predicted=[0.08264057]\n",
            "X=US STOCKS-Wall Street gains on Spain hopes, Apple hits new peak, Predicted=[0.0360589]\n",
            "X=INSIGHT-RPT-Apple, Google, Samsung vie to bring health apps to wearables, Predicted=[0.05284453]\n",
            "X=U.S. government should consider halting Facebook cryptocurrency project: lawmaker, Predicted=[0.02716443]\n",
            "X=Cambridge Analytica files for bankruptcy in U.S. following Facebook debacle, Predicted=[0.05205813]\n",
            "X=As Indian election looms, Facebook steps up fact-checks, Predicted=[0.00033063]\n",
            "X=Facebook CEO plans public debates about tech for 2019 personal challenge, Predicted=[0.00068869]\n",
            "X=Facebook, Google bound to change handling of politics ads - marketing executives, Predicted=[0.11566248]\n",
            "X=UPDATE 1-Facebook ordered by U.S. judge to turn over data privacy records, Predicted=[0.05052598]\n",
            "X=Slowdown in Apple orders weighs on LG Display's first-quarter profit, Predicted=[0.08331342]\n",
            "X=Apple says iPhones still available for sale in China, Predicted=[0.09698197]\n",
            "X=Vietnam activists question Facebook on suppressing dissent, Predicted=[0.1709549]\n",
            "X=U.S. election agency seeks comment after Facebook cites Russian ads, Predicted=[0.00040722]\n",
            "X=Videos may make up 84 percent of internet traffic by 2018 -Cisco, Predicted=[0.57568777]\n",
            "X=BRIEF-Cisco Systems shares up 1.3 pct after the bell following results, Predicted=[0.00526136]\n",
            "X=Apple, tech lift Wall Street as Nasdaq sets record, Predicted=[0.22147954]\n",
            "X=UPDATE 4-Facebook shares soar as users, mobile ads climb, Predicted=[0.00424854]\n",
            "X=Facebook COO Sandberg donates $100 million to donor advised fund, Predicted=[0.00031187]\n",
            "X=UPDATE 1-Cisco buys Versly to boost collaboration tech, Predicted=[0.09635856]\n",
            "X=Yandex says new mobile app is blocked by Facebook, Predicted=[0.10125116]\n",
            "X=CORRECTED-UPDATE 7-Apple wows market with record $17bn bond deal, Predicted=[0.03347583]\n",
            "X=Facebook fixes glitch that exposed millions of user passwords to employees, Predicted=[0.00194372]\n",
            "X=Facebook, Zuckerberg, banks must face IPO lawsuit: judge, Predicted=[0.07204638]\n",
            "X=US STOCKS-Futures little changed with data on tap; Cisco climbs, Predicted=[0.03192552]\n",
            "X=Apple Music hits 6.5 million paid users: Tim Cook, Predicted=[0.56570625]\n",
            "X=UPDATE 3-Apple pays $1 bln for Intel unit in push for chip independence, Predicted=[0.04090741]\n",
            "X=SAFT ON WEALTH-Apple and the grim history of buybacks, Predicted=[0.21684866]\n",
            "X=Polycom sees strong Q2 on Cisco weakness, U.S. govt demand, Predicted=[0.33761877]\n",
            "X=India says Apple must sell locally-sourced goods to set up stores: source, Predicted=[0.12182344]\n",
            "X=UPDATE 3-Apple to refund at least $32.5 million in disputed kids' app purchases, Predicted=[0.03718481]\n",
            "X=UPDATE 1-Apple, FBI to clash again in Congress over encryption, Predicted=[0.02063949]\n",
            "X=Germans talk tough, fete Facebook's Zuckerberg, Predicted=[0.00072936]\n",
            "X=China bans Apple products from government purchases - Bloomberg, Predicted=[0.01012596]\n",
            "X=Apple map service finds fans on Wall Street, Predicted=[0.02065942]\n",
            "X=Facebook ads that let employers target younger workers focus of U.S. lawsuit, Predicted=[0.00224821]\n",
            "X=Apple self-driving car layoffs give hints to division's direction, Predicted=[0.02124412]\n",
            "X=France’s Macron to hold 'tough talks' with Facebook's Zuckerberg, Predicted=[0.0074519]\n",
            "X=Hip and knee surgeons to use Apple Watch to monitor patients, Predicted=[0.02549982]\n",
            "X=U.S. appeals court revives Apple patent lawsuit against Google, Predicted=[0.2859658]\n",
            "X=CORRECTED-Facebook says removes 265 \"fake accounts\" linked to Israel, Predicted=[0.00326108]\n",
            "X=UPDATE 1-Facebook bets on Paris with start-up incubator, Predicted=[0.05772784]\n",
            "X=UK lawmakers prepared to summon Facebook boss Zuckerberg over data scandal, Predicted=[0.01163933]\n",
            "X=Apple to unveil iPhone 6 in August, earlier than expected: report, Predicted=[0.15857449]\n",
            "X=Indonesia MPs grill Facebook officials on data breaches, Predicted=[0.19482043]\n",
            "X=Apple defies Wall Street with strong revival in iPhone sales, Predicted=[0.07632138]\n",
            "X=Facebook's Libra coin likely to run a regulatory gauntlet, Predicted=[0.07510564]\n",
            "X=Facebook's Zuckerberg to meet European Parliament over privacy, Predicted=[0.425428]\n",
            "X=UPDATE 2-Facebook, other banned sites to be open in China free trade zone - report, Predicted=[0.02737305]\n",
            "X=US STOCKS-Wall St flat after Apple starts dividend, Predicted=[0.46827456]\n",
            "X=UPDATE 3-Cisco sees slower growth in second quarter, Predicted=[0.03369049]\n",
            "X=UPDATE 1-Apple in talks with Comcast for streaming-TV service - WSJ, Predicted=[0.11326426]\n",
            "X=MARKET PULSE: Apple, Facebook, Johnson & Johnson, Predicted=[0.01631664]\n",
            "X=Apple's Cook, Facebook's Zuckerberg meet China's Xi in Beijing, Predicted=[0.03833174]\n",
            "X=Fidelity Contrafund cut Apple stake 3 percent in December, Predicted=[0.0013557]\n",
            "X=Apple pips Samsung for mobile phone sales lead in fourth quarter, Predicted=[0.09055918]\n",
            "X=UPDATE 3-Cisco Q3 revenue outlook strong after Q2 beat, Predicted=[0.74224997]\n",
            "X=Facebook's solar-powered internet drone takes flight, Predicted=[0.10940755]\n",
            "X=Facebook to issue missing children alerts in U.S., Predicted=[0.00299279]\n",
            "X=For US investors gone sour on Apple, buying Samsung is tricky, Predicted=[0.00141043]\n",
            "X=Apple says illegal student labour discovered at iPhone X plant, Predicted=[0.10668509]\n",
            "X=Icahn says would 'never' push Apple to buy Nuance, Predicted=[0.02334095]\n",
            "X=UPDATE 1-Facebook Q2 revenue grows 53 percent, Predicted=[0.7355999]\n",
            "X=Apple fight could escalate with demand for 'source code', Predicted=[0.09322081]\n",
            "X=Facebook says government requests for data continue to rise, Predicted=[0.00255434]\n",
            "X=CORRECTED-UPDATE 2-Apple, China Mobile sign long-awaited deal to sell iPhones, Predicted=[0.00791571]\n",
            "X=Carl Icahn and son say Apple will still introduce TV, car: CNBC, Predicted=[0.04911653]\n",
            "X=New Apple watch could take bite out of Swiss market, Predicted=[0.05399238]\n",
            "X=North Korea's elite quitting Facebook, concealing internet activity: researcher, Predicted=[0.17554183]\n",
            "X=Apple deepens enterprise push with Deloitte partnership, Predicted=[0.0534803]\n",
            "X=Heirs can access Facebook account of deceased relatives: German court, Predicted=[0.8534022]\n",
            "X=RPT-INTERVIEW-How Einhorn turned from Apple advocate to agitator, Predicted=[0.04759745]\n",
            "X=Apple beats financial expectations, plans $100 bln cash return boost, Predicted=[0.00011461]\n",
            "X=Apple's iPhone 6 still one license away from elusive China launch, Predicted=[0.03331627]\n",
            "X=Facebook stock jumps 12.6 percent as share lockup expires, Predicted=[0.0589438]\n",
            "X=Facebook plans more fact-checking ahead of European Parliament election, Predicted=[0.03666597]\n",
            "X=Facebook fights for free Internet in India, global test-case, Predicted=[0.00077829]\n",
            "X=UPDATE 1-Former Apple designer says Samsung phones looked similar, Predicted=[0.00759633]\n",
            "X=Apple, Walmart, IBM CEOs join White House advisory panel, Predicted=[0.00441249]\n",
            "X=China says Apple unit underpaid $71 million in tax in 2013, Predicted=[0.15745021]\n",
            "X=RPT-Facebook comments, ads don't sway most users-poll, Predicted=[0.05410587]\n",
            "X=Microsoft's stock market value pulls ahead of Apple's, Predicted=[0.12149264]\n",
            "X=Facebook's Libra cryptocurrency faces new hurdle from G7 nations, Predicted=[0.09790654]\n",
            "X=Shorting Facebook on first day: Tough even for the gutsiest, Predicted=[0.00330439]\n",
            "X=Apple faces $400 million in damages in university patent case: sources, Predicted=[0.01436214]\n",
            "X=UPDATE 2-China TV consumer show criticises Apple and Volkswagen, Predicted=[0.43222398]\n",
            "X=UPDATE 3-Apple to use only green power for main data center, Predicted=[0.02217577]\n",
            "X=UPDATE 3-U.S. appeals court revives Apple bid for Samsung injunction, Predicted=[0.02607721]\n",
            "X=EU unlikely to support ban on free unlimited Facebook, Spotify, Predicted=[0.00123116]\n",
            "X=UPDATE 2-Cisco wins TelePresence deal; Tandberg deal OKed, Predicted=[0.00018352]\n",
            "X=Direct Edge to contest Nasdaq plan to aid Facebook clients, Predicted=[0.05458074]\n",
            "X=U.S. faces tough questions in Apple e-books antitrust appeal, Predicted=[0.00423605]\n",
            "X=UPDATE 1-Apple, Chinese rideshare deal heats up race for tech-smart cars, Predicted=[0.01817182]\n",
            "X=German consumer group sets Facebook privacy ultimatum, Predicted=[0.08690873]\n",
            "X=Facebook brings down top end of expenses growth forecast, Predicted=[0.15923893]\n",
            "X=US STOCKS-Dow, S&P hit record highs; Apple's China deal lifts techs, Predicted=[0.01186811]\n",
            "X=UPDATE 2-Apple CEO promises new products, says Apple TV no longer a \"hobby\", Predicted=[0.03135206]\n",
            "X=Apple says 'it's show time' March 25, TV service announcement expected, Predicted=[0.17400952]\n",
            "X=CORRECTED-UPDATE 3-Cisco to cut workforce by 15 percent, sell factory, Predicted=[0.11414932]\n",
            "X=Half-dozen Juniper executives jump ship for Cisco, Predicted=[0.0001469]\n",
            "X=UPDATE 2-Apple won't include YouTube app in new mobile software, Predicted=[8.323933e-05]\n",
            "X=US judge sends Apple, Samsung to settlement talks, Predicted=[0.20641853]\n",
            "X=Apple looks to rev up fading tablet growth, Predicted=[0.00611305]\n",
            "X=Average Apple Watch sells for $529, at top end of estimates: report, Predicted=[0.00039471]\n",
            "X=Instant View: Apple's iPhone sales lag Wall Street view, Predicted=[0.6315862]\n",
            "X=CORRECTED-UPDATE 4-Cisco cutting 4,000 jobs, CEO sees slow progress, Predicted=[0.00904017]\n",
            "X=UPDATE 4-Icahn says bigger buybacks can drive Apple shares to $700, Predicted=[0.34254608]\n",
            "X=Conditions not in place for Facebook's Libra to go ahead: France, Predicted=[0.23602182]\n",
            "X=Apple, Pfizer, others form 'go slow' U.S. patent lobby group, Predicted=[0.0692595]\n",
            "X=UPDATE 2-Apple shares drop below $100 for first time since August, Predicted=[0.00124486]\n",
            "X=U.S. lawmaker says Facebook cannot be trusted to regulate itself, Predicted=[0.01276175]\n",
            "X=Apple's Asia suppliers fall on report iPhone XR production boost canceled, Predicted=[0.00083027]\n",
            "X=U.S. homeland security secretary commends Facebook action, Predicted=[0.10278797]\n",
            "X=AT&T cuts \"Facebook phone\" price to 99 cents, weeks after launch, Predicted=[0.00491148]\n",
            "X=US STOCKS-Caterpillar, Apple push Wall Street lower, Predicted=[0.0078443]\n",
            "X=Cisco buys cloud network company Meraki for sky-high amount of $1.2B, Predicted=[0.6885734]\n",
            "X=UPDATE 1-Apple opposes U.S. appeal over iPhone in New York drug case, Predicted=[0.00031048]\n",
            "X=Apple adds Isaac Asimov sci-fi series to TV development list, Predicted=[0.11168689]\n",
            "X=US STOCKS-Wall St in tech-led slide after Cisco outlook, Predicted=[0.06994338]\n",
            "X=Facebook to double office presence in London, Predicted=[0.61360747]\n",
            "X=Apple-supplier Pegatron violates China workers' rights: China Labor Watch, Predicted=[0.3732375]\n",
            "X=BRIEF-Moody's assigns Prime-1 short-term rating to Cisco Systems, Predicted=[0.00245906]\n",
            "X=Apple plays soothing iPhone hold music, Predicted=[0.0283247]\n",
            "X=Cisco seen reporting solid second quarter, Predicted=[0.33537728]\n",
            "X=High iPhone price spooks investors, Apple shares drop, Predicted=[0.04590606]\n",
            "X=Facebook to emphasize friends, not news, in series of changes, Predicted=[0.27129215]\n",
            "X=Air traffic bans boost video conferencing - Cisco, Predicted=[0.34787846]\n",
            "X=Russia's Mail.Ru sells remaining Facebook stock, Predicted=[0.00783318]\n",
            "X=CORRECTED-Apple services segment faces margin, competitive challenges, Predicted=[0.00922429]\n",
            "X=UPDATE 1-Apple, Facebook, Google Web data centers getting greener -report, Predicted=[0.07053963]\n",
            "X=UPDATE 1-Cisco CFO says recovery not just temporary, Predicted=[0.19705695]\n",
            "X=UPDATE 1-US trade panel: Samsung Electronics infringes Apple patents, Predicted=[0.049435]\n",
            "X=UPDATE 1-Facebook developing camera app similar to Snapchat - WSJ, Predicted=[0.05213152]\n",
            "X=Facebook to roll out 'I'm a Voter' feature worldwide, Predicted=[0.2769712]\n",
            "X=Facebook, Google, Twitter agree to delete hate speech in 24 hours: Germany, Predicted=[0.02050769]\n",
            "X=SEC eyes Nasdaq compliance in Facebook debacle, Predicted=[0.11863747]\n",
            "X=UPDATE 3-Cisco appeals EU's okay of Microsoft/Skype deal, Predicted=[0.07420909]\n",
            "X=UPDATE 2-EU regulator monitors Apple iPad and iPhone distribution, Predicted=[0.48257494]\n",
            "X=FTC wins right for competition probe at Facebook: WSJ, Predicted=[0.0020718]\n",
            "X=UPDATE 4-Cisco trounces estimates, sees strong recovery, Predicted=[0.10861851]\n",
            "X=US STOCKS-S&P 500 dips after rally, but Apple lifts Nasdaq, Predicted=[0.9232446]\n",
            "X=Brazil court lifts suspension of Facebook's WhatsApp service, Predicted=[0.42438608]\n",
            "X=Cisco continues acquisition binge, gobbles up Composite Software for $180M, Predicted=[0.01306759]\n",
            "X=Trump calls for boycott until Apple unlocks shooter's phone, Predicted=[0.06691198]\n",
            "X=Gunman fires at Indian protesters after threatening 'final journey' live on Facebook, Predicted=[0.41361472]\n",
            "X=Foxconn says Apple, Amazon to join its bid for Toshiba chip business: Nikkei, Predicted=[0.00073891]\n",
            "X=Facebook changes algorithm to curb 'tiny group' of spammers, Predicted=[0.32867825]\n",
            "X=Facebook shares pressured by Zynga ahead of results, Predicted=[0.3821681]\n",
            "X=Facebook now says data breach affected 29 million users, details impact, Predicted=[0.00188626]\n",
            "X=Telegram app free-speech advocate no stranger to Apple-FBI woes, Predicted=[0.00141712]\n",
            "X=Insight: Cisco suits on China rights abuses to test legal reach, Predicted=[0.00134423]\n",
            "X=Chipmaker AMS signals steady Apple orders, Android share grows, Predicted=[0.3271737]\n",
            "X=Google withdraws patent complaint against Apple, Predicted=[0.03827218]\n",
            "X=Facebook shares could hit $160 in 2019: Citron, Predicted=[0.00319252]\n",
            "X=Facebook met UK officials three times before Libra announcement, Predicted=[0.01446491]\n",
            "X=Apple grabs two-year lead in 3D sensing race, Predicted=[0.00060258]\n",
            "X=US STOCKS-Wall St edges up, led by tech after Cisco's results, Predicted=[0.02629625]\n",
            "X=CORRECTED-FOCUS-Facebook releases new privacy safeguards after ceding to pressure from advertisers, Predicted=[0.00223465]\n",
            "X=Apple CEO says had 'very open' privacy talks in China: Xinhua, Predicted=[0.27229753]\n",
            "X=Facebook calls detention in Brazil over Whatsapp 'extreme', Predicted=[0.5089565]\n",
            "X=Apple says iPhone X pre-orders are 'off the charts', Predicted=[0.34025228]\n",
            "X=UPDATE 2-Apple lists top 25 apps hit by malware in first major attack, Predicted=[0.00228985]\n",
            "X=UPDATE 1-US judge urges Apple, Samsung to settle before verdict, Predicted=[0.1110774]\n",
            "X=NBCUniversal in deal to sell ads for Apple News, Predicted=[0.0195767]\n",
            "X=Cisco shares fall; analysts fret over long-term growth, Predicted=[0.00099276]\n",
            "X=MARKET PULSE- Apple, Blyth, Micron, Boise, Pluristem, Omeros, Predicted=[0.03008229]\n",
            "X=REFILE-US STOCKS-Wall St edges up as Apple leads tech sector higher, Predicted=[0.10707571]\n",
            "X=Patently tough: Long road ahead for Qualcomm in China case against Apple, Predicted=[0.00047582]\n",
            "X=EU regulator monitors Apple iPad and iPhone distribution, Predicted=[0.5274012]\n",
            "X=Apple agrees to another audit, this time for the environment, Predicted=[0.01388651]\n",
            "X=UPDATE 5-Facebook crosses billion threshold, on quest for growth, Predicted=[0.33083984]\n",
            "X=Facebook lifts restriction on teen users sharing with public, Predicted=[0.02175488]\n",
            "X=U.S. attorney general criticizes Apple, Google data encryption, Predicted=[0.01608438]\n",
            "X=US STOCKS-Wall Street advances despite Apple decline, Predicted=[0.33963016]\n",
            "X=Austrian privacy activist says will sue Facebook in Vienna after EU ruling, Predicted=[0.47120404]\n",
            "X=UPDATE 1-Facebook's Watch goes up against YouTube for ad dollars, Predicted=[0.01334971]\n",
            "X=UPDATE 2-Apple breaks intraday record high for first time since 2015, Predicted=[0.00178335]\n",
            "X=Facebook director Thiel sold 20 million shares after lockup, Predicted=[0.03074247]\n",
            "X=German prosecutors investigate Facebook over hate postings, Predicted=[0.06179217]\n",
            "X=Apple buys back $14 billion of shares in two weeks since results, Predicted=[0.0245759]\n",
            "X=Facebook to buy back additional $9 billion of shares, Predicted=[0.03642823]\n",
            "X=Facebook helps FBI bust cybercriminals blamed for $850 million losses, Predicted=[0.02592589]\n",
            "X=EXCLUSIVE-Apple, Google agree to pay over $300 mln to settle conspiracy lawsuit, Predicted=[0.09738998]\n",
            "X=Judge who shelved Apple trial says patent system out of sync, Predicted=[0.0130296]\n",
            "X=UPDATE 1-Facebook: Russian agents created 129 U.S. election events, Predicted=[0.05550097]\n",
            "X=Facebook shares hit record high as market likes earnings, Predicted=[0.17185108]\n",
            "X=Breakingviews: Consumers can hope Apple patent victory is Pyrrhic, Predicted=[0.1402573]\n",
            "X=Apple is finally allowing developers to sell their apps to other developers. Here’s why (and how), Predicted=[0.24101137]\n",
            "X=Facebook says 126 million Americans may have seen Russia-linked political posts, Predicted=[0.00237171]\n",
            "X=Apple says it spent $50 billion last year with U.S. suppliers, Predicted=[0.0212462]\n",
            "X=Apple will not give first-weekend sales of iPhone 7, Predicted=[0.17107546]\n",
            "X=Facebook's Instagram to expand ads beyond U.S, Predicted=[0.19062658]\n",
            "X=UPDATE 4-Strong iPhone sales buoy Apple's Q3, shares climb, Predicted=[0.07000667]\n",
            "X=UPDATE 5-Apple Watch launches quietly at handful of big-city boutiques, Predicted=[0.2997274]\n",
            "X=S&P 500 losing streak runs to 8 days as Facebook weighs, Predicted=[0.4712575]\n",
            "X=REFILE-UPDATE 2-U.S. judge tosses Apple vs. Google lawsuit over patents, Predicted=[0.16299583]\n",
            "X=Apps make self-destructing posts for Facebook and Twitter, Predicted=[0.00342049]\n",
            "X=Apple CEO says optimistic on U.S.-China trade talks, Predicted=[0.46190813]\n",
            "X=Facebook's Libra coin closely watched by authorities: FSB, Predicted=[0.37551793]\n",
            "X=UPDATE 3-Apple adds touch screen keys to MacBook Pro, price jump startles some, Predicted=[0.02830867]\n",
            "X=Apple in talks to buy Japan chip venture to secure iPhone supply chain, Predicted=[0.0097605]\n",
            "X=US STOCKS-Apple leads Wall St higher as trade worries ease, Predicted=[0.78099513]\n",
            "X=RPT-UPDATE 3-\"Wow\": Facebook launches \"Reactions\" worldwide, Predicted=[0.12292425]\n",
            "X=UPDATE 2-Apple cancels production boost for iPhone XR- Nikkei, Predicted=[0.00088597]\n",
            "X=UPDATE 1-Majority of Apple Watch owners plan to give it as a gift, Predicted=[0.02729843]\n",
            "X=Qualcomm stock jumps 23 percent on surprise settlement with Apple, Predicted=[0.15735064]\n",
            "X=UPDATE 2-Apple loses latest bid to block e-books antitrust monitor, Predicted=[0.73205215]\n",
            "X=Apple may have tried to block Spotify in U.S.: Parker, Predicted=[0.00700938]\n",
            "X=China preempts Apple on iPhone 5 launch, Predicted=[0.01940114]\n",
            "X=CORRECTED-Apple snubs emerging mobile payment standard, Predicted=[0.05150811]\n",
            "X=GLOBAL MARKETS-Apple results weigh on Wall St; oil cuts some losses, Predicted=[0.05200465]\n",
            "X=EU court rejects Facebook class action suit by privacy activist, Predicted=[0.01149017]\n",
            "X=Analysis: Friend and foe; Samsung, Apple won't want to damage parts deal, Predicted=[0.04307156]\n",
            "X=UPDATE 1-Publishers object to U.S. restrictions on Apple in e-books case, Predicted=[0.03206464]\n",
            "X=Facebook brings British profits onshore after tax rule change, Predicted=[0.01108484]\n",
            "X=UPDATE 4-Supplier woes stir Apple demand fears, Asian parts makers dive, Predicted=[0.01356416]\n",
            "X=UPDATE 1-Dutch court orders Apple to pay Samsung damages over patent, Predicted=[0.02047981]\n",
            "X=Facebook CEO plans to grow headcount in 2013, Predicted=[0.05255532]\n",
            "X=Dr Pepper Snapple, Pepsi buy drinks makers in bid to diversify, Predicted=[2.200862e-05]\n",
            "X=Singapore lawmaker blasts Facebook over refusal to take down 'false' post, Predicted=[0.04479527]\n",
            "X=Facebook unveils \"chat heads\" messaging tool for mobile phones, Predicted=[0.03096146]\n",
            "X=Cisco shares plummet, sink broader market, Predicted=[0.3195414]\n",
            "X=UPDATE 4-Facebook's mobile ad revenue doubles in fourth quarter, Predicted=[0.07036312]\n",
            "X=France and Germany agree to block Facebook's Libra, Predicted=[0.42542726]\n",
            "X=Facebook to clearly explain how it uses consumer data: EU, Predicted=[0.05055686]\n",
            "X=Facebook debuts smart speaker for Messenger video calls, Predicted=[0.79372513]\n",
            "X=Apple's Cook apologizes for Maps flaws, recommends rivals, Predicted=[0.09184144]\n",
            "X=Apple CEO promises new products, says Apple TV no longer a 'hobby', Predicted=[0.0261774]\n",
            "X=Facebook, in reversal, to publish cache of political ads, Predicted=[0.06233152]\n",
            "X=UK regulator upholds Facebook fine in Cambridge Analytica row, Predicted=[0.09050117]\n",
            "X=UPDATE 1-Cisco offers early retirement as it revamps, Predicted=[0.00424007]\n",
            "X=China to Apple's Cook: we will boost intellectual property rights - Xinhua, Predicted=[0.17604296]\n",
            "X=Facebook, Google, Twitter urged to do more to combat fake news in EU, Predicted=[0.07311153]\n",
            "X=SK Hynix, LG Display tie fortunes to Apple as economy slows, Predicted=[0.00152987]\n",
            "X=UPDATE 1-Apple targets shipping date for electric car for 2019 - WSJ, Predicted=[0.01302882]\n",
            "X=Apple infringes on Motorola Mobility patent-ITC judge, Predicted=[0.15959634]\n",
            "X=UPDATE 2-Apple infringes on Motorola Mobility patent-ITC judge, Predicted=[0.09519423]\n",
            "X=This is Apple’s new ‘spaceship’ campus (video), Predicted=[0.18000643]\n",
            "X=Apple unveils new iPad, updates Mini ahead of video streaming launch, Predicted=[0.00187094]\n",
            "X=Facebook hits 2 billion-user mark, doubling in size since 2012, Predicted=[0.0635459]\n",
            "X=Independent Syrian dissident Makdissi says will not attend first round of peace talks: Facebook, Predicted=[0.2186209]\n",
            "X=UPDATE 1-Apple China Mobile launch could spark costly subsidy war, Predicted=[0.00790521]\n",
            "X=Facebook says it is taking down more material about ISIS, al-Qaeda, Predicted=[0.02281162]\n",
            "X=RPT-Sharper display Apple iPad Mini faces delay-sources, Predicted=[0.00039685]\n",
            "X=UPDATE 2-Cisco launches US$8bn bond deal, Predicted=[0.09594037]\n",
            "X=UPDATE 2-Apple loses a U.S. appeals bid in Samsung patent fight, Predicted=[0.07071948]\n",
            "X=Trump warns Google, Facebook, Twitter to be careful, Predicted=[0.00782138]\n",
            "X=U.S. watchdogs accuse Chinese Apple supplier of unsafe work conditions, Predicted=[0.05204951]\n",
            "X=Analysis: Apple aims for more control, less cost as it accelerates in chip design, Predicted=[5.730958e-06]\n",
            "X=Juniper seeks to out-virtualize Cisco in data centers, Predicted=[0.00056641]\n",
            "X=UPDATE 1-Apple cuts MacBook prices by up to $200, Predicted=[0.19104859]\n",
            "X=Cisco wins EU approval for NDS acquisition, Predicted=[0.00090917]\n",
            "X=TD Ameritrade taps Apple Pay for instant fund transfers to accounts, Predicted=[0.00903187]\n",
            "X=UPDATE 1-US jury orders Samsung to pay Apple $1.05 billion, Predicted=[0.07313485]\n",
            "X=Coming soon to Facebook: more action, battle games, Predicted=[0.12524924]\n",
            "X=Apple buys back $14 bln of its stock since Q1 results - WSJ, Predicted=[0.00223776]\n",
            "X=UPDATE 1-Cisco wins EU approval for $5 bln NDS acquisition, Predicted=[0.00022662]\n",
            "X=Facebook unveils new VR headset 'Oculus Quest' for $399, Predicted=[0.04654009]\n",
            "X=TEXT-S&P: Cisco ratings unaffected by dividend increase, Predicted=[0.68273693]\n",
            "X=ITC to review Apple patent complaint against Samsung, Predicted=[0.01845254]\n",
            "X=Imagination Tech up for sale after bruising Apple fight, Predicted=[0.26660106]\n",
            "X=CORRECTED-UPDATE 2-Apple expected to unveil new iPhone models on Sept. 12, Predicted=[0.00322506]\n",
            "X=CORRECTED-UPDATE 4-Apple's new finance steward Maestri takes over $160 bln cash haul, Predicted=[0.01254539]\n",
            "X=CNBC Anchor Accused of Outing Apple CEO, But Did He?, Predicted=[0.07446821]\n",
            "X=US STOCKS-Wall Street flat as Apple gains, Boeing weighs, Predicted=[0.44487432]\n",
            "X=US STOCKS-Cisco, Wal-Mart lead broad selloff on Wall Street, Predicted=[0.18533619]\n",
            "X=Facebook changes algorithm to curb spammers, Predicted=[0.2698305]\n",
            "X=German justice minister takes aim at Facebook over racist posts, Predicted=[0.01928777]\n",
            "X=Turkish president rejects Facebook, YouTube ban over wiretaps, Predicted=[0.02470072]\n",
            "X=US STOCKS-Wall St set to open higher on Apple, euro zone strength, Predicted=[0.00340183]\n",
            "X=German regulator well suited to investigate Facebook: EU's Vestager, Predicted=[0.18965895]\n",
            "X=Facebook backs U.S. regulation of internet political ads, Predicted=[0.00942089]\n",
            "X=Cisco revenue and earnings beat Wall Street estimates, Predicted=[0.41959542]\n",
            "X=Apple looking at cars, medical devices for growth: report, Predicted=[0.04063608]\n",
            "X=REFILE-UPDATE 2-Apple unveils new iPad, updates Mini ahead of video streaming launch, Predicted=[0.00165575]\n",
            "X=UPDATE 3-Cisco Q2 outlook beats cautious Street view, Predicted=[0.05930393]\n",
            "X=UPDATE 1-Apple developer site shuttered four days after attack, Predicted=[0.00034571]\n",
            "X=EU's Vestager says not precluding Facebook case in future, Predicted=[0.06946486]\n",
            "X=U.S. judge orders Apple to tell Samsung details of HTC deal, Predicted=[0.01145042]\n",
            "X=UPDATE 2-U.S. judge will not suspend Apple Siri patent case vs. Samsung, Predicted=[0.01259281]\n",
            "X=Apple to pay Italy 318 mln euros, sign tax deal - source, Predicted=[0.07692152]\n",
            "X=FEATURE-As global consumers shop mobile, Apple outshines rivals, Predicted=[0.03234889]\n",
            "X=Spotify files EU antitrust complaint against Apple, Predicted=[0.00020608]\n",
            "X=Apple withdraws from green gadget certification program, Predicted=[0.06525852]\n",
            "X=MARKET PULSE-Apple, Avon, Mastercard, Digital River, True Religion, Predicted=[0.02372365]\n",
            "X=UPDATE 1-Apple has top US smartrphone, passes Google -research firm, Predicted=[0.22265181]\n",
            "X=UPDATE 1-Facebook tests augmented reality ads on News Feed in U.S., Predicted=[0.01101552]\n",
            "X=US STOCKS-Wall St rebounds ahead of Fed meeting; Apple weighs on techs, Predicted=[0.0909518]\n",
            "X=BRIEF-Facebook announces updates to clicks and impression reporting, Predicted=[0.14313154]\n",
            "X=Greenlight's Einhorn says \"chatted\" with Apple's Cook, Predicted=[0.06083066]\n",
            "X=Cisco snaps up stealthy security startup Virtuata, Predicted=[0.13722579]\n",
            "X=Facebook report says it adds more than $200 billion to global economy, Predicted=[0.00161351]\n",
            "X=Apple launches $300 million green energy fund in China, Predicted=[0.00438113]\n",
            "X=Apple shares dive; rare revenue warning drags global markets, Predicted=[0.01604124]\n",
            "X=Cisco loses court challenge to Microsoft's takeover of Skype, Predicted=[0.12403688]\n",
            "X=MARKET PULSE-BlackBerry, Apple, Yelp, Cardiome, Dreamworks, Exone, Predicted=[0.05554296]\n",
            "X=Wall Street ends flat as banks gain, Apple drags, Predicted=[0.15094537]\n",
            "X=RPT-U.S. takes Apple to trial over e-books price-fixing, Predicted=[0.06213709]\n",
            "X=Calif. court finds for Apple in credit card privacy suit, Predicted=[4.006205e-05]\n",
            "X=EU Commission set to approve Cisco's NDS takeover, Predicted=[0.07868546]\n",
            "X=UPDATE 1-Apple Card will not allow purchase of cryptocurrencies, Predicted=[0.0059043]\n",
            "X=UPDATE 1-Microsoft to struggle vs Apple, Google in tablets, Predicted=[0.01512581]\n",
            "X=Canada, B.C. in joint investigations of Facebook, AggregateIQ, Predicted=[0.131148]\n",
            "X=Breakingviews - Apple’s new innovation: tap fear as well as greed, Predicted=[0.08537392]\n",
            "X=EMC follows Apple by selling bonds to benefit shareholders, Predicted=[0.16200046]\n",
            "X=Apple counts down to launch of smartwatch, bigger iPhone, Predicted=[0.00038603]\n",
            "X=UPDATE 1-Cook says Apple Watch will replace car keys - Telegraph, Predicted=[0.03506065]\n",
            "X=UPDATE 1-Cisco, EMC name Capellas to head joint ventures, Predicted=[0.20202652]\n",
            "X=Apple, luxury brands drop prices in China on VAT cut, Predicted=[0.36025828]\n",
            "X=US STOCKS-Apple boosts Nasdaq and Dow, S&P little changed, Predicted=[0.29604566]\n",
            "X=Highlights: Facebook's Zuckerberg faces EU Parliament grilling, Predicted=[0.11948582]\n",
            "X=At Facebook, public funds join push to remove Zuckerberg as chairman, Predicted=[0.00149627]\n",
            "X=Apple sees sales largely below Wall St as iPhone demand weak, Predicted=[0.0291715]\n",
            "X=Facebook, Google, Amazon face another House inquiry: Bloomberg, Predicted=[0.00922315]\n",
            "X=EU antitrust chief hopes to settle Apple case soon, Predicted=[0.00058986]\n",
            "X=BRIEF-Cisco Systems shares up 0.5 percent after the bell following results, Predicted=[0.01169547]\n",
            "X=Apple aims for more control, less cost as it accelerates in chip design, Predicted=[1.0295884e-05]\n",
            "X=UPDATE 1-Apple's latest iPad makes low-key debut in China, Predicted=[0.02005414]\n",
            "X=INSIGHT-Trigger finger: Apple fires biometrics into the mainstream, Predicted=[0.10397004]\n",
            "X=Airbnb poaches Brazilian Facebook executive in Olympic push, Predicted=[0.03406787]\n",
            "X=Cleveland police widen manhunt for Facebook murder suspect, Predicted=[0.20068736]\n",
            "X=Apple supplier Biel Crystal violates workers rights: HK activists, Predicted=[0.15475418]\n",
            "X=FTC approves final settlement with Facebook over privacy issues, Predicted=[0.01818912]\n",
            "X=Instant View: Facebook ad revenue climbs as mobile expands, Predicted=[0.77982557]\n",
            "X=Apple names long-time exec as new India sales head - source, Predicted=[0.00050032]\n",
            "X=Facebook to develop app for television set-top boxes - WSJ, Predicted=[0.04191451]\n",
            "X=New Zealand privacy commissioner joins criticism of Facebook data handling, Predicted=[0.00266339]\n",
            "X=UPDATE 2-Apple's rivals swoop as iPhone China sales flag, Predicted=[0.16289511]\n",
            "X=CORRECTED-UPDATE 3-Microsoft's new Surface tablet takes aim at Apple's MacBook, Predicted=[0.00065605]\n",
            "X=UPDATE 2-Facebook launches news app 'Notify' in U.S., Predicted=[0.06570391]\n",
            "X=Qualcomm hangs on to most Apple gains after earnings report, Predicted=[0.27187508]\n",
            "X=Germany takes on Facebook in competition probe, Predicted=[0.6318791]\n",
            "X=Apple's Cook to propose tax changes at congressional hearing: report, Predicted=[0.47878498]\n",
            "X=Schibsted's revenue outlook not threatened by Facebook launch -CFO, Predicted=[0.24284741]\n",
            "X=German watchdog probes Apple and Amazon audiobooks agreement, Predicted=[0.0794348]\n",
            "X=Apple's Cook fields his A-team before a wary Street, Predicted=[0.06613213]\n",
            "X=What would the Dow look like if it included Apple?, Predicted=[0.00161517]\n",
            "X=Facebook to face U.S. class action over children's online purchases, Predicted=[0.02464532]\n",
            "X=Cisco shelves home telepresence amid company revamp, Predicted=[0.15123385]\n",
            "X=MARKET PULSE-Apple, Harvest Natural, Renesola, Ventrus, Avanir, Predicted=[6.984306e-05]\n",
            "X=RPT-UPDATE 2-Apple shares dive; rare revenue warning drags global markets, Predicted=[0.01210762]\n",
            "X=U.S. appeals court revives Apple patent claims vs. Google, Predicted=[0.0910325]\n",
            "X=UPDATE 1-Dutch court: Facebook must turn over user data in sex video case, Predicted=[0.0050278]\n",
            "X=Brazil fines Facebook $1.6 million for improper sharing of user data, Predicted=[0.03061351]\n",
            "X=FINRA investigating Rochdale trades in Apple shares - WSJ, Predicted=[0.08844829]\n",
            "X=Apple customers discover unexpected flexibility in iPhone 6 Plus, Predicted=[0.42430753]\n",
            "X=Facebook revenue jumps 47 pct on soaring mobile ad sales, Predicted=[0.06542317]\n",
            "X=Facebook to add 3,000 workers to monitor live video, other posts, Predicted=[0.02440407]\n",
            "X=UPDATE 4-Apple opposes order to help unlock California shooter's phone, Predicted=[0.272129]\n",
            "X=ANALYSIS-Cisco needs more than a quick fix, Predicted=[0.16606201]\n",
            "X=UPDATE 1-Apple, Google settle smartphone patent litigation, Predicted=[0.5016771]\n",
            "X=UPDATE 2-U.S. judge rejects Apple bid for injunction against Samsung, Predicted=[0.07822496]\n",
            "X=UPDATE 5-Facebook overhauls design as it pivots to private messaging, Predicted=[0.01345096]\n",
            "X=UPDATE 1-Apple hits record high but leaves some investors in dust, Predicted=[0.1608593]\n",
            "X=German court rules Facebook use of personal data illegal, Predicted=[0.07458024]\n",
            "X=REFILE-Cisco acquires minority stake in Russia's Parallels, Predicted=[0.00621039]\n",
            "X=Facebook shares drop as data privacy fallout spreads, Predicted=[0.09355327]\n",
            "X=Amazon strikes deal with Apple to sell iPhones, iPads, Predicted=[0.02318572]\n",
            "X=UPDATE 1-Facebook, Twitter compete for live TV rights -NY Post, Predicted=[0.08676857]\n",
            "X=CORRECTED-UPDATE 9-Apple launches $999 iPhone X in bid to regain innovation lead, Predicted=[0.29908052]\n",
            "X=BRIEF-Facebook spokesman on producing original TV-quality shows says co \"focused on episodic shows\", Predicted=[0.01209774]\n",
            "X=Facebook loses first round in suit over storing biometric data, Predicted=[0.00231627]\n",
            "X=Facebook increases parental control features in Messenger Kids app, Predicted=[0.00167747]\n",
            "X=RPT-In search of the missing 'i' in Apple's Watch, Predicted=[0.01560841]\n",
            "X=Exclusive: Microsoft's digital assistant to head to Android, Apple devices, Predicted=[0.10114457]\n",
            "X=UPDATE 3-Facebook beats profit estimates, sets aside $3 bln for privacy penalty, Predicted=[0.00302108]\n",
            "X=Apple steps up labor audits, finds underage workers, Predicted=[0.01124834]\n",
            "X=UPDATE 1-Icahn says bought more Apple stock as shares fell -CNBC, Predicted=[0.157104]\n",
            "X=Facebook director Andreessen sells $54 million in shares to cover taxes, Predicted=[0.00381159]\n",
            "X=Fusion-io may be in supply deal talks with Cisco: Piper Jaffray, Predicted=[0.25272933]\n",
            "X=Exclusive: U.S. FTC asking Apple about health data protection, Predicted=[0.10166983]\n",
            "X=Google, Facebook executives meet with UK government over no-deal Brexit: Telegraph, Predicted=[0.02704857]\n",
            "X=US STOCKS SNAPSHOT-Cisco leads Wall Street higher at open, Predicted=[0.12148459]\n",
            "X=Judge gives Apple reprieve in patent case versus Google, Predicted=[0.16778997]\n",
            "X=CORRECTED-Troubled Apple supplier Japan Display to seek funding, shares surge, Predicted=[0.00027552]\n",
            "X=Global cloud data traffic growing rapidly - Cisco, Predicted=[0.11879445]\n",
            "X=Some consumers say Apple is losing its 'cool' factor, Predicted=[0.12340409]\n",
            "X=Factbox: Six things Facebook CEO Mark Zuckerberg told staff in leaked audio, Predicted=[0.00313351]\n",
            "X=As iPhone sales stagnate, services promise growth for Apple, Predicted=[0.05653298]\n",
            "X=Breakingviews - Privacy builds a wider moat for Apple’s margins, Predicted=[0.08448693]\n",
            "X=Taiwan's Quanta to start mass production of Apple's smartwatch in July: source, Predicted=[0.00402613]\n",
            "X=Analysis: Apple's gains make some mutual funds riskier, Predicted=[0.66799945]\n",
            "X=Cochlear unveils hearing implants that work directly with Apple's iPhone, Predicted=[0.04936225]\n",
            "X=INSIGHT-Apple, Google, Samsung vie to bring health apps to wearables, Predicted=[0.066471]\n",
            "X=Apple's iPad Air is a major improvement, but pricier than competitors - reviews, Predicted=[0.82622284]\n",
            "X=German court ruling threatens Apple's video services, Predicted=[0.00480358]\n",
            "X=Roku raises $60M to battle Xbox One, Apple TV, & others vying for the living room, Predicted=[0.1316571]\n",
            "X=Apple cuts production orders for all three new iPhone models: WSJ, Predicted=[0.00676688]\n",
            "X=BRIEF-Apple introduces iPhone 5, Predicted=[0.08607993]\n",
            "X=Nikkei snaps six-day winning streak as Apple-related shares tumble, Predicted=[0.01381686]\n",
            "X=Despite sanctions, Apple gear booms in Iran, Predicted=[0.0088604]\n",
            "X=Facebook's Instagram rolls out new 'carousel' ads, Predicted=[0.02939279]\n",
            "X=UPDATE 2-IPhone 5 hits China as Apple shares slide further, Predicted=[0.08076987]\n",
            "X=Facebook mobile users jumped around 20 percent in U.S., UK in June, Predicted=[0.00453363]\n",
            "X=Facebook founder Zuckerberg's social media accounts restored after alleged hack, Predicted=[0.02347773]\n",
            "X=Facebook executives coach Brazil politicians before Internet vote, Predicted=[0.17874436]\n",
            "X=Apples are top fruit for U.S. kids, Predicted=[0.1833339]\n",
            "X=The numbers on the Facebook earnings revisions, Predicted=[0.23750421]\n",
            "X=U.S. judge says Apple e-books antitrust monitor's term to end, Predicted=[0.00315931]\n",
            "X=Cisco picks up where Starent left off, Predicted=[0.4196482]\n",
            "X=Cisco slashes sales outlook, enters new era, Predicted=[0.12535647]\n",
            "X=UPDATE 2-Facebook.com up for most users after outage, Predicted=[0.22128394]\n",
            "X=CORRECTED-YOUR MONEY-Identity thieves go shopping for Apple products, Predicted=[0.00640985]\n",
            "X=BRIEF-Moody's: Cisco's second-quarter results don't impact rtg, Predicted=[0.04587501]\n",
            "X=U.S. judge sends Apple, Samsung to settlement talks, Predicted=[0.33867517]\n",
            "X=Seoul shares end down as foreign selling, Apple suppliers weigh, Predicted=[0.05041664]\n",
            "X=Samsung files redacted copy of Apple-HTC deal in U.S. court, Predicted=[0.21580185]\n",
            "X=Germany alarmed by Facebook data abuse reports, lawmakers demand answers, Predicted=[0.05871506]\n",
            "X=EU's Vestager seeking details on Apple's recent tax set-up, Predicted=[0.00136863]\n",
            "X=Senator wants Apple to answer questions on slowing iPhones, Predicted=[0.5607996]\n",
            "X=Wall Street gains as Apple, tech rebound; oil lifts energy shares, Predicted=[0.33358496]\n",
            "X=Apple supplier shares slide after Trump tells tech giant to make products in US, Predicted=[0.00747848]\n",
            "X=UPDATE 2-Facebook buys Microsoft ad technology platform, Predicted=[0.04272085]\n",
            "X=Qualcomm's profit forecast disappoints as Apple battle takes toll, Predicted=[0.5383403]\n",
            "X=Steve Jobs shouldn't influence upcoming Apple/Samsung trial: judge, Predicted=[0.08246013]\n",
            "X=UPDATE 4-Facebook allows U.S. political candidates to run sponsored content, Predicted=[0.08857093]\n",
            "X=Facebook adds Snapchat-like camera filters to Instagram, Predicted=[0.3772946]\n",
            "X=UPDATE 2-Falling Apple hits TD Ameritrade's margin loan business, Predicted=[0.0525856]\n",
            "X=Skype names senior Cisco exec Bates as CEO, Predicted=[0.00832128]\n",
            "X=US STOCKS-Apple stock's continuing decline drags Wall St lower, Predicted=[0.0883319]\n",
            "X=UPDATE 1-Prominent attorney named as monitor in Apple e-books case, Predicted=[0.11369772]\n",
            "X=German lawmakers to grill Facebook manager on data privacy, Predicted=[0.07550082]\n",
            "X=Bain adds Apple for last-minute $18 billion Toshiba chip unit bid: sources, Predicted=[0.622279]\n",
            "X=MARKET PULSE-Apple, BlackBerry, GE, GM, Groupon, J.C. Penney, Yongye, Predicted=[0.05099734]\n",
            "X=Apple hopes Beats co-founder's 'ear' can help amid 'dying' music industry, Predicted=[0.08828548]\n",
            "X=Facebook says government requests for account data rise 27 percent, Predicted=[0.03881931]\n",
            "X=Analysis: Facebook stock's bad start reins in short sellers, Predicted=[0.23067015]\n",
            "X=Apple issues $1.5 bln in green bonds in first sale, Predicted=[0.0531493]\n",
            "X=Facebook to start using WhatsApp data for targeted advertising, Predicted=[0.02313164]\n",
            "X=US STOCKS-Wall St dips after record highs, Apple jumps, Predicted=[0.00433668]\n",
            "X=Apple estimates $2.525 bln damages in Samsung battle, Predicted=[0.04368671]\n",
            "X=Israeli start-up says Apple copied its patented smartphone camera technology, Predicted=[0.08382675]\n",
            "X=U.S. appeals court upholds Apple e-book settlement, Predicted=[0.1214249]\n",
            "X=Analysis: Apple's new iMac a turning point for hybrid drives, Predicted=[0.04270972]\n",
            "X=Apple 'privacy czars' grapple with internal conflicts over user data, Predicted=[0.06509327]\n",
            "X=Factbox: Microsoft's Surface takes on Apple's iPad, Predicted=[0.16431302]\n",
            "X=Facebook to halt tracking non-Facebook users in Belgium, Predicted=[0.16998771]\n",
            "X=Facebook releases new privacy safeguards after ceding to pressure from advertisers, Predicted=[0.02443209]\n",
            "X=US STOCKS-Wall St falls as Cisco forecast hits sentiment, Predicted=[0.20906787]\n",
            "X=Facebook's Zuckerberg confident of stopping interference in 2020 campaign, Predicted=[0.00597926]\n",
            "X=Wall Street flat after rally; Apple biggest company ever, Predicted=[0.94454736]\n",
            "X=Exclusive: Toshiba tells banks chip deal delayed as Apple yet to approve, Predicted=[0.09915965]\n",
            "X=Apple supplier AAC Technologies denies allegations of 'dubious accounting', Predicted=[0.06255614]\n",
            "X=GT Advanced bankruptcy offers warning to Apple suppliers, Predicted=[0.746698]\n",
            "X=Apple's iPhone 8 launch in Sydney sees bleak turnout, Predicted=[0.01865326]\n",
            "X=US STOCKS-S&P 500, Nasdaq dip on Yellen's comments; Apple up late, Predicted=[0.17923081]\n",
            "X=UPDATE 3-Cisco results top estimates, CEO says gaining share, Predicted=[0.02023787]\n",
            "X=Facebook's WhatsApp acquisition now has price tag of $22 billion, Predicted=[0.00263459]\n",
            "X=Apple supplier Wistron nears land deal in India: sources, Predicted=[0.06725178]\n",
            "X=Facebook tackles stock price complaints in first shareholder meeting, Predicted=[0.02860696]\n",
            "X=RPX buys Apple-backed Rockstar patents for $900 million, Predicted=[0.02937276]\n",
            "X=Irish cabinet delays decision on Apple tax appeal, Predicted=[0.10241446]\n",
            "X=Who's tracking you? Facebook users to get more control over data, Predicted=[0.00426189]\n",
            "X=As global consumers shop mobile, Apple outshines rivals, Predicted=[0.03107555]\n",
            "X=US STOCKS SNAPSHOT-S&P hits 4-mo high on Germany, Cisco, Predicted=[0.75341153]\n",
            "X=Juez de ITC dice que Samsung infringió parte clave de patente de Apple, Predicted=[0.12992756]\n",
            "X=MARKET PULSE- Apple, FedEx, Tesla, Aruba, Five Below, Adobe, Predicted=[0.00066322]\n",
            "X=Exclusive: Foxconn to begin assembling top-end Apple iPhones in India in 2019 - source, Predicted=[0.0018127]\n",
            "X=UPDATE 1-Facebook fined 150,000 euros by French data watchdog, Predicted=[0.01863306]\n",
            "X=Cisco shares up sharply in relief rally after earnings, Predicted=[0.7585023]\n",
            "X=Apple loses another copyright lawsuit in China-Xinhua, Predicted=[0.00609722]\n",
            "X=Facebook restores service after outage in many countries, Predicted=[0.14019856]\n",
            "X=US STOCKS-Wall St rebounds after selloff; Apple weighs on techs, Predicted=[0.09488975]\n",
            "X=India seeks Facebook's response over reports of data sharing without consent, Predicted=[0.00107166]\n",
            "X=UPDATE 2-Apple price targets hiked as iPhone sales soar, Predicted=[0.01327418]\n",
            "X=Cisco jumps into electric cars via Ecotality partnership, Predicted=[0.02622898]\n",
            "X=Early Facebook mutual fund buyers still in money, Predicted=[0.00055004]\n",
            "X=Apple, Google, dozens of others urge surveillance disclosures, Predicted=[0.04487614]\n",
            "X=Tesla years away from its goal of reaching Apple's market cap, Predicted=[0.38729638]\n",
            "X=Shareholders sue Facebook, NYSE comes calling, Predicted=[0.09587903]\n",
            "X=COLUMN-The weird proviso in Apple's e-books settlement: Frankel, Predicted=[0.01797926]\n",
            "X=UPDATE 2-Apple's Cook optimistic that apps pulled in China will be back, Predicted=[0.01140865]\n",
            "X=Facebook still evasive over Cambridge Analytica and fake news: UK lawmakers, Predicted=[0.00720098]\n",
            "X=Exclusive: Apple, Samsung chiefs disagree on patent values: source, Predicted=[0.27117968]\n",
            "X=Apple's new iPhone faces challenge measuring up in China, India, Predicted=[0.05347308]\n",
            "X=Insight: On Facebook, app makers face a treacherous path, Predicted=[0.05180328]\n",
            "X=UPDATE 1-Wal-Mart selling Apple's iPhone 5 at big discount, Predicted=[0.33816123]\n",
            "X=Russia Facebook ads targeted more than two states: Senate intelligence chair, Predicted=[0.00091851]\n",
            "X=Factbox: Apple, Amazon, Google and tax avoidance schemes, Predicted=[0.09566627]\n",
            "X=EU's Vestager backs Twitter for banning political ads, berates Facebook, Predicted=[0.00059636]\n",
            "X=UPDATE 3-Apple refused China request for source code in last two years -lawyer, Predicted=[0.01073186]\n",
            "X=Apple CEO says had \"very open\" privacy talks in China - Xinhua, Predicted=[0.28525168]\n",
            "X=Facebook to scale up free mobile Internet service to boost usage, Predicted=[0.04148962]\n",
            "X=Instant View: Apple, Foxconn promise better working conditions, Predicted=[0.0907941]\n",
            "X=Breakingviews - Apple acquires goodwill of flag-waving publishers, Predicted=[0.00963655]\n",
            "X=Breakingviews - Apple’s pricey strategy carries risk, Predicted=[0.11971624]\n",
            "X=PwC had cleared Facebook's privacy practices in leak period, Predicted=[0.19304322]\n",
            "X=EU ruling on Apple's Irish tax is 'total political crap': CEO, Predicted=[0.03911127]\n",
            "X=Facebook wows Wall Street with mobile ads growth, Predicted=[0.04461184]\n",
            "X=Apple, Google routinely asked to help government access devices: ACLU, Predicted=[0.07586396]\n",
            "X=US STOCKS-Wall St gains with Apple, easing trade concerns, Predicted=[0.2272933]\n",
            "X=Apple rolls out iPad mini in Asia to shorter lines, Predicted=[0.00103061]\n",
            "X=EU unfair practices digital rules put spotlight on Google, Amazon, Facebook, Predicted=[0.03591144]\n",
            "X=Activist mgr sells Cisco shares on rights concerns, Predicted=[0.00439256]\n",
            "X=U.S. stock index futures fall; Cisco eyed, Predicted=[0.00138516]\n",
            "X=S&P 500 tech index edges toward $5 trillion while Apple steals spotlight, Predicted=[0.015082]\n",
            "X=Corrected: Analysis: Cisco spooks, but IT spending seen on mend, Predicted=[0.06129501]\n",
            "X=Europe's top court sets date for opinion on Facebook privacy, Predicted=[0.10144746]\n",
            "X=Facebook buys video startup QuickFire, Predicted=[0.14829998]\n",
            "X=Box names senior Cisco executive to board of directors ahead of IPO, Predicted=[0.005205]\n",
            "X=US STOCKS-Wall St near flat; Apple off, but momentum shares rebound, Predicted=[0.08920727]\n",
            "X=UPDATE 2-Facebook's WhatsApp allows users to control who can add them to group chats, Predicted=[0.00268726]\n",
            "X=Facebook says has made headway against abuses ahead of India election, Predicted=[0.08266471]\n",
            "X=UPDATE 1-Facebook says target of sophisticated hacking attack, Predicted=[0.00360912]\n",
            "X=Facebook, Microsoft launch contest to detect deepfake videos, Predicted=[0.10858456]\n",
            "X=Apple Pay growth slows a year after launch - research, Predicted=[0.00819317]\n",
            "X=Families of San Bernardino shooting sue Facebook, Google, Twitter, Predicted=[0.42877474]\n",
            "X=Cisco develops VPN client for PCs, smartphones, Predicted=[0.18875858]\n",
            "X=UPDATE 1-Apple set for slowest ever iPhone sales growth, Predicted=[0.06577665]\n",
            "X=Facebook has not fully answered questions on data privacy -UK lawmakers, Predicted=[0.04375967]\n",
            "X=UPDATE 2-Apple in talks to launch online TV service - WSJ, Predicted=[0.05151334]\n",
            "X=Facebook to unveil new versions of Portal video chat devices this autumn, Predicted=[0.04646378]\n",
            "X=Apple cooperation with antitrust monitor down 'sharply' -report, Predicted=[0.00219183]\n",
            "X=FINRA investigating Rochdale trades in Apple shares: WSJ, Predicted=[0.08844829]\n",
            "X=Facebook, Twitter support Apple on encryption dispute with FBI, Predicted=[0.02672683]\n",
            "X=Facebook to check Indian political ads in build-up to vote, Predicted=[0.02111609]\n",
            "X=Facebook's slide stalls Intel-led advance on Wall Street, Predicted=[0.09388044]\n",
            "X=UPDATE 3-Apple to pay Italy 318 mln euros, sign tax deal - source, Predicted=[0.0555984]\n",
            "X=Microsoft, Apple among companies urging U.S. Supreme Court to weigh gay workers' rights, Predicted=[0.00111281]\n",
            "X=Hedge funds tune into Pandora, discard Apple in third-quarter, Predicted=[0.00799841]\n",
            "X=US STOCKS-Wall St rises as Cisco lags, Predicted=[0.22278266]\n",
            "X=UPDATE 1-Cisco rival Arista Networks files for IPO, Predicted=[0.4230347]\n",
            "X=Apple Inc bans Alex Jones app for 'objectionable content', Predicted=[0.10849717]\n",
            "X=Apple, Goldman Sachs to jointly launch credit card paired with iPhone: WSJ, Predicted=[0.00078607]\n",
            "X=Apple, Congress spar over taxes ahead of Tuesday hearing, Predicted=[0.39917848]\n",
            "X=Insight: Trigger finger - Apple fires biometrics into the mainstream, Predicted=[0.10397004]\n",
            "X=Startups must lower hopes after Facebook: Paul Graham, Predicted=[0.01462857]\n",
            "X=UPDATE 1-Facebook will change ad service to settle lawsuit, Predicted=[0.59717786]\n",
            "X=DoubleLine's Gundlach says Apple may drop to $425/share: CNBC, Predicted=[0.01998406]\n",
            "X=Facebook, Google, Twitter asked to testify on Russian meddling, Predicted=[0.06493892]\n",
            "X=Facebook's director in spotlight after cashing out, Predicted=[0.7504354]\n",
            "X=US STOCKS-Wall St flat, Apple helps techs to rise, Predicted=[0.00324907]\n",
            "X=US STOCKS-Apple bumps up futures ahead of Fed decision, Predicted=[0.8399856]\n",
            "X=Spotify says growth has quickened since Apple Music's launch, Predicted=[8.255524e-05]\n",
            "X=Analysis: Cisco's loss is Palo Alto Networks' gain, Predicted=[0.3790457]\n",
            "X=US STOCKS-Apple leads Wall Street rally as inflation fears ease, Predicted=[0.88589984]\n",
            "X=Cisco fourth-quarter results beat estimates, Predicted=[0.10284558]\n",
            "X=Facebook spends $22.6 million to keep Mark Zuckerberg safe, Predicted=[0.00143762]\n",
            "X=Cisco’s Connected Cities Look for Business Models, Predicted=[0.10093648]\n",
            "X=Apple, Android app makers cool to Microsoft overtures, Predicted=[0.15561861]\n",
            "X=Facebook to build data center in Denmark: report, Predicted=[0.11878836]\n",
            "X=Analysis: Dell challenges Cisco with networking deal, Predicted=[0.02452329]\n",
            "X=REFILE-WRAPUP 1-Apple still draws crowds in Asia with new iPhone 5, Predicted=[0.01175823]\n",
            "X=Apple offers refund to Australian buyers of new iPad, Predicted=[0.07572746]\n",
            "X=Israel investigating Facebook over privacy concerns, Predicted=[0.17040409]\n",
            "X=Trump dismisses Facebook ads controversy as part of 'Russia hoax', Predicted=[0.05322859]\n",
            "X=Apple sells over 5 million iPhone 5, supply constraints loom, Predicted=[0.00039138]\n",
            "X=UPDATE 1-Apple CEO says optimistic on U.S.-China trade talks, Predicted=[0.66356486]\n",
            "X=U.S. lawmakers say Facebook steps to tackle 'deepfake' videos not adequate, Predicted=[0.3722327]\n",
            "X=US STOCKS-Wall St slips with Apple as 'cliff' looms, Predicted=[0.00475892]\n",
            "X=India introduces net neutrality rules barring Facebook's free Internet, Predicted=[0.067397]\n",
            "X=UPDATE 2-Apple's Jobs was open to making smaller iPad-exec, Predicted=[0.00817172]\n",
            "X=UPDATE 1-Apple deepens enterprise push with Deloitte partnership, Predicted=[0.03151313]\n",
            "X=Qualcomm sues Apple for breach of software license contract, Predicted=[0.00999991]\n",
            "X=Facebook's Sandberg sells $7.4 million in stock, Predicted=[0.00030598]\n",
            "X=More antitrust class actions on the way after Supreme Court’s Apple ruling?, Predicted=[0.0008958]\n",
            "X=Facebook's Zuckerberg seeks peace with telcos on Web-for-all push, Predicted=[0.01154858]\n",
            "X=UPDATE 1-Facebook, Yahoo tie up, settle lawsuits, Predicted=[0.0990703]\n",
            "X=Switzerland warns Facebook's Libra it will face extra scrutiny, Predicted=[0.00027345]\n",
            "X=UPDATE 11-Apple sees strong holiday sales, smooth sailing for iPhone X, Predicted=[0.17396504]\n",
            "X=US STOCKS-Wall St up on Apple, Caterpillar; Ukraine weighs, Predicted=[0.02600552]\n",
            "X=CORRECTED-RPT-UPDATE 3-Facebook confirms data sharing with Chinese companies, Predicted=[0.00311163]\n",
            "X=UPDATE 1-In China, cheap and cheerful phones outsmart Apple, Predicted=[0.05117736]\n",
            "X=Factbox - Apple's media ambition: Original shows, news subscription, Predicted=[0.01175741]\n",
            "X=Japan sets up working group on impact of Facebook's Libra ahead of G7, Predicted=[0.00958273]\n",
            "X=Apple praises French iPhone work before meeting tough-talking Macron, Predicted=[0.00122754]\n",
            "X=Apple unveils watch, larger iPhones in bid to retake innovation crown, Predicted=[0.01893151]\n",
            "X=Apple should do more to tackle in-app purchases problem -EU, Predicted=[0.4567359]\n",
            "X=Apple cuts memory chip order to Samsung for new iPhone-source, Predicted=[0.0166079]\n",
            "X=US STOCKS-Apple's gains lift tech in quiet day before jobs data, Predicted=[0.5692846]\n",
            "X=From Apple to Zynga: Eight tales of missing the investment trigger, Predicted=[0.04379752]\n",
            "X=$5.7 billion wiped off European tech shares after Apple outlook disappoints, Predicted=[0.61477906]\n",
            "X=Apple targets shipping date for electric car for 2019: WSJ, Predicted=[0.01037149]\n",
            "X=US STOCKS-Wall Street flat, Apple hits record high, Predicted=[0.13144918]\n",
            "X=Dow closes at record but Facebook drags on S&P, Nasdaq, Predicted=[0.11656538]\n",
            "X=UPDATE 1-Four Apple contractors accuse Qualcomm of antitrust violations, Predicted=[0.14901905]\n",
            "X=UPDATE 4-Facebook says likely Russian-based operation funded U.S. ads with political message, Predicted=[0.00853695]\n",
            "X=UPDATE 13-Apple iPhones get bigger and pricier, Watch turns to health, Predicted=[0.48143566]\n",
            "X=Facebook shares to disappoint for several quarters: analyst, Predicted=[0.2561673]\n",
            "X=Facebook says removes 265 'fake accounts' linked to Israel, Predicted=[0.00586307]\n",
            "X=UPDATE 4-Cisco to cut workforce by 15 pct, sell factory to Hon Hai, Predicted=[0.04470588]\n",
            "X=CVS Health, Rite Aid block Apple Pay in their stores: NYT, Predicted=[0.2599113]\n",
            "X=Apple to set up R&D centre in Shenzhen, bolster China ties, Predicted=[0.08231223]\n",
            "X=UPDATE 1-Facebook gets rid of 'pseudoscience' ad-targeting category, Predicted=[0.07833759]\n",
            "X=Facebook and Twitter too late for China's Internet, Predicted=[0.0882357]\n",
            "X=Factbox: Facebook's post-IPO collapse by the numbers, Predicted=[0.11529534]\n",
            "X=UPDATE 4-Cisco leapfrogs rivals with faster router, Predicted=[0.3975922]\n",
            "X=Facebook Q4 revenue grows 49 percent, Predicted=[0.33194992]\n",
            "X=UPDATE 2-Apple's iPad to fall behind Android as tablet war grows, Predicted=[0.02984592]\n",
            "X=German lawyer makes hate-speech complaint against Facebook, Predicted=[0.00336712]\n",
            "X=UPDATE 1-Facebook to emphasize friends, not news, in series of changes, Predicted=[0.38088235]\n",
            "X=US STOCKS SNAPSHOT - Wall St at session highs on Merkel, Cisco, Predicted=[0.08261504]\n",
            "X=Apple CEO Cook meets Chinese officials, Predicted=[0.11981039]\n",
            "X=Privacy groups ask Facebook to withdraw proposed policy changes, Predicted=[0.01902862]\n",
            "X=Thai protesters take to Facebook to target businesses linked to PM, Predicted=[2.5671347e-05]\n",
            "X=Zuckerberg changes Facebook's focus to be more 'meaningful', Predicted=[0.00692654]\n",
            "X=UPDATE 3-Apple beats Wall Street, investors wary of China sales, Predicted=[0.09120592]\n",
            "X=MARKET PULSE-McDonald's, Apple, Model N, Neurocrine, HD Supply, AMD, Predicted=[0.09507635]\n",
            "X=Dialog sees double-digit growth, stable margins after Apple deal, Predicted=[0.02236023]\n",
            "X=China's Xiaomi hopes Mi 4 smartphone can take on Apple, Predicted=[0.00496723]\n",
            "X=Facebook's value slides by $10 billion; outlook unclear, Predicted=[0.74785465]\n",
            "X=UPDATE 1-Apple's ride to $1 trillion: The magic number that gets it there, Predicted=[0.25978062]\n",
            "X=Apple antitrust compliance off to a promising start: monitor, Predicted=[0.10086118]\n",
            "X=REFILE-Apple buys startup focused on lenses for AR glasses, Predicted=[0.05847828]\n",
            "X=Exclusive: Japan's antitrust watchdog considers action against Apple, carriers - sources, Predicted=[0.01857392]\n",
            "X=UPDATE 1-McAfee appoints former Cisco exec as CFO, Predicted=[0.06423385]\n",
            "X=Facebook 'likes' push Wall Street higher, Predicted=[0.09411564]\n",
            "X=Facebook's Zuckerberg questioned at trial over virtual-reality technology, Predicted=[0.673534]\n",
            "X=Apple's new San Francisco office could be a tool in tech talent wars, Predicted=[0.04910744]\n",
            "X=Wall Street struggles to find Facebook's worth, Predicted=[0.07442822]\n",
            "X=Apple sets October 23 event, smaller iPad expected, Predicted=[0.10724425]\n",
            "X=Facebook product chief Cox to exit as focus shifts to messaging, Predicted=[0.0029283]\n",
            "X=Wall Street mixed as Apple tumbles to two-year low, Predicted=[0.00012266]\n",
            "X=Vietnam urges Facebook to open office ahead of controversial cyber law, Predicted=[0.11354145]\n",
            "X=Chinese demand for Apple's big-screen phones fuel sales growth, Predicted=[0.03779719]\n",
            "X=Facebook probe by U.S. states expands to 47 attorneys general, Predicted=[0.11636375]\n",
            "X=Apple investors brace for more turbulence, Predicted=[0.280126]\n",
            "X=Insight: Apple, Android app makers cool to Microsoft overtures, Predicted=[0.19174848]\n",
            "X=Facebook to showcase new look for newsfeed on March 7, Predicted=[0.03551196]\n",
            "X=Apple's nine-year iPhone juggernaut stops with first sales decline, Predicted=[0.02656882]\n",
            "X=UPDATE 1-Apple supplier Wistron secures land to build new site in southern India, Predicted=[0.00501953]\n",
            "X=ITC judge sides with Apple against Google on phone patent, Predicted=[0.31587932]\n",
            "X=Facebook says no secondary offering to cover tax bill, Predicted=[0.00283723]\n",
            "X=Apple says security flaw could allow hackers to beat iPhone encryption, Predicted=[0.00521199]\n",
            "X=Facebook aims to take centerstage on Android phones, Predicted=[0.02898037]\n",
            "X=UPDATE 3-Icahn blasts Apple again, boosts position to $3 bln, Predicted=[0.05766496]\n",
            "X=Apple boss takes aim at 'weaponisation' of customer data, Predicted=[0.17908487]\n",
            "X=UPDATE 7-Cisco spooks Street again with weak outlook, margins, Predicted=[0.001966]\n",
            "X=CORRECTED-iPhone X seen taking Apple closer to trillion-dollar valuation, Predicted=[0.2934104]\n",
            "X=US STOCKS-S&P 500 drops for a 3rd day; Apple down after the bell, Predicted=[0.02358855]\n",
            "X=Facebook's Libra will be disruptive, says ECB's Coeure, Predicted=[0.03512314]\n",
            "X=Apple's iPhone sales and outlook lag targets, shares slide, Predicted=[0.42363232]\n",
            "X=Dips in Facebook and Apple leave Wall Street lower, Predicted=[0.08539523]\n",
            "X=Alibaba's Ma says open to working with Apple on payments, Predicted=[0.00496748]\n",
            "X=VW looks at Apple for electric-car design guidance, Predicted=[0.02482498]\n",
            "X=UPDATE 1-Waiter turns over $32,000 in cash left at Applebee's in California, Predicted=[0.6684567]\n",
            "X=UPDATE 5-Qualcomm sues Apple for breach of software license contract, Predicted=[0.01322218]\n",
            "X=US STOCKS-Futures flat with data on tap; Cisco jumps, Predicted=[0.05084468]\n",
            "X=Facebook's Libra cryptocurrency should be prevented: German finance minister, Predicted=[0.08060201]\n",
            "X=Warren Buffett tells CNBC he has not sold a share of Apple, Predicted=[0.07715848]\n",
            "X=BRIEF-Facebook says making advertising more transparent, not just for political ads‍​, Predicted=[0.16464813]\n",
            "X=Fidelity Contrafund loads up on Facebook and it pays off, Predicted=[0.00449155]\n",
            "X=Instant View: Apple's iPhone sales miss, Netflix's shaky outlook unnerve Street, Predicted=[0.02361806]\n",
            "X=Fed's Brainard: Facebook's Libra faces 'core set' of regulatory hurdles, Predicted=[0.16849744]\n",
            "X=BRIEF-Facebook approved May debut of photo-sharing app \"Colorful Balloons\" in China - NYT, Predicted=[0.03052672]\n",
            "X=Vodafone Group exits Facebook-led Libra currency group, Predicted=[0.01692173]\n",
            "X=US STOCKS-Apple demand worries weigh on S&P, Nasdaq, Predicted=[0.1263562]\n",
            "X=Pakistan seeks Facebook meeting, threatens action over blasphemy, Predicted=[0.00112164]\n",
            "X=EU plans tougher consumer laws for Facebook, Gmail, Predicted=[0.0158649]\n",
            "X=RPT-UPDATE 1-Apple has top US smartphone, passes Google -research firm, Predicted=[0.2834639]\n",
            "X=Analysis: Apple earnings need to overcome technical malaise, Predicted=[0.10012013]\n",
            "X=UPDATE 7-Top Apple supplier plans rare holiday as output fears rattle investors, Predicted=[0.11106546]\n",
            "X=France proposes age-of-consent rule for Facebook users, Predicted=[0.04766636]\n",
            "X=Facebook says WhatsApp deal cleared by FTC, Predicted=[0.71661013]\n",
            "X=US STOCKS-Wall St backs off record highs, Apple jumps, Predicted=[0.00150141]\n",
            "X=UPDATE 1-EU probes Motorola after Microsoft, Apple complaints, Predicted=[0.14828843]\n",
            "X=Facebook removes anti-quarantine protest events in some U.S. states, Predicted=[0.00788001]\n",
            "X=Facebook meeting shows challenges ahead for proposed 'oversight board', Predicted=[0.00535734]\n",
            "X=Chipmaker Dialog plunges further on fears Apple could go it alone, Predicted=[0.01100057]\n",
            "X=Historic Facebook debut falls flat, Predicted=[0.10756157]\n",
            "X=IPhone 5 hits China as Apple shares slide further, Predicted=[0.08043857]\n",
            "X=Facebook appoints Robert Kimmitt as lead independent director, Predicted=[0.823952]\n",
            "X=Facebook loses facial recognition appeal, must face privacy class action, Predicted=[0.0152407]\n",
            "X=UPDATE 2-Weak telecom spending, emerging markets weigh on Cisco forecast, Predicted=[0.06201216]\n",
            "X=Apple Pay to go live in China on Feb 18, Predicted=[0.25499094]\n",
            "X=MARKET PULSE-Google, Apple, Vimpelcom, Yum Brands, Predicted=[0.05024558]\n",
            "X=Facebook reports spike in government requests for data, Predicted=[0.00145461]\n",
            "X=ProSieben signs cooperation with Facebook to share clips on video platform, Predicted=[0.00027584]\n",
            "X=UPDATE 2-Apple likely to invoke free-speech rights in encryption fight, Predicted=[0.00076678]\n",
            "X=Apple to launch three iPhones with new camera features this year: WSJ, Predicted=[4.9237674e-06]\n",
            "X=UK lawmakers still want to question Facebook's Zuckerberg over data scandal, Predicted=[0.00520126]\n",
            "X=France to sue Google, Apple over developer contracts: minister, Predicted=[0.0182145]\n",
            "X=Facebook expands messaging service features, Predicted=[0.01254793]\n",
            "X=Facebook CEO backed sharing customer data despite second thoughts: documents, Predicted=[0.00803935]\n",
            "X=RPT-Apple delays release of first original series 'Carpool Karaoke', Predicted=[0.18573964]\n",
            "X=Apple pays $1 billion for Intel unit in push for chip independence, Predicted=[0.07910836]\n",
            "X=Facebook sales grow as users tick up; Zuckerberg defends political ads, Predicted=[0.15900426]\n",
            "X=Apple's ride to $1 trillion: The magic number that gets it there, Predicted=[0.14690076]\n",
            "X=Facebook stock almost hits IPO price, 14 months after rocky debut, Predicted=[0.01109213]\n",
            "X=UPDATE 1-Apple sets Oct 23 event, smaller iPad expected, Predicted=[0.10650903]\n",
            "X=UPDATE 1-Apple marketing executive says Samsung hurt iPhone, iPad demand, Predicted=[0.15192746]\n",
            "X=UPDATE 2-Facebook's Sandberg, Twitter's Dorsey to leave Disney board, Predicted=[0.01342695]\n",
            "X=UPDATE 3-U.S. agency: Apple infringes Samsung patent on older iPhones, iPads, Predicted=[0.005207]\n",
            "X=Apple, Amazon end 'app store' lawsuit, Predicted=[0.0675595]\n",
            "X=EU countries back copyright reforms aimed at Google, Facebook, Predicted=[0.00611654]\n",
            "X=UPDATE 4-Google launches streaming music service ahead of Apple, Predicted=[0.17503993]\n",
            "X=Orlando nightclub victims' families sue Twitter, Google, Facebook, Predicted=[0.17531624]\n",
            "X=U.S. senators threaten Facebook, Apple with encryption regulation, Predicted=[0.02386725]\n",
            "X=Facebook ends six-country test that split News Feed in two, Predicted=[0.00012984]\n",
            "X=Facebook vows to block foreign ad-buying during Australia's election, Predicted=[0.00415259]\n",
            "X=Apple, Google to face off in key smartphone hearing, Predicted=[0.00143166]\n",
            "X=UPDATE 2-Italy investigates Apple for alleged tax fraud -sources, Predicted=[0.00257069]\n",
            "X=RPT-Apple's Cook fields his A-team before a wary Street, Predicted=[0.05834852]\n",
            "X=Facebook confirms data sharing with Chinese companies, Predicted=[0.01299847]\n",
            "X=UPDATE 1-U.S. Supreme Court agrees to hear Cisco patent infringement case, Predicted=[7.103518e-05]\n",
            "X=Facebook, Google tools reveal new political ad tactics, Predicted=[0.05174367]\n",
            "X=RPT-Apple's warning a bad omen for Wall Street bulls, Predicted=[0.16433407]\n",
            "X=Head of Facebook's secretive hardware unit to step down, Predicted=[0.02880036]\n",
            "X=Facebook removes \"treason\" as tag to identify users' interests, Predicted=[0.01192747]\n"
          ],
          "name": "stdout"
        }
      ]
    },
    {
      "cell_type": "markdown",
      "metadata": {
        "id": "bZ8jzGUu1CHH",
        "colab_type": "text"
      },
      "source": [
        "**Bidirectional LSTM**"
      ]
    },
    {
      "cell_type": "code",
      "metadata": {
        "id": "w28N3zHdv2Wo",
        "colab_type": "code",
        "colab": {}
      },
      "source": [
        "def BiDirRNN():\n",
        "    inputs = Input(name='inputs',shape=[max_len])\n",
        "    layer = Embedding(max_words,50,input_length=max_len)(inputs)\n",
        "    layer = Bidirectional(LSTM(64))(layer)\n",
        "    layer = Dense(256,name='FC1')(layer)\n",
        "    layer = Activation('relu')(layer)\n",
        "    layer = Dropout(0.5)(layer)\n",
        "    layer = Dense(1,name='out_layer')(layer)\n",
        "    layer = Activation('sigmoid')(layer)\n",
        "    model = Model(inputs=inputs,outputs=layer)\n",
        "    return model"
      ],
      "execution_count": 0,
      "outputs": []
    },
    {
      "cell_type": "markdown",
      "metadata": {
        "id": "ojQ0NuG51McR",
        "colab_type": "text"
      },
      "source": [
        "Model Summary\n"
      ]
    },
    {
      "cell_type": "code",
      "metadata": {
        "id": "appwthRpwpYg",
        "colab_type": "code",
        "outputId": "3494f810-a8b1-4833-c87a-e1d7f46b7b55",
        "colab": {
          "base_uri": "https://localhost:8080/",
          "height": 420
        }
      },
      "source": [
        "bimodel = BiDirRNN()\n",
        "bimodel.summary()\n",
        "bimodel.compile(loss='binary_crossentropy',optimizer=RMSprop(),metrics=['accuracy'])"
      ],
      "execution_count": 0,
      "outputs": [
        {
          "output_type": "stream",
          "text": [
            "Model: \"model_2\"\n",
            "_________________________________________________________________\n",
            "Layer (type)                 Output Shape              Param #   \n",
            "=================================================================\n",
            "inputs (InputLayer)          (None, 150)               0         \n",
            "_________________________________________________________________\n",
            "embedding_2 (Embedding)      (None, 150, 50)           50000     \n",
            "_________________________________________________________________\n",
            "bidirectional_1 (Bidirection (None, 128)               58880     \n",
            "_________________________________________________________________\n",
            "FC1 (Dense)                  (None, 256)               33024     \n",
            "_________________________________________________________________\n",
            "activation_3 (Activation)    (None, 256)               0         \n",
            "_________________________________________________________________\n",
            "dropout_2 (Dropout)          (None, 256)               0         \n",
            "_________________________________________________________________\n",
            "out_layer (Dense)            (None, 1)                 257       \n",
            "_________________________________________________________________\n",
            "activation_4 (Activation)    (None, 1)                 0         \n",
            "=================================================================\n",
            "Total params: 142,161\n",
            "Trainable params: 142,161\n",
            "Non-trainable params: 0\n",
            "_________________________________________________________________\n"
          ],
          "name": "stdout"
        }
      ]
    },
    {
      "cell_type": "code",
      "metadata": {
        "id": "hqvnswcr0L8s",
        "colab_type": "code",
        "outputId": "07168c37-269d-4740-bca0-8564162cbf73",
        "colab": {
          "base_uri": "https://localhost:8080/",
          "height": 423
        }
      },
      "source": [
        "#without early stopping\n",
        "history=bimodel.fit(sequences_matrix,Y_train,batch_size=128,epochs=10,\n",
        "          validation_split=0.2)\n",
        "\n",
        "#with early stopping \n",
        "#history=bimodel.fit(sequences_matrix,Y_train,batch_size=128,epochs=10,\n",
        "#          validation_split=0.2,callbacks=[EarlyStopping(monitor='val_loss',min_delta=0.0001)])"
      ],
      "execution_count": 0,
      "outputs": [
        {
          "output_type": "stream",
          "text": [
            "/usr/local/lib/python3.6/dist-packages/tensorflow/python/framework/indexed_slices.py:434: UserWarning: Converting sparse IndexedSlices to a dense Tensor of unknown shape. This may consume a large amount of memory.\n",
            "  \"Converting sparse IndexedSlices to a dense Tensor of unknown shape. \"\n"
          ],
          "name": "stderr"
        },
        {
          "output_type": "stream",
          "text": [
            "Train on 3808 samples, validate on 952 samples\n",
            "Epoch 1/10\n",
            "3808/3808 [==============================] - 16s 4ms/step - loss: 0.5472 - accuracy: 0.7770 - val_loss: 0.5231 - val_accuracy: 0.7847\n",
            "Epoch 2/10\n",
            "3808/3808 [==============================] - 15s 4ms/step - loss: 0.5180 - accuracy: 0.7868 - val_loss: 0.5129 - val_accuracy: 0.7847\n",
            "Epoch 3/10\n",
            "3808/3808 [==============================] - 14s 4ms/step - loss: 0.4949 - accuracy: 0.7868 - val_loss: 0.4963 - val_accuracy: 0.7847\n",
            "Epoch 4/10\n",
            "3808/3808 [==============================] - 14s 4ms/step - loss: 0.4448 - accuracy: 0.7960 - val_loss: 0.5099 - val_accuracy: 0.7773\n",
            "Epoch 5/10\n",
            "3808/3808 [==============================] - 14s 4ms/step - loss: 0.4121 - accuracy: 0.8101 - val_loss: 0.5204 - val_accuracy: 0.7668\n",
            "Epoch 6/10\n",
            "3808/3808 [==============================] - 15s 4ms/step - loss: 0.3950 - accuracy: 0.8175 - val_loss: 0.5403 - val_accuracy: 0.7731\n",
            "Epoch 7/10\n",
            "3808/3808 [==============================] - 15s 4ms/step - loss: 0.3846 - accuracy: 0.8209 - val_loss: 0.5533 - val_accuracy: 0.7542\n",
            "Epoch 8/10\n",
            "3808/3808 [==============================] - 14s 4ms/step - loss: 0.3932 - accuracy: 0.8259 - val_loss: 0.5819 - val_accuracy: 0.7437\n",
            "Epoch 9/10\n",
            "3808/3808 [==============================] - 14s 4ms/step - loss: 0.3482 - accuracy: 0.8411 - val_loss: 0.6293 - val_accuracy: 0.7752\n",
            "Epoch 10/10\n",
            "3808/3808 [==============================] - 15s 4ms/step - loss: 0.3403 - accuracy: 0.8440 - val_loss: 0.6523 - val_accuracy: 0.7805\n"
          ],
          "name": "stdout"
        }
      ]
    },
    {
      "cell_type": "markdown",
      "metadata": {
        "id": "pkk83Mke1U12",
        "colab_type": "text"
      },
      "source": [
        "Evaluate the model on the test set."
      ]
    },
    {
      "cell_type": "code",
      "metadata": {
        "id": "SoswaMSk0hhq",
        "colab_type": "code",
        "outputId": "3f9ba3b3-4b55-477d-cafc-bcaa4876842d",
        "colab": {
          "base_uri": "https://localhost:8080/",
          "height": 34
        }
      },
      "source": [
        "accr_bi = bimodel.evaluate(test_sequences_matrix,Y_test)"
      ],
      "execution_count": 0,
      "outputs": [
        {
          "output_type": "stream",
          "text": [
            "841/841 [==============================] - 1s 1ms/step\n"
          ],
          "name": "stdout"
        }
      ]
    },
    {
      "cell_type": "code",
      "metadata": {
        "id": "0yg3zwTe01Wf",
        "colab_type": "code",
        "outputId": "a43cdb1e-a7bd-4e42-948e-ff6e1a00750e",
        "colab": {
          "base_uri": "https://localhost:8080/",
          "height": 67
        }
      },
      "source": [
        "print('Bidirectional LSTM - Test set\\n  Loss: {:0.3f}\\n  Accuracy: {:0.3f}'.format(accr_bi[0],accr_bi[1]))"
      ],
      "execution_count": 0,
      "outputs": [
        {
          "output_type": "stream",
          "text": [
            "Bidirectional LSTM - Test set\n",
            "  Loss: 0.712\n",
            "  Accuracy: 0.757\n"
          ],
          "name": "stdout"
        }
      ]
    },
    {
      "cell_type": "code",
      "metadata": {
        "id": "lfYo4QiXC6cT",
        "colab_type": "code",
        "outputId": "be4f80a3-0f7f-4092-8139-133248a2bb2d",
        "colab": {
          "base_uri": "https://localhost:8080/",
          "height": 282
        }
      },
      "source": [
        "plt.plot(history.history['loss'])\n",
        "plt.plot(history.history['accuracy'])"
      ],
      "execution_count": 0,
      "outputs": [
        {
          "output_type": "execute_result",
          "data": {
            "text/plain": [
              "[<matplotlib.lines.Line2D at 0x7f2880350f28>]"
            ]
          },
          "metadata": {
            "tags": []
          },
          "execution_count": 22
        },
        {
          "output_type": "display_data",
          "data": {
            "image/png": "[encoded data removed]",
            "text/plain": [
              "<Figure size 432x288 with 1 Axes>"
            ]
          },
          "metadata": {
            "tags": [],
            "needs_background": "light"
          }
        }
      ]
    },
    {
      "cell_type": "markdown",
      "metadata": {
        "id": "QRL8DHPw3TIa",
        "colab_type": "text"
      },
      "source": [
        "**Bidirectional LSTM and Attention**\n"
      ]
    },
    {
      "cell_type": "code",
      "metadata": {
        "id": "EngbcHaBVHFh",
        "colab_type": "code",
        "colab": {}
      },
      "source": [
        "from keras import backend as K\n",
        "from keras.engine.topology import Layer\n",
        "from keras import initializers, regularizers, constraints\n",
        "\n",
        "class Attention(Layer):\n",
        "    def __init__(self, step_dim,\n",
        "                 W_regularizer=None, b_regularizer=None,\n",
        "                 W_constraint=None, b_constraint=None,\n",
        "                 bias=True, **kwargs):\n",
        "        self.supports_masking = True\n",
        "        self.init = initializers.get('glorot_uniform')\n",
        "\n",
        "        self.W_regularizer = regularizers.get(W_regularizer)\n",
        "        self.b_regularizer = regularizers.get(b_regularizer)\n",
        "\n",
        "        self.W_constraint = constraints.get(W_constraint)\n",
        "        self.b_constraint = constraints.get(b_constraint)\n",
        "       \n",
        "        self.bias = bias\n",
        "        self.step_dim = step_dim\n",
        "        self.features_dim = 0\n",
        "        super(Attention, self).__init__(**kwargs)\n",
        "\n",
        "    def build(self, input_shape):\n",
        "        assert len(input_shape) == 3\n",
        "\n",
        "        self.W = self.add_weight(shape=(input_shape[-1],),\n",
        "                                 initializer=self.init,\n",
        "                                 name='{}_W'.format(self.name),\n",
        "                                 regularizer=self.W_regularizer,\n",
        "                                 constraint=self.W_constraint)\n",
        "        self.features_dim = input_shape[-1]\n",
        "\n",
        "        if self.bias:\n",
        "            self.b = self.add_weight(shape=(input_shape[1],),\n",
        "                                     initializer='zero',\n",
        "                                     name='{}_b'.format(self.name),\n",
        "                                     regularizer=self.b_regularizer,\n",
        "                                     constraint=self.b_constraint)\n",
        "        else:\n",
        "            self.b = None\n",
        "\n",
        "        self.built = True\n",
        "\n",
        "    def compute_mask(self, input, input_mask=None):\n",
        "        return None\n",
        "\n",
        "    def call(self, x, mask=None):\n",
        "        features_dim = self.features_dim\n",
        "        step_dim = self.step_dim\n",
        "\n",
        "        eij = K.reshape(K.dot(K.reshape(x, (-1, features_dim)),\n",
        "                        K.reshape(self.W, (features_dim, 1))), (-1, step_dim))\n",
        "\n",
        "        if self.bias:\n",
        "            eij += self.b\n",
        "\n",
        "        eij = K.tanh(eij)\n",
        "\n",
        "        a = K.exp(eij)\n",
        "\n",
        "        if mask is not None:\n",
        "            a *= K.cast(mask, K.floatx())\n",
        "\n",
        "        a /= K.cast(K.sum(a, axis=1, keepdims=True) + K.epsilon(), K.floatx())\n",
        "\n",
        "        a = K.expand_dims(a)\n",
        "        weighted_input = x * a\n",
        "        return K.sum(weighted_input, axis=1)\n",
        "\n",
        "    def compute_output_shape(self, input_shape):\n",
        "        return input_shape[0],  self.features_dim"
      ],
      "execution_count": 0,
      "outputs": []
    },
    {
      "cell_type": "code",
      "metadata": {
        "id": "TjK86GR3psqE",
        "colab_type": "code",
        "colab": {}
      },
      "source": [
        "def make_df(max_features, maxlen):    \n",
        "    tokenizer = text.Tokenizer(num_words=max_features)\n",
        "    tokenizer.fit_on_texts(list(X_train))\n",
        "    list_tokenized_train = tokenizer.texts_to_sequences(X_train)\n",
        "    list_tokenized_test = tokenizer.texts_to_sequences(X_test)\n",
        "    X_t = sequence.pad_sequences(list_tokenized_train, maxlen=maxlen)\n",
        "    X_te = sequence.pad_sequences(list_tokenized_test, maxlen=maxlen)\n",
        "\n",
        "    word_index = tokenizer.word_index\n",
        "\n",
        "    return X_t, X_te, word_index"
      ],
      "execution_count": 0,
      "outputs": []
    },
    {
      "cell_type": "code",
      "metadata": {
        "id": "KQu_8_cnoFII",
        "colab_type": "code",
        "colab": {}
      },
      "source": [
        "def make_glovevec(glovepath, max_features, embed_size, word_index, veclen=300):\n",
        "    embeddings_index = {}\n",
        "    f = open(glovepath)\n",
        "    for line in f:\n",
        "        values = line.split()\n",
        "        word = ' '.join(values[:-300])\n",
        "        coefs = np.asarray(values[-300:], dtype='float32')\n",
        "        embeddings_index[word] = coefs.reshape(-1)\n",
        "    f.close()\n",
        "\n",
        "    nb_words = min(max_features, len(word_index))\n",
        "    embedding_matrix = np.zeros((nb_words, embed_size))\n",
        "    for word, i in word_index.items():\n",
        "        if i >= max_features:\n",
        "            continue\n",
        "        embedding_vector = embeddings_index.get(word)\n",
        "        if embedding_vector is not None:\n",
        "            embedding_matrix[i] = embedding_vector\n",
        "    return embedding_matrix\n",
        "\n",
        "\n",
        "def BidLstm(maxlen, max_features, embed_size, embedding_matrix):\n",
        "    inp = Input(shape=(maxlen, ))\n",
        "    x = Embedding(max_features, embed_size, weights=[embedding_matrix],\n",
        "                  trainable=False)(inp)\n",
        "    x = Bidirectional(LSTM(300, return_sequences=False, dropout=0.25,\n",
        "                           recurrent_dropout=0.25))(x)\n",
        "   # x = Attention(maxlen)(x)\n",
        "    x = Dense(256, activation=\"relu\")(x)\n",
        "    x = Dropout(0.25)(x)\n",
        "    x = Dense(1, activation=\"sigmoid\")(x)\n",
        "    model = Model(inputs=inp, outputs=x)\n",
        "\n",
        "    return model\n",
        "\n",
        "     "
      ],
      "execution_count": 0,
      "outputs": []
    },
    {
      "cell_type": "code",
      "metadata": {
        "id": "uttM0t-7oP_S",
        "colab_type": "code",
        "colab": {}
      },
      "source": [
        " max_features = 1000\n",
        " maxlen = 150\n",
        " embed_size = 300\n",
        "\n",
        " xtr, xte, word_index = make_df( max_features, maxlen)\n",
        " embedding_vector = make_glovevec(\"/content/drive/My Drive/MLData/glove.42B.300d.txt\",\n",
        "                                     max_features, embed_size, word_index)\n",
        " "
      ],
      "execution_count": 0,
      "outputs": []
    },
    {
      "cell_type": "code",
      "metadata": {
        "id": "drXF6rR1LYYq",
        "colab_type": "code",
        "outputId": "c3368fc3-c9d5-44c2-ac18-a9fe1f28701c",
        "colab": {
          "base_uri": "https://localhost:8080/",
          "height": 353
        }
      },
      "source": [
        "model = BidLstm(maxlen, max_features, embed_size, embedding_vector)\n",
        "model.summary()\n",
        "model.compile(loss='binary_crossentropy',optimizer=RMSprop(),metrics=['accuracy'])"
      ],
      "execution_count": 0,
      "outputs": [
        {
          "output_type": "stream",
          "text": [
            "Model: \"model_3\"\n",
            "_________________________________________________________________\n",
            "Layer (type)                 Output Shape              Param #   \n",
            "=================================================================\n",
            "input_1 (InputLayer)         (None, 150)               0         \n",
            "_________________________________________________________________\n",
            "embedding_3 (Embedding)      (None, 150, 300)          300000    \n",
            "_________________________________________________________________\n",
            "bidirectional_2 (Bidirection (None, 600)               1442400   \n",
            "_________________________________________________________________\n",
            "dense_1 (Dense)              (None, 256)               153856    \n",
            "_________________________________________________________________\n",
            "dropout_3 (Dropout)          (None, 256)               0         \n",
            "_________________________________________________________________\n",
            "dense_2 (Dense)              (None, 1)                 257       \n",
            "=================================================================\n",
            "Total params: 1,896,513\n",
            "Trainable params: 1,596,513\n",
            "Non-trainable params: 300,000\n",
            "_________________________________________________________________\n"
          ],
          "name": "stdout"
        }
      ]
    },
    {
      "cell_type": "code",
      "metadata": {
        "id": "J_vvm_0sL0Lx",
        "colab_type": "code",
        "outputId": "391d5d34-2fb7-4b43-9515-3f3757b874c8",
        "colab": {
          "base_uri": "https://localhost:8080/",
          "height": 370
        }
      },
      "source": [
        "#without early stopping\n",
        "historyBiDirAttn=model.fit(sequences_matrix,Y_train,batch_size=128,epochs=10,\n",
        "          validation_split=0.3)"
      ],
      "execution_count": 0,
      "outputs": [
        {
          "output_type": "stream",
          "text": [
            "Train on 3332 samples, validate on 1428 samples\n",
            "Epoch 1/10\n",
            "3332/3332 [==============================] - 14s 4ms/step - loss: 0.5400 - accuracy: 0.7749 - val_loss: 0.5203 - val_accuracy: 0.7892\n",
            "Epoch 2/10\n",
            "3332/3332 [==============================] - 14s 4ms/step - loss: 0.5261 - accuracy: 0.7854 - val_loss: 0.5498 - val_accuracy: 0.7892\n",
            "Epoch 3/10\n",
            "3332/3332 [==============================] - 14s 4ms/step - loss: 0.5128 - accuracy: 0.7851 - val_loss: 0.5355 - val_accuracy: 0.7857\n",
            "Epoch 4/10\n",
            "3332/3332 [==============================] - 14s 4ms/step - loss: 0.5041 - accuracy: 0.7860 - val_loss: 0.5625 - val_accuracy: 0.7892\n",
            "Epoch 5/10\n",
            "3332/3332 [==============================] - 14s 4ms/step - loss: 0.4894 - accuracy: 0.7872 - val_loss: 0.5792 - val_accuracy: 0.7899\n",
            "Epoch 6/10\n",
            "3332/3332 [==============================] - 14s 4ms/step - loss: 0.4823 - accuracy: 0.7908 - val_loss: 0.5148 - val_accuracy: 0.7878\n",
            "Epoch 7/10\n",
            "3332/3332 [==============================] - 13s 4ms/step - loss: 0.4550 - accuracy: 0.8034 - val_loss: 0.5552 - val_accuracy: 0.7507\n",
            "Epoch 8/10\n",
            "3332/3332 [==============================] - 14s 4ms/step - loss: 0.4326 - accuracy: 0.8076 - val_loss: 0.5569 - val_accuracy: 0.7745\n",
            "Epoch 9/10\n",
            "3332/3332 [==============================] - 14s 4ms/step - loss: 0.4196 - accuracy: 0.8169 - val_loss: 0.5487 - val_accuracy: 0.7668\n",
            "Epoch 10/10\n",
            "3332/3332 [==============================] - 14s 4ms/step - loss: 0.4077 - accuracy: 0.8235 - val_loss: 0.5609 - val_accuracy: 0.7731\n"
          ],
          "name": "stdout"
        }
      ]
    },
    {
      "cell_type": "code",
      "metadata": {
        "id": "V0qm46c5OJeN",
        "colab_type": "code",
        "outputId": "66898e54-57b2-4af0-c550-a70d56b94db0",
        "colab": {
          "base_uri": "https://localhost:8080/",
          "height": 349
        }
      },
      "source": [
        "accr_bi = model.evaluate(test_sequences_matrix,Y_test)\n",
        "print('Bidirectional LSTM Attn 1- Test set\\n  Loss: {:0.3f}\\n  Accuracy: {:0.3f}'.format(accr_bi[0],accr_bi[1]))\n",
        "plt.plot(historyBiDirAttn.history['loss'])\n",
        "plt.plot(historyBiDirAttn.history['accuracy'])"
      ],
      "execution_count": 0,
      "outputs": [
        {
          "output_type": "stream",
          "text": [
            "841/841 [==============================] - 1s 2ms/step\n",
            "Bidirectional LSTM Attn 1- Test set\n",
            "  Loss: 0.593\n",
            "  Accuracy: 0.776\n"
          ],
          "name": "stdout"
        },
        {
          "output_type": "execute_result",
          "data": {
            "text/plain": [
              "[<matplotlib.lines.Line2D at 0x7f2879c15ef0>]"
            ]
          },
          "metadata": {
            "tags": []
          },
          "execution_count": 29
        },
        {
          "output_type": "display_data",
          "data": {
            "image/png": "[encoded data removed]",
            "text/plain": [
              "<Figure size 432x288 with 1 Axes>"
            ]
          },
          "metadata": {
            "tags": [],
            "needs_background": "light"
          }
        }
      ]
    },
    {
      "cell_type": "code",
      "metadata": {
        "id": "XPbU_wSpVQ8e",
        "colab_type": "code",
        "colab": {}
      },
      "source": [
        "def BiDirRNNWithAttention(maxlen, max_features, embed_size, embedding_matrix):   \n",
        "    inp = Input(shape=(maxlen, ))\n",
        "    x = Embedding(max_features, embed_size, weights=[embedding_matrix],\n",
        "                  trainable=False)(inp)\n",
        "    x = Bidirectional(LSTM(200, return_sequences=True, dropout=0.35,\n",
        "                           recurrent_dropout=0.35))(x)\n",
        "    x = Attention(maxlen)(x)\n",
        "    x = Dense(256, activation=\"relu\")(x)\n",
        "    x = Dropout(0.50)(x)\n",
        "    x = Dense(1, activation=\"sigmoid\")(x)\n",
        "    model = Model(inputs=inp, outputs=x)   \n",
        "    return model"
      ],
      "execution_count": 0,
      "outputs": []
    },
    {
      "cell_type": "code",
      "metadata": {
        "id": "0ErZjUaJOdhk",
        "colab_type": "code",
        "outputId": "aed8a862-000c-4556-80c2-97dd51672665",
        "colab": {
          "base_uri": "https://localhost:8080/",
          "height": 386
        }
      },
      "source": [
        "Atnmodel2 = BiDirRNNWithAttention(maxlen, max_features, embed_size, embedding_vector)\n",
        "Atnmodel2.summary()\n",
        "Atnmodel2.compile(loss='binary_crossentropy',optimizer=RMSprop(),metrics=['accuracy'])"
      ],
      "execution_count": 0,
      "outputs": [
        {
          "output_type": "stream",
          "text": [
            "Model: \"model_4\"\n",
            "_________________________________________________________________\n",
            "Layer (type)                 Output Shape              Param #   \n",
            "=================================================================\n",
            "input_2 (InputLayer)         (None, 150)               0         \n",
            "_________________________________________________________________\n",
            "embedding_4 (Embedding)      (None, 150, 300)          300000    \n",
            "_________________________________________________________________\n",
            "bidirectional_3 (Bidirection (None, 150, 400)          801600    \n",
            "_________________________________________________________________\n",
            "attention_1 (Attention)      (None, 400)               550       \n",
            "_________________________________________________________________\n",
            "dense_3 (Dense)              (None, 256)               102656    \n",
            "_________________________________________________________________\n",
            "dropout_4 (Dropout)          (None, 256)               0         \n",
            "_________________________________________________________________\n",
            "dense_4 (Dense)              (None, 1)                 257       \n",
            "=================================================================\n",
            "Total params: 1,205,063\n",
            "Trainable params: 905,063\n",
            "Non-trainable params: 300,000\n",
            "_________________________________________________________________\n"
          ],
          "name": "stdout"
        }
      ]
    },
    {
      "cell_type": "code",
      "metadata": {
        "id": "sIaQ4gu-O4Ae",
        "colab_type": "code",
        "outputId": "6866731d-8d0b-4dc6-e269-263fa0ba8325",
        "colab": {
          "base_uri": "https://localhost:8080/",
          "height": 370
        }
      },
      "source": [
        "#without early stopping\n",
        "historyBiDirAttn2=Atnmodel2.fit(sequences_matrix,Y_train,batch_size=128,epochs=10,\n",
        "          validation_split=0.3)"
      ],
      "execution_count": 0,
      "outputs": [
        {
          "output_type": "stream",
          "text": [
            "Train on 3332 samples, validate on 1428 samples\n",
            "Epoch 1/10\n",
            "3332/3332 [==============================] - 15s 5ms/step - loss: 0.5514 - accuracy: 0.7845 - val_loss: 0.5190 - val_accuracy: 0.7892\n",
            "Epoch 2/10\n",
            "3332/3332 [==============================] - 14s 4ms/step - loss: 0.5303 - accuracy: 0.7851 - val_loss: 0.5573 - val_accuracy: 0.7892\n",
            "Epoch 3/10\n",
            "3332/3332 [==============================] - 15s 4ms/step - loss: 0.5264 - accuracy: 0.7851 - val_loss: 0.5139 - val_accuracy: 0.7892\n",
            "Epoch 4/10\n",
            "3332/3332 [==============================] - 14s 4ms/step - loss: 0.5249 - accuracy: 0.7851 - val_loss: 0.5175 - val_accuracy: 0.7892\n",
            "Epoch 5/10\n",
            "3332/3332 [==============================] - 14s 4ms/step - loss: 0.5207 - accuracy: 0.7851 - val_loss: 0.5098 - val_accuracy: 0.7892\n",
            "Epoch 6/10\n",
            "3332/3332 [==============================] - 14s 4ms/step - loss: 0.5189 - accuracy: 0.7851 - val_loss: 0.5116 - val_accuracy: 0.7892\n",
            "Epoch 7/10\n",
            "3332/3332 [==============================] - 14s 4ms/step - loss: 0.5166 - accuracy: 0.7851 - val_loss: 0.5384 - val_accuracy: 0.7892\n",
            "Epoch 8/10\n",
            "3332/3332 [==============================] - 14s 4ms/step - loss: 0.5067 - accuracy: 0.7860 - val_loss: 0.5596 - val_accuracy: 0.7801\n",
            "Epoch 9/10\n",
            "3332/3332 [==============================] - 14s 4ms/step - loss: 0.5016 - accuracy: 0.7881 - val_loss: 0.6401 - val_accuracy: 0.7892\n",
            "Epoch 10/10\n",
            "3332/3332 [==============================] - 14s 4ms/step - loss: 0.4984 - accuracy: 0.7881 - val_loss: 0.6266 - val_accuracy: 0.7892\n"
          ],
          "name": "stdout"
        }
      ]
    },
    {
      "cell_type": "code",
      "metadata": {
        "id": "RR5U-4ktQOVg",
        "colab_type": "code",
        "outputId": "e5a0b92e-1507-4cf4-e794-90c5a692745b",
        "colab": {
          "base_uri": "https://localhost:8080/",
          "height": 352
        }
      },
      "source": [
        "accr_bi2 = Atnmodel2.evaluate(test_sequences_matrix,Y_test)\n",
        "print('Bidirectional LSTM attn 2- Test set\\n  Loss: {:0.3f}\\n  Accuracy: {:0.3f}'.format(accr_bi2[0],accr_bi2[1]))\n",
        "plt.plot(historyBiDirAttn2.history['loss'])\n",
        "plt.plot(historyBiDirAttn2.history['accuracy'])"
      ],
      "execution_count": 0,
      "outputs": [
        {
          "output_type": "stream",
          "text": [
            "841/841 [==============================] - 1s 1ms/step\n",
            "Bidirectional LSTM attn 2- Test set\n",
            "  Loss: 0.667\n",
            "  Accuracy: 0.776\n"
          ],
          "name": "stdout"
        },
        {
          "output_type": "execute_result",
          "data": {
            "text/plain": [
              "[<matplotlib.lines.Line2D at 0x7f2879572a58>]"
            ]
          },
          "metadata": {
            "tags": []
          },
          "execution_count": 33
        },
        {
          "output_type": "display_data",
          "data": {
            "image/png": "[encoded data removed]",
            "text/plain": [
              "<Figure size 432x288 with 1 Axes>"
            ]
          },
          "metadata": {
            "tags": [],
            "needs_background": "light"
          }
        }
      ]
    },
    {
      "cell_type": "code",
      "metadata": {
        "id": "SEMfW-LraAnq",
        "colab_type": "code",
        "outputId": "e90e4c33-dbff-42af-a7ea-e0a19928ed3e",
        "colab": {
          "base_uri": "https://localhost:8080/",
          "height": 353
        }
      },
      "source": [
        "!wget http://nlp.stanford.edu/data/glove.42B.300d.zip"
      ],
      "execution_count": 0,
      "outputs": [
        {
          "output_type": "stream",
          "text": [
            "--2020-05-09 03:09:00--  http://nlp.stanford.edu/data/glove.42B.300d.zip\n",
            "Resolving nlp.stanford.edu (nlp.stanford.edu)... 171.64.67.140\n",
            "Connecting to nlp.stanford.edu (nlp.stanford.edu)|171.64.67.140|:80... connected.\n",
            "HTTP request sent, awaiting response... 302 Found\n",
            "Location: https://nlp.stanford.edu/data/glove.42B.300d.zip [following]\n",
            "--2020-05-09 03:09:00--  https://nlp.stanford.edu/data/glove.42B.300d.zip\n",
            "Connecting to nlp.stanford.edu (nlp.stanford.edu)|171.64.67.140|:443... connected.\n",
            "HTTP request sent, awaiting response... 301 Moved Permanently\n",
            "Location: http://downloads.cs.stanford.edu/nlp/data/glove.42B.300d.zip [following]\n",
            "--2020-05-09 03:09:00--  http://downloads.cs.stanford.edu/nlp/data/glove.42B.300d.zip\n",
            "Resolving downloads.cs.stanford.edu (downloads.cs.stanford.edu)... 171.64.64.22\n",
            "Connecting to downloads.cs.stanford.edu (downloads.cs.stanford.edu)|171.64.64.22|:80... connected.\n",
            "HTTP request sent, awaiting response... 200 OK\n",
            "Length: 1877800501 (1.7G) [application/zip]\n",
            "Saving to: ‘glove.42B.300d.zip’\n",
            "\n",
            "glove.42B.300d.zip  100%[===================>]   1.75G  2.15MB/s    in 14m 32s \n",
            "\n",
            "2020-05-09 03:23:32 (2.05 MB/s) - ‘glove.42B.300d.zip’ saved [1877800501/1877800501]\n",
            "\n"
          ],
          "name": "stdout"
        }
      ]
    },
    {
      "cell_type": "code",
      "metadata": {
        "id": "lFMtbUQEdeWn",
        "colab_type": "code",
        "outputId": "25cb04c7-0f0e-4bdd-da59-d92949fdeeb9",
        "colab": {
          "base_uri": "https://localhost:8080/",
          "height": 50
        }
      },
      "source": [
        "!unzip glove*.zip -d '/content/drive/My Drive/MLData/'"
      ],
      "execution_count": 0,
      "outputs": [
        {
          "output_type": "stream",
          "text": [
            "Archive:  glove.42B.300d.zip\n",
            "  inflating: /content/drive/My Drive/MLData/glove.42B.300d.txt  \n"
          ],
          "name": "stdout"
        }
      ]
    },
    {
      "cell_type": "code",
      "metadata": {
        "id": "sU5hUNPJl1El",
        "colab_type": "code",
        "outputId": "202c72d5-fe7d-48fa-a904-2fd3c549037a",
        "colab": {
          "base_uri": "https://localhost:8080/",
          "height": 34
        }
      },
      "source": [
        "from shutil import copyfile\n",
        "copyfile('/content/drive/My Drive/MLData/glove.42B.300d.txt', '/content/glove.42B.300d.txt')"
      ],
      "execution_count": 0,
      "outputs": [
        {
          "output_type": "execute_result",
          "data": {
            "text/plain": [
              "'/content/glove.42B.300d.txt'"
            ]
          },
          "metadata": {
            "tags": []
          },
          "execution_count": 71
        }
      ]
    },
    {
      "cell_type": "code",
      "metadata": {
        "id": "d7UxPy21dy3a",
        "colab_type": "code",
        "outputId": "19939880-7831-4ff6-cd39-ee62b057331f",
        "colab": {
          "base_uri": "https://localhost:8080/",
          "height": 50
        }
      },
      "source": [
        "!ls\n",
        "!pwd"
      ],
      "execution_count": 0,
      "outputs": [
        {
          "output_type": "stream",
          "text": [
            "adc.json  drive  glove.42B.300d.zip  sample_data  sector_Combine_tech.csv\n",
            "/content\n"
          ],
          "name": "stdout"
        }
      ]
    },
    {
      "cell_type": "code",
      "metadata": {
        "id": "mK5fK9tAd4s1",
        "colab_type": "code",
        "outputId": "437e131b-3a02-4ced-981a-b10074819ced",
        "colab": {
          "base_uri": "https://localhost:8080/",
          "height": 50
        }
      },
      "source": [
        "print('Indexing word vectors.')\n",
        "\n",
        "embeddings_index = {}\n",
        "f = open('/content/glove.42B.300d.txt', encoding='utf-8')\n",
        "for line in f:\n",
        "    values = line.split()\n",
        "    word = values[0]\n",
        "    coefs = np.asarray(values[1:], dtype='float32')\n",
        "    embeddings_index[word] = coefs\n",
        "f.close()\n",
        "\n",
        "print('Found %s word vectors.' % len(embeddings_index))"
      ],
      "execution_count": 0,
      "outputs": [
        {
          "output_type": "stream",
          "text": [
            "Indexing word vectors.\n",
            "Found 1917494 word vectors.\n"
          ],
          "name": "stdout"
        }
      ]
    },
    {
      "cell_type": "code",
      "metadata": {
        "id": "vB1O2Fowfjdt",
        "colab_type": "code",
        "outputId": "4fce11f0-5fba-4e96-dc1f-915a5f4f4ccc",
        "colab": {
          "base_uri": "https://localhost:8080/",
          "height": 404
        }
      },
      "source": [
        "!pip install -U -q PyDrive\n",
        "import os\n",
        "from pydrive.auth import GoogleAuth\n",
        "from pydrive.drive import GoogleDrive\n",
        "from google.colab import auth\n",
        "from oauth2client.client import GoogleCredentials\n",
        "\n",
        "# 1. Authenticate and create the PyDrive client.\n",
        "auth.authenticate_user()\n",
        "gauth = GoogleAuth()\n",
        "gauth.credentials = GoogleCredentials.get_application_default()\n",
        "drive = GoogleDrive(gauth)\n",
        "\n",
        "# choose a local (colab) directory to store the data.\n",
        "local_download_path = os.path.expanduser('~/content')\n",
        "try:\n",
        "  os.makedirs(local_download_path)\n",
        "except: pass\n",
        "\n",
        "# 2. Auto-iterate using the query syntax\n",
        "#    https://developers.google.com/drive/v2/web/search-parameters\n",
        "file_list = drive.ListFile(\n",
        "    {'q': \"'1T25rZ8rWYe7quLGa4XBUsrwaFZzR1FBt' in parents\"}).GetList()\n",
        "\n",
        "for f in file_list:\n",
        "  # 3. Create & download by id.\n",
        "  print('title: %s, id: %s' % (f['title'], f['id']))\n",
        "  fname = os.path.join(local_download_path, f['title'])\n",
        "  print('downloading to {}'.format(fname))\n",
        "  f_ = drive.CreateFile({'id': f['id']})\n",
        "  f_.GetContentFile(fname)\n",
        "\n",
        "\n",
        "with open(fname, 'r') as f:\n",
        "  print(f.read())"
      ],
      "execution_count": 0,
      "outputs": [
        {
          "output_type": "stream",
          "text": [
            "title: glove.42B.300d.txt, id: 1S3m64BVd08taxnVEcnCYqDuQDdS6abcD\n",
            "downloading to /root/content/glove.42B.300d.txt\n"
          ],
          "name": "stdout"
        },
        {
          "output_type": "error",
          "ename": "KeyboardInterrupt",
          "evalue": "ignored",
          "traceback": [
            "\u001b[0;31m---------------------------------------------------------------------------\u001b[0m",
            "\u001b[0;31mKeyboardInterrupt\u001b[0m                         Traceback (most recent call last)",
            "\u001b[0;32m<ipython-input-47-f02f5689c974>\u001b[0m in \u001b[0;36m<module>\u001b[0;34m()\u001b[0m\n\u001b[1;32m     29\u001b[0m   \u001b[0mprint\u001b[0m\u001b[0;34m(\u001b[0m\u001b[0;34m'downloading to {}'\u001b[0m\u001b[0;34m.\u001b[0m\u001b[0mformat\u001b[0m\u001b[0;34m(\u001b[0m\u001b[0mfname\u001b[0m\u001b[0;34m)\u001b[0m\u001b[0;34m)\u001b[0m\u001b[0;34m\u001b[0m\u001b[0;34m\u001b[0m\u001b[0m\n\u001b[1;32m     30\u001b[0m   \u001b[0mf_\u001b[0m \u001b[0;34m=\u001b[0m \u001b[0mdrive\u001b[0m\u001b[0;34m.\u001b[0m\u001b[0mCreateFile\u001b[0m\u001b[0;34m(\u001b[0m\u001b[0;34m{\u001b[0m\u001b[0;34m'id'\u001b[0m\u001b[0;34m:\u001b[0m \u001b[0mf\u001b[0m\u001b[0;34m[\u001b[0m\u001b[0;34m'id'\u001b[0m\u001b[0;34m]\u001b[0m\u001b[0;34m}\u001b[0m\u001b[0;34m)\u001b[0m\u001b[0;34m\u001b[0m\u001b[0;34m\u001b[0m\u001b[0m\n\u001b[0;32m---> 31\u001b[0;31m   \u001b[0mf_\u001b[0m\u001b[0;34m.\u001b[0m\u001b[0mGetContentFile\u001b[0m\u001b[0;34m(\u001b[0m\u001b[0mfname\u001b[0m\u001b[0;34m)\u001b[0m\u001b[0;34m\u001b[0m\u001b[0;34m\u001b[0m\u001b[0m\n\u001b[0m\u001b[1;32m     32\u001b[0m \u001b[0;34m\u001b[0m\u001b[0m\n\u001b[1;32m     33\u001b[0m \u001b[0;34m\u001b[0m\u001b[0m\n",
            "\u001b[0;32m/usr/local/lib/python3.6/dist-packages/pydrive/files.py\u001b[0m in \u001b[0;36mGetContentFile\u001b[0;34m(self, filename, mimetype, remove_bom)\u001b[0m\n\u001b[1;32m    208\u001b[0m                     \u001b[0mtype\u001b[0m\u001b[0;34m(\u001b[0m\u001b[0mself\u001b[0m\u001b[0;34m.\u001b[0m\u001b[0mcontent\u001b[0m\u001b[0;34m)\u001b[0m \u001b[0;32mis\u001b[0m \u001b[0;32mnot\u001b[0m \u001b[0mio\u001b[0m\u001b[0;34m.\u001b[0m\u001b[0mBytesIO\u001b[0m \u001b[0;32mor\u001b[0m\u001b[0;31m \u001b[0m\u001b[0;31m\\\u001b[0m\u001b[0;34m\u001b[0m\u001b[0;34m\u001b[0m\u001b[0m\n\u001b[1;32m    209\u001b[0m                     \u001b[0mself\u001b[0m\u001b[0;34m.\u001b[0m\u001b[0mhas_bom\u001b[0m \u001b[0;34m==\u001b[0m \u001b[0mremove_bom\u001b[0m\u001b[0;34m:\u001b[0m\u001b[0;34m\u001b[0m\u001b[0;34m\u001b[0m\u001b[0m\n\u001b[0;32m--> 210\u001b[0;31m       \u001b[0mself\u001b[0m\u001b[0;34m.\u001b[0m\u001b[0mFetchContent\u001b[0m\u001b[0;34m(\u001b[0m\u001b[0mmimetype\u001b[0m\u001b[0;34m,\u001b[0m \u001b[0mremove_bom\u001b[0m\u001b[0;34m)\u001b[0m\u001b[0;34m\u001b[0m\u001b[0;34m\u001b[0m\u001b[0m\n\u001b[0m\u001b[1;32m    211\u001b[0m     \u001b[0mf\u001b[0m \u001b[0;34m=\u001b[0m \u001b[0mopen\u001b[0m\u001b[0;34m(\u001b[0m\u001b[0mfilename\u001b[0m\u001b[0;34m,\u001b[0m \u001b[0;34m'wb'\u001b[0m\u001b[0;34m)\u001b[0m\u001b[0;34m\u001b[0m\u001b[0;34m\u001b[0m\u001b[0m\n\u001b[1;32m    212\u001b[0m     \u001b[0mf\u001b[0m\u001b[0;34m.\u001b[0m\u001b[0mwrite\u001b[0m\u001b[0;34m(\u001b[0m\u001b[0mself\u001b[0m\u001b[0;34m.\u001b[0m\u001b[0mcontent\u001b[0m\u001b[0;34m.\u001b[0m\u001b[0mgetvalue\u001b[0m\u001b[0;34m(\u001b[0m\u001b[0;34m)\u001b[0m\u001b[0;34m)\u001b[0m\u001b[0;34m\u001b[0m\u001b[0;34m\u001b[0m\u001b[0m\n",
            "\u001b[0;32m/usr/local/lib/python3.6/dist-packages/pydrive/files.py\u001b[0m in \u001b[0;36m_decorated\u001b[0;34m(self, *args, **kwargs)\u001b[0m\n\u001b[1;32m     41\u001b[0m     \u001b[0;32mif\u001b[0m \u001b[0;32mnot\u001b[0m \u001b[0mself\u001b[0m\u001b[0;34m.\u001b[0m\u001b[0muploaded\u001b[0m\u001b[0;34m:\u001b[0m\u001b[0;34m\u001b[0m\u001b[0;34m\u001b[0m\u001b[0m\n\u001b[1;32m     42\u001b[0m       \u001b[0mself\u001b[0m\u001b[0;34m.\u001b[0m\u001b[0mFetchMetadata\u001b[0m\u001b[0;34m(\u001b[0m\u001b[0;34m)\u001b[0m\u001b[0;34m\u001b[0m\u001b[0;34m\u001b[0m\u001b[0m\n\u001b[0;32m---> 43\u001b[0;31m     \u001b[0;32mreturn\u001b[0m \u001b[0mdecoratee\u001b[0m\u001b[0;34m(\u001b[0m\u001b[0mself\u001b[0m\u001b[0;34m,\u001b[0m \u001b[0;34m*\u001b[0m\u001b[0margs\u001b[0m\u001b[0;34m,\u001b[0m \u001b[0;34m**\u001b[0m\u001b[0mkwargs\u001b[0m\u001b[0;34m)\u001b[0m\u001b[0;34m\u001b[0m\u001b[0;34m\u001b[0m\u001b[0m\n\u001b[0m\u001b[1;32m     44\u001b[0m   \u001b[0;32mreturn\u001b[0m \u001b[0m_decorated\u001b[0m\u001b[0;34m\u001b[0m\u001b[0;34m\u001b[0m\u001b[0m\n\u001b[1;32m     45\u001b[0m \u001b[0;34m\u001b[0m\u001b[0m\n",
            "\u001b[0;32m/usr/local/lib/python3.6/dist-packages/pydrive/files.py\u001b[0m in \u001b[0;36mFetchContent\u001b[0;34m(self, mimetype, remove_bom)\u001b[0m\n\u001b[1;32m    253\u001b[0m     \u001b[0mexport_links\u001b[0m \u001b[0;34m=\u001b[0m \u001b[0mself\u001b[0m\u001b[0;34m.\u001b[0m\u001b[0mmetadata\u001b[0m\u001b[0;34m.\u001b[0m\u001b[0mget\u001b[0m\u001b[0;34m(\u001b[0m\u001b[0;34m'exportLinks'\u001b[0m\u001b[0;34m)\u001b[0m\u001b[0;34m\u001b[0m\u001b[0;34m\u001b[0m\u001b[0m\n\u001b[1;32m    254\u001b[0m     \u001b[0;32mif\u001b[0m \u001b[0mdownload_url\u001b[0m\u001b[0;34m:\u001b[0m\u001b[0;34m\u001b[0m\u001b[0;34m\u001b[0m\u001b[0m\n\u001b[0;32m--> 255\u001b[0;31m       \u001b[0mself\u001b[0m\u001b[0;34m.\u001b[0m\u001b[0mcontent\u001b[0m \u001b[0;34m=\u001b[0m \u001b[0mio\u001b[0m\u001b[0;34m.\u001b[0m\u001b[0mBytesIO\u001b[0m\u001b[0;34m(\u001b[0m\u001b[0mself\u001b[0m\u001b[0;34m.\u001b[0m\u001b[0m_DownloadFromUrl\u001b[0m\u001b[0;34m(\u001b[0m\u001b[0mdownload_url\u001b[0m\u001b[0;34m)\u001b[0m\u001b[0;34m)\u001b[0m\u001b[0;34m\u001b[0m\u001b[0;34m\u001b[0m\u001b[0m\n\u001b[0m\u001b[1;32m    256\u001b[0m       \u001b[0mself\u001b[0m\u001b[0;34m.\u001b[0m\u001b[0mdirty\u001b[0m\u001b[0;34m[\u001b[0m\u001b[0;34m'content'\u001b[0m\u001b[0;34m]\u001b[0m \u001b[0;34m=\u001b[0m \u001b[0;32mFalse\u001b[0m\u001b[0;34m\u001b[0m\u001b[0;34m\u001b[0m\u001b[0m\n\u001b[1;32m    257\u001b[0m \u001b[0;34m\u001b[0m\u001b[0m\n",
            "\u001b[0;32m/usr/local/lib/python3.6/dist-packages/pydrive/auth.py\u001b[0m in \u001b[0;36m_decorated\u001b[0;34m(self, *args, **kwargs)\u001b[0m\n\u001b[1;32m     73\u001b[0m       \u001b[0mself\u001b[0m\u001b[0;34m.\u001b[0m\u001b[0mhttp\u001b[0m \u001b[0;34m=\u001b[0m \u001b[0mself\u001b[0m\u001b[0;34m.\u001b[0m\u001b[0mauth\u001b[0m\u001b[0;34m.\u001b[0m\u001b[0mGet_Http_Object\u001b[0m\u001b[0;34m(\u001b[0m\u001b[0;34m)\u001b[0m\u001b[0;34m\u001b[0m\u001b[0;34m\u001b[0m\u001b[0m\n\u001b[1;32m     74\u001b[0m \u001b[0;34m\u001b[0m\u001b[0m\n\u001b[0;32m---> 75\u001b[0;31m     \u001b[0;32mreturn\u001b[0m \u001b[0mdecoratee\u001b[0m\u001b[0;34m(\u001b[0m\u001b[0mself\u001b[0m\u001b[0;34m,\u001b[0m \u001b[0;34m*\u001b[0m\u001b[0margs\u001b[0m\u001b[0;34m,\u001b[0m \u001b[0;34m**\u001b[0m\u001b[0mkwargs\u001b[0m\u001b[0;34m)\u001b[0m\u001b[0;34m\u001b[0m\u001b[0;34m\u001b[0m\u001b[0m\n\u001b[0m\u001b[1;32m     76\u001b[0m   \u001b[0;32mreturn\u001b[0m \u001b[0m_decorated\u001b[0m\u001b[0;34m\u001b[0m\u001b[0;34m\u001b[0m\u001b[0m\n\u001b[1;32m     77\u001b[0m \u001b[0;34m\u001b[0m\u001b[0m\n",
            "\u001b[0;32m/usr/local/lib/python3.6/dist-packages/pydrive/files.py\u001b[0m in \u001b[0;36m_DownloadFromUrl\u001b[0;34m(self, url)\u001b[0m\n\u001b[1;32m    501\u001b[0m     \u001b[0;34m:\u001b[0m\u001b[0mraises\u001b[0m\u001b[0;34m:\u001b[0m \u001b[0mApiRequestError\u001b[0m\u001b[0;34m\u001b[0m\u001b[0;34m\u001b[0m\u001b[0m\n\u001b[1;32m    502\u001b[0m     \"\"\"\n\u001b[0;32m--> 503\u001b[0;31m     \u001b[0mresp\u001b[0m\u001b[0;34m,\u001b[0m \u001b[0mcontent\u001b[0m \u001b[0;34m=\u001b[0m \u001b[0mself\u001b[0m\u001b[0;34m.\u001b[0m\u001b[0mhttp\u001b[0m\u001b[0;34m.\u001b[0m\u001b[0mrequest\u001b[0m\u001b[0;34m(\u001b[0m\u001b[0murl\u001b[0m\u001b[0;34m)\u001b[0m\u001b[0;34m\u001b[0m\u001b[0;34m\u001b[0m\u001b[0m\n\u001b[0m\u001b[1;32m    504\u001b[0m     \u001b[0;32mif\u001b[0m \u001b[0mresp\u001b[0m\u001b[0;34m.\u001b[0m\u001b[0mstatus\u001b[0m \u001b[0;34m!=\u001b[0m \u001b[0;36m200\u001b[0m\u001b[0;34m:\u001b[0m\u001b[0;34m\u001b[0m\u001b[0;34m\u001b[0m\u001b[0m\n\u001b[1;32m    505\u001b[0m       \u001b[0;32mraise\u001b[0m \u001b[0mApiRequestError\u001b[0m\u001b[0;34m(\u001b[0m\u001b[0;34m'Cannot download file: %s'\u001b[0m \u001b[0;34m%\u001b[0m \u001b[0mresp\u001b[0m\u001b[0;34m)\u001b[0m\u001b[0;34m\u001b[0m\u001b[0;34m\u001b[0m\u001b[0m\n",
            "\u001b[0;32m/usr/local/lib/python3.6/dist-packages/oauth2client/transport.py\u001b[0m in \u001b[0;36mnew_request\u001b[0;34m(uri, method, body, headers, redirections, connection_type)\u001b[0m\n\u001b[1;32m    173\u001b[0m         resp, content = request(orig_request_method, uri, method, body,\n\u001b[1;32m    174\u001b[0m                                 \u001b[0mclean_headers\u001b[0m\u001b[0;34m(\u001b[0m\u001b[0mheaders\u001b[0m\u001b[0;34m)\u001b[0m\u001b[0;34m,\u001b[0m\u001b[0;34m\u001b[0m\u001b[0;34m\u001b[0m\u001b[0m\n\u001b[0;32m--> 175\u001b[0;31m                                 redirections, connection_type)\n\u001b[0m\u001b[1;32m    176\u001b[0m \u001b[0;34m\u001b[0m\u001b[0m\n\u001b[1;32m    177\u001b[0m         \u001b[0;31m# A stored token may expire between the time it is retrieved and\u001b[0m\u001b[0;34m\u001b[0m\u001b[0;34m\u001b[0m\u001b[0;34m\u001b[0m\u001b[0m\n",
            "\u001b[0;32m/usr/local/lib/python3.6/dist-packages/oauth2client/transport.py\u001b[0m in \u001b[0;36mrequest\u001b[0;34m(http, uri, method, body, headers, redirections, connection_type)\u001b[0m\n\u001b[1;32m    280\u001b[0m     return http_callable(uri, method=method, body=body, headers=headers,\n\u001b[1;32m    281\u001b[0m                          \u001b[0mredirections\u001b[0m\u001b[0;34m=\u001b[0m\u001b[0mredirections\u001b[0m\u001b[0;34m,\u001b[0m\u001b[0;34m\u001b[0m\u001b[0;34m\u001b[0m\u001b[0m\n\u001b[0;32m--> 282\u001b[0;31m                          connection_type=connection_type)\n\u001b[0m\u001b[1;32m    283\u001b[0m \u001b[0;34m\u001b[0m\u001b[0m\n\u001b[1;32m    284\u001b[0m \u001b[0;34m\u001b[0m\u001b[0m\n",
            "\u001b[0;32m/usr/local/lib/python3.6/dist-packages/httplib2/__init__.py\u001b[0m in \u001b[0;36mrequest\u001b[0;34m(self, uri, method, body, headers, redirections, connection_type)\u001b[0m\n\u001b[1;32m   1989\u001b[0m                         \u001b[0mheaders\u001b[0m\u001b[0;34m,\u001b[0m\u001b[0;34m\u001b[0m\u001b[0;34m\u001b[0m\u001b[0m\n\u001b[1;32m   1990\u001b[0m                         \u001b[0mredirections\u001b[0m\u001b[0;34m,\u001b[0m\u001b[0;34m\u001b[0m\u001b[0;34m\u001b[0m\u001b[0m\n\u001b[0;32m-> 1991\u001b[0;31m                         \u001b[0mcachekey\u001b[0m\u001b[0;34m,\u001b[0m\u001b[0;34m\u001b[0m\u001b[0;34m\u001b[0m\u001b[0m\n\u001b[0m\u001b[1;32m   1992\u001b[0m                     )\n\u001b[1;32m   1993\u001b[0m         \u001b[0;32mexcept\u001b[0m \u001b[0mException\u001b[0m \u001b[0;32mas\u001b[0m \u001b[0me\u001b[0m\u001b[0;34m:\u001b[0m\u001b[0;34m\u001b[0m\u001b[0;34m\u001b[0m\u001b[0m\n",
            "\u001b[0;32m/usr/local/lib/python3.6/dist-packages/httplib2/__init__.py\u001b[0m in \u001b[0;36m_request\u001b[0;34m(self, conn, host, absolute_uri, request_uri, method, body, headers, redirections, cachekey)\u001b[0m\n\u001b[1;32m   1649\u001b[0m \u001b[0;34m\u001b[0m\u001b[0m\n\u001b[1;32m   1650\u001b[0m         (response, content) = self._conn_request(\n\u001b[0;32m-> 1651\u001b[0;31m             \u001b[0mconn\u001b[0m\u001b[0;34m,\u001b[0m \u001b[0mrequest_uri\u001b[0m\u001b[0;34m,\u001b[0m \u001b[0mmethod\u001b[0m\u001b[0;34m,\u001b[0m \u001b[0mbody\u001b[0m\u001b[0;34m,\u001b[0m \u001b[0mheaders\u001b[0m\u001b[0;34m\u001b[0m\u001b[0;34m\u001b[0m\u001b[0m\n\u001b[0m\u001b[1;32m   1652\u001b[0m         )\n\u001b[1;32m   1653\u001b[0m \u001b[0;34m\u001b[0m\u001b[0m\n",
            "\u001b[0;32m/usr/local/lib/python3.6/dist-packages/httplib2/__init__.py\u001b[0m in \u001b[0;36m_conn_request\u001b[0;34m(self, conn, request_uri, method, body, headers)\u001b[0m\n\u001b[1;32m   1616\u001b[0m                     \u001b[0mconn\u001b[0m\u001b[0;34m.\u001b[0m\u001b[0mclose\u001b[0m\u001b[0;34m(\u001b[0m\u001b[0;34m)\u001b[0m\u001b[0;34m\u001b[0m\u001b[0;34m\u001b[0m\u001b[0m\n\u001b[1;32m   1617\u001b[0m                 \u001b[0;32melse\u001b[0m\u001b[0;34m:\u001b[0m\u001b[0;34m\u001b[0m\u001b[0;34m\u001b[0m\u001b[0m\n\u001b[0;32m-> 1618\u001b[0;31m                     \u001b[0mcontent\u001b[0m \u001b[0;34m=\u001b[0m \u001b[0mresponse\u001b[0m\u001b[0;34m.\u001b[0m\u001b[0mread\u001b[0m\u001b[0;34m(\u001b[0m\u001b[0;34m)\u001b[0m\u001b[0;34m\u001b[0m\u001b[0;34m\u001b[0m\u001b[0m\n\u001b[0m\u001b[1;32m   1619\u001b[0m                 \u001b[0mresponse\u001b[0m \u001b[0;34m=\u001b[0m \u001b[0mResponse\u001b[0m\u001b[0;34m(\u001b[0m\u001b[0mresponse\u001b[0m\u001b[0;34m)\u001b[0m\u001b[0;34m\u001b[0m\u001b[0;34m\u001b[0m\u001b[0m\n\u001b[1;32m   1620\u001b[0m                 \u001b[0;32mif\u001b[0m \u001b[0mmethod\u001b[0m \u001b[0;34m!=\u001b[0m \u001b[0;34m\"HEAD\"\u001b[0m\u001b[0;34m:\u001b[0m\u001b[0;34m\u001b[0m\u001b[0;34m\u001b[0m\u001b[0m\n",
            "\u001b[0;32m/usr/lib/python3.6/http/client.py\u001b[0m in \u001b[0;36mread\u001b[0;34m(self, amt)\u001b[0m\n\u001b[1;32m    464\u001b[0m \u001b[0;34m\u001b[0m\u001b[0m\n\u001b[1;32m    465\u001b[0m             \u001b[0;32mif\u001b[0m \u001b[0mself\u001b[0m\u001b[0;34m.\u001b[0m\u001b[0mchunked\u001b[0m\u001b[0;34m:\u001b[0m\u001b[0;34m\u001b[0m\u001b[0;34m\u001b[0m\u001b[0m\n\u001b[0;32m--> 466\u001b[0;31m                 \u001b[0;32mreturn\u001b[0m \u001b[0mself\u001b[0m\u001b[0;34m.\u001b[0m\u001b[0m_readall_chunked\u001b[0m\u001b[0;34m(\u001b[0m\u001b[0;34m)\u001b[0m\u001b[0;34m\u001b[0m\u001b[0;34m\u001b[0m\u001b[0m\n\u001b[0m\u001b[1;32m    467\u001b[0m \u001b[0;34m\u001b[0m\u001b[0m\n\u001b[1;32m    468\u001b[0m             \u001b[0;32mif\u001b[0m \u001b[0mself\u001b[0m\u001b[0;34m.\u001b[0m\u001b[0mlength\u001b[0m \u001b[0;32mis\u001b[0m \u001b[0;32mNone\u001b[0m\u001b[0;34m:\u001b[0m\u001b[0;34m\u001b[0m\u001b[0;34m\u001b[0m\u001b[0m\n",
            "\u001b[0;32m/usr/lib/python3.6/http/client.py\u001b[0m in \u001b[0;36m_readall_chunked\u001b[0;34m(self)\u001b[0m\n\u001b[1;32m    571\u001b[0m         \u001b[0;32mtry\u001b[0m\u001b[0;34m:\u001b[0m\u001b[0;34m\u001b[0m\u001b[0;34m\u001b[0m\u001b[0m\n\u001b[1;32m    572\u001b[0m             \u001b[0;32mwhile\u001b[0m \u001b[0;32mTrue\u001b[0m\u001b[0;34m:\u001b[0m\u001b[0;34m\u001b[0m\u001b[0;34m\u001b[0m\u001b[0m\n\u001b[0;32m--> 573\u001b[0;31m                 \u001b[0mchunk_left\u001b[0m \u001b[0;34m=\u001b[0m \u001b[0mself\u001b[0m\u001b[0;34m.\u001b[0m\u001b[0m_get_chunk_left\u001b[0m\u001b[0;34m(\u001b[0m\u001b[0;34m)\u001b[0m\u001b[0;34m\u001b[0m\u001b[0;34m\u001b[0m\u001b[0m\n\u001b[0m\u001b[1;32m    574\u001b[0m                 \u001b[0;32mif\u001b[0m \u001b[0mchunk_left\u001b[0m \u001b[0;32mis\u001b[0m \u001b[0;32mNone\u001b[0m\u001b[0;34m:\u001b[0m\u001b[0;34m\u001b[0m\u001b[0;34m\u001b[0m\u001b[0m\n\u001b[1;32m    575\u001b[0m                     \u001b[0;32mbreak\u001b[0m\u001b[0;34m\u001b[0m\u001b[0;34m\u001b[0m\u001b[0m\n",
            "\u001b[0;32m/usr/lib/python3.6/http/client.py\u001b[0m in \u001b[0;36m_get_chunk_left\u001b[0;34m(self)\u001b[0m\n\u001b[1;32m    554\u001b[0m                 \u001b[0mself\u001b[0m\u001b[0;34m.\u001b[0m\u001b[0m_safe_read\u001b[0m\u001b[0;34m(\u001b[0m\u001b[0;36m2\u001b[0m\u001b[0;34m)\u001b[0m  \u001b[0;31m# toss the CRLF at the end of the chunk\u001b[0m\u001b[0;34m\u001b[0m\u001b[0;34m\u001b[0m\u001b[0m\n\u001b[1;32m    555\u001b[0m             \u001b[0;32mtry\u001b[0m\u001b[0;34m:\u001b[0m\u001b[0;34m\u001b[0m\u001b[0;34m\u001b[0m\u001b[0m\n\u001b[0;32m--> 556\u001b[0;31m                 \u001b[0mchunk_left\u001b[0m \u001b[0;34m=\u001b[0m \u001b[0mself\u001b[0m\u001b[0;34m.\u001b[0m\u001b[0m_read_next_chunk_size\u001b[0m\u001b[0;34m(\u001b[0m\u001b[0;34m)\u001b[0m\u001b[0;34m\u001b[0m\u001b[0;34m\u001b[0m\u001b[0m\n\u001b[0m\u001b[1;32m    557\u001b[0m             \u001b[0;32mexcept\u001b[0m \u001b[0mValueError\u001b[0m\u001b[0;34m:\u001b[0m\u001b[0;34m\u001b[0m\u001b[0;34m\u001b[0m\u001b[0m\n\u001b[1;32m    558\u001b[0m                 \u001b[0;32mraise\u001b[0m \u001b[0mIncompleteRead\u001b[0m\u001b[0;34m(\u001b[0m\u001b[0;34mb''\u001b[0m\u001b[0;34m)\u001b[0m\u001b[0;34m\u001b[0m\u001b[0;34m\u001b[0m\u001b[0m\n",
            "\u001b[0;32m/usr/lib/python3.6/http/client.py\u001b[0m in \u001b[0;36m_read_next_chunk_size\u001b[0;34m(self)\u001b[0m\n\u001b[1;32m    514\u001b[0m     \u001b[0;32mdef\u001b[0m \u001b[0m_read_next_chunk_size\u001b[0m\u001b[0;34m(\u001b[0m\u001b[0mself\u001b[0m\u001b[0;34m)\u001b[0m\u001b[0;34m:\u001b[0m\u001b[0;34m\u001b[0m\u001b[0;34m\u001b[0m\u001b[0m\n\u001b[1;32m    515\u001b[0m         \u001b[0;31m# Read the next chunk size from the file\u001b[0m\u001b[0;34m\u001b[0m\u001b[0;34m\u001b[0m\u001b[0;34m\u001b[0m\u001b[0m\n\u001b[0;32m--> 516\u001b[0;31m         \u001b[0mline\u001b[0m \u001b[0;34m=\u001b[0m \u001b[0mself\u001b[0m\u001b[0;34m.\u001b[0m\u001b[0mfp\u001b[0m\u001b[0;34m.\u001b[0m\u001b[0mreadline\u001b[0m\u001b[0;34m(\u001b[0m\u001b[0m_MAXLINE\u001b[0m \u001b[0;34m+\u001b[0m \u001b[0;36m1\u001b[0m\u001b[0;34m)\u001b[0m\u001b[0;34m\u001b[0m\u001b[0;34m\u001b[0m\u001b[0m\n\u001b[0m\u001b[1;32m    517\u001b[0m         \u001b[0;32mif\u001b[0m \u001b[0mlen\u001b[0m\u001b[0;34m(\u001b[0m\u001b[0mline\u001b[0m\u001b[0;34m)\u001b[0m \u001b[0;34m>\u001b[0m \u001b[0m_MAXLINE\u001b[0m\u001b[0;34m:\u001b[0m\u001b[0;34m\u001b[0m\u001b[0;34m\u001b[0m\u001b[0m\n\u001b[1;32m    518\u001b[0m             \u001b[0;32mraise\u001b[0m \u001b[0mLineTooLong\u001b[0m\u001b[0;34m(\u001b[0m\u001b[0;34m\"chunk size\"\u001b[0m\u001b[0;34m)\u001b[0m\u001b[0;34m\u001b[0m\u001b[0;34m\u001b[0m\u001b[0m\n",
            "\u001b[0;32m/usr/lib/python3.6/socket.py\u001b[0m in \u001b[0;36mreadinto\u001b[0;34m(self, b)\u001b[0m\n\u001b[1;32m    584\u001b[0m         \u001b[0;32mwhile\u001b[0m \u001b[0;32mTrue\u001b[0m\u001b[0;34m:\u001b[0m\u001b[0;34m\u001b[0m\u001b[0;34m\u001b[0m\u001b[0m\n\u001b[1;32m    585\u001b[0m             \u001b[0;32mtry\u001b[0m\u001b[0;34m:\u001b[0m\u001b[0;34m\u001b[0m\u001b[0;34m\u001b[0m\u001b[0m\n\u001b[0;32m--> 586\u001b[0;31m                 \u001b[0;32mreturn\u001b[0m \u001b[0mself\u001b[0m\u001b[0;34m.\u001b[0m\u001b[0m_sock\u001b[0m\u001b[0;34m.\u001b[0m\u001b[0mrecv_into\u001b[0m\u001b[0;34m(\u001b[0m\u001b[0mb\u001b[0m\u001b[0;34m)\u001b[0m\u001b[0;34m\u001b[0m\u001b[0;34m\u001b[0m\u001b[0m\n\u001b[0m\u001b[1;32m    587\u001b[0m             \u001b[0;32mexcept\u001b[0m \u001b[0mtimeout\u001b[0m\u001b[0;34m:\u001b[0m\u001b[0;34m\u001b[0m\u001b[0;34m\u001b[0m\u001b[0m\n\u001b[1;32m    588\u001b[0m                 \u001b[0mself\u001b[0m\u001b[0;34m.\u001b[0m\u001b[0m_timeout_occurred\u001b[0m \u001b[0;34m=\u001b[0m \u001b[0;32mTrue\u001b[0m\u001b[0;34m\u001b[0m\u001b[0;34m\u001b[0m\u001b[0m\n",
            "\u001b[0;32m/usr/lib/python3.6/ssl.py\u001b[0m in \u001b[0;36mrecv_into\u001b[0;34m(self, buffer, nbytes, flags)\u001b[0m\n\u001b[1;32m   1010\u001b[0m                   \u001b[0;34m\"non-zero flags not allowed in calls to recv_into() on %s\"\u001b[0m \u001b[0;34m%\u001b[0m\u001b[0;34m\u001b[0m\u001b[0;34m\u001b[0m\u001b[0m\n\u001b[1;32m   1011\u001b[0m                   self.__class__)\n\u001b[0;32m-> 1012\u001b[0;31m             \u001b[0;32mreturn\u001b[0m \u001b[0mself\u001b[0m\u001b[0;34m.\u001b[0m\u001b[0mread\u001b[0m\u001b[0;34m(\u001b[0m\u001b[0mnbytes\u001b[0m\u001b[0;34m,\u001b[0m \u001b[0mbuffer\u001b[0m\u001b[0;34m)\u001b[0m\u001b[0;34m\u001b[0m\u001b[0;34m\u001b[0m\u001b[0m\n\u001b[0m\u001b[1;32m   1013\u001b[0m         \u001b[0;32melse\u001b[0m\u001b[0;34m:\u001b[0m\u001b[0;34m\u001b[0m\u001b[0;34m\u001b[0m\u001b[0m\n\u001b[1;32m   1014\u001b[0m             \u001b[0;32mreturn\u001b[0m \u001b[0msocket\u001b[0m\u001b[0;34m.\u001b[0m\u001b[0mrecv_into\u001b[0m\u001b[0;34m(\u001b[0m\u001b[0mself\u001b[0m\u001b[0;34m,\u001b[0m \u001b[0mbuffer\u001b[0m\u001b[0;34m,\u001b[0m \u001b[0mnbytes\u001b[0m\u001b[0;34m,\u001b[0m \u001b[0mflags\u001b[0m\u001b[0;34m)\u001b[0m\u001b[0;34m\u001b[0m\u001b[0;34m\u001b[0m\u001b[0m\n",
            "\u001b[0;32m/usr/lib/python3.6/ssl.py\u001b[0m in \u001b[0;36mread\u001b[0;34m(self, len, buffer)\u001b[0m\n\u001b[1;32m    872\u001b[0m             \u001b[0;32mraise\u001b[0m \u001b[0mValueError\u001b[0m\u001b[0;34m(\u001b[0m\u001b[0;34m\"Read on closed or unwrapped SSL socket.\"\u001b[0m\u001b[0;34m)\u001b[0m\u001b[0;34m\u001b[0m\u001b[0;34m\u001b[0m\u001b[0m\n\u001b[1;32m    873\u001b[0m         \u001b[0;32mtry\u001b[0m\u001b[0;34m:\u001b[0m\u001b[0;34m\u001b[0m\u001b[0;34m\u001b[0m\u001b[0m\n\u001b[0;32m--> 874\u001b[0;31m             \u001b[0;32mreturn\u001b[0m \u001b[0mself\u001b[0m\u001b[0;34m.\u001b[0m\u001b[0m_sslobj\u001b[0m\u001b[0;34m.\u001b[0m\u001b[0mread\u001b[0m\u001b[0;34m(\u001b[0m\u001b[0mlen\u001b[0m\u001b[0;34m,\u001b[0m \u001b[0mbuffer\u001b[0m\u001b[0;34m)\u001b[0m\u001b[0;34m\u001b[0m\u001b[0;34m\u001b[0m\u001b[0m\n\u001b[0m\u001b[1;32m    875\u001b[0m         \u001b[0;32mexcept\u001b[0m \u001b[0mSSLError\u001b[0m \u001b[0;32mas\u001b[0m \u001b[0mx\u001b[0m\u001b[0;34m:\u001b[0m\u001b[0;34m\u001b[0m\u001b[0;34m\u001b[0m\u001b[0m\n\u001b[1;32m    876\u001b[0m             \u001b[0;32mif\u001b[0m \u001b[0mx\u001b[0m\u001b[0;34m.\u001b[0m\u001b[0margs\u001b[0m\u001b[0;34m[\u001b[0m\u001b[0;36m0\u001b[0m\u001b[0;34m]\u001b[0m \u001b[0;34m==\u001b[0m \u001b[0mSSL_ERROR_EOF\u001b[0m \u001b[0;32mand\u001b[0m \u001b[0mself\u001b[0m\u001b[0;34m.\u001b[0m\u001b[0msuppress_ragged_eofs\u001b[0m\u001b[0;34m:\u001b[0m\u001b[0;34m\u001b[0m\u001b[0;34m\u001b[0m\u001b[0m\n",
            "\u001b[0;32m/usr/lib/python3.6/ssl.py\u001b[0m in \u001b[0;36mread\u001b[0;34m(self, len, buffer)\u001b[0m\n\u001b[1;32m    629\u001b[0m         \"\"\"\n\u001b[1;32m    630\u001b[0m         \u001b[0;32mif\u001b[0m \u001b[0mbuffer\u001b[0m \u001b[0;32mis\u001b[0m \u001b[0;32mnot\u001b[0m \u001b[0;32mNone\u001b[0m\u001b[0;34m:\u001b[0m\u001b[0;34m\u001b[0m\u001b[0;34m\u001b[0m\u001b[0m\n\u001b[0;32m--> 631\u001b[0;31m             \u001b[0mv\u001b[0m \u001b[0;34m=\u001b[0m \u001b[0mself\u001b[0m\u001b[0;34m.\u001b[0m\u001b[0m_sslobj\u001b[0m\u001b[0;34m.\u001b[0m\u001b[0mread\u001b[0m\u001b[0;34m(\u001b[0m\u001b[0mlen\u001b[0m\u001b[0;34m,\u001b[0m \u001b[0mbuffer\u001b[0m\u001b[0;34m)\u001b[0m\u001b[0;34m\u001b[0m\u001b[0;34m\u001b[0m\u001b[0m\n\u001b[0m\u001b[1;32m    632\u001b[0m         \u001b[0;32melse\u001b[0m\u001b[0;34m:\u001b[0m\u001b[0;34m\u001b[0m\u001b[0;34m\u001b[0m\u001b[0m\n\u001b[1;32m    633\u001b[0m             \u001b[0mv\u001b[0m \u001b[0;34m=\u001b[0m \u001b[0mself\u001b[0m\u001b[0;34m.\u001b[0m\u001b[0m_sslobj\u001b[0m\u001b[0;34m.\u001b[0m\u001b[0mread\u001b[0m\u001b[0;34m(\u001b[0m\u001b[0mlen\u001b[0m\u001b[0;34m)\u001b[0m\u001b[0;34m\u001b[0m\u001b[0;34m\u001b[0m\u001b[0m\n",
            "\u001b[0;31mKeyboardInterrupt\u001b[0m: "
          ]
        }
      ]
    },
    {
      "cell_type": "code",
      "metadata": {
        "id": "M0F1MGZigs4T",
        "colab_type": "code",
        "outputId": "4430688f-b944-4d66-82ca-8b6b8c7b2c2b",
        "colab": {
          "base_uri": "https://localhost:8080/",
          "height": 356
        }
      },
      "source": [
        "#!pip install --upgrade pip\n",
        "!pip install -U -q pydrive\n",
        "!apt-get install -y -qq software-properties-common python-software-properties module-init-tools\n",
        "!add-apt-repository -y ppa:alessandro-strada/ppa 2>&1 > /dev/null\n",
        "!apt-get update -qq 2>&1 > /dev/null\n",
        "\n",
        "!apt-get -y install -qq google-drive-ocamlfuse fuse\n",
        "\n",
        "from google.colab import auth\n",
        "auth.authenticate_user()\n",
        "# Generate creds for the Drive FUSE library.\n",
        "from oauth2client.client import GoogleCredentials\n",
        "creds = GoogleCredentials.get_application_default()\n",
        "import getpass\n",
        "!google-drive-ocamlfuse -headless -id={creds.client_id} -secret={creds.client_secret} < /dev/null 2>&1 | grep URL\n",
        "vcode = getpass.getpass()\n",
        "!echo {vcode} | google-drive-ocamlfuse -headless -id={creds.client_id} -secret={creds.client_secret}\n",
        "\n",
        "!mkdir -p drive\n",
        "!google-drive-ocamlfuse drive"
      ],
      "execution_count": 0,
      "outputs": [
        {
          "output_type": "stream",
          "text": [
            "Collecting pip\n",
            "\u001b[?25l  Downloading https://files.pythonhosted.org/packages/54/2e/df11ea7e23e7e761d484ed3740285a34e38548cf2bad2bed3dd5768ec8b9/pip-20.1-py2.py3-none-any.whl (1.5MB)\n",
            "\u001b[K     |████████████████████████████████| 1.5MB 2.7MB/s \n",
            "\u001b[?25hInstalling collected packages: pip\n",
            "  Found existing installation: pip 19.3.1\n",
            "    Uninstalling pip-19.3.1:\n",
            "      Successfully uninstalled pip-19.3.1\n",
            "Successfully installed pip-20.1\n",
            "E: Package 'python-software-properties' has no installation candidate\n",
            "Selecting previously unselected package google-drive-ocamlfuse.\n",
            "(Reading database ... 144429 files and directories currently installed.)\n",
            "Preparing to unpack .../google-drive-ocamlfuse_0.7.21-0ubuntu1~ubuntu18.04.1_amd64.deb ...\n",
            "Unpacking google-drive-ocamlfuse (0.7.21-0ubuntu1~ubuntu18.04.1) ...\n",
            "Setting up google-drive-ocamlfuse (0.7.21-0ubuntu1~ubuntu18.04.1) ...\n",
            "Processing triggers for man-db (2.8.3-2ubuntu0.1) ...\n",
            "Please, open the following URL in a web browser: https://accounts.google.com/o/oauth2/auth?client_id=32555940559.apps.googleusercontent.com&redirect_uri=urn%3Aietf%3Awg%3Aoauth%3A2.0%3Aoob&scope=https%3A%2F%2Fwww.googleapis.com%2Fauth%2Fdrive&response_type=code&access_type=offline&approval_prompt=force\n",
            "··········\n",
            "Please, open the following URL in a web browser: https://accounts.google.com/o/oauth2/auth?client_id=32555940559.apps.googleusercontent.com&redirect_uri=urn%3Aietf%3Awg%3Aoauth%3A2.0%3Aoob&scope=https%3A%2F%2Fwww.googleapis.com%2Fauth%2Fdrive&response_type=code&access_type=offline&approval_prompt=force\n",
            "Please enter the verification code: Access token retrieved correctly.\n"
          ],
          "name": "stdout"
        }
      ]
    },
    {
      "cell_type": "code",
      "metadata": {
        "id": "zRIXqxU3jeq9",
        "colab_type": "code",
        "outputId": "2a58f943-8252-44d9-da02-5698d784c1f6",
        "colab": {
          "base_uri": "https://localhost:8080/",
          "height": 195
        }
      },
      "source": [
        "with io.open('/content/glove.42B.300d.txt', encoding='utf8') as f:\n",
        "  head = [next(f) for x in range(5)]\n",
        "  print(head)"
      ],
      "execution_count": 0,
      "outputs": [
        {
          "output_type": "error",
          "ename": "NameError",
          "evalue": "ignored",
          "traceback": [
            "\u001b[0;31m---------------------------------------------------------------------------\u001b[0m",
            "\u001b[0;31mNameError\u001b[0m                                 Traceback (most recent call last)",
            "\u001b[0;32m<ipython-input-1-6b4a66218fcd>\u001b[0m in \u001b[0;36m<module>\u001b[0;34m()\u001b[0m\n\u001b[0;32m----> 1\u001b[0;31m \u001b[0;32mwith\u001b[0m \u001b[0mio\u001b[0m\u001b[0;34m.\u001b[0m\u001b[0mopen\u001b[0m\u001b[0;34m(\u001b[0m\u001b[0;34m'/content/glove.42B.300d.txt'\u001b[0m\u001b[0;34m,\u001b[0m \u001b[0mencoding\u001b[0m\u001b[0;34m=\u001b[0m\u001b[0;34m'utf8'\u001b[0m\u001b[0;34m)\u001b[0m \u001b[0;32mas\u001b[0m \u001b[0mf\u001b[0m\u001b[0;34m:\u001b[0m\u001b[0;34m\u001b[0m\u001b[0;34m\u001b[0m\u001b[0m\n\u001b[0m\u001b[1;32m      2\u001b[0m   \u001b[0mhead\u001b[0m \u001b[0;34m=\u001b[0m \u001b[0;34m[\u001b[0m\u001b[0mnext\u001b[0m\u001b[0;34m(\u001b[0m\u001b[0mf\u001b[0m\u001b[0;34m)\u001b[0m \u001b[0;32mfor\u001b[0m \u001b[0mx\u001b[0m \u001b[0;32min\u001b[0m \u001b[0mrange\u001b[0m\u001b[0;34m(\u001b[0m\u001b[0;36m5\u001b[0m\u001b[0;34m)\u001b[0m\u001b[0;34m]\u001b[0m\u001b[0;34m\u001b[0m\u001b[0;34m\u001b[0m\u001b[0m\n\u001b[1;32m      3\u001b[0m   \u001b[0mprint\u001b[0m\u001b[0;34m(\u001b[0m\u001b[0mhead\u001b[0m\u001b[0;34m)\u001b[0m\u001b[0;34m\u001b[0m\u001b[0;34m\u001b[0m\u001b[0m\n",
            "\u001b[0;31mNameError\u001b[0m: name 'io' is not defined"
          ]
        }
      ]
    },
    {
      "cell_type": "code",
      "metadata": {
        "id": "2qx4iJbChUTZ",
        "colab_type": "code",
        "outputId": "d6515b80-d662-4bb5-bcc4-08e2f786fbad",
        "colab": {
          "base_uri": "https://localhost:8080/",
          "height": 178
        }
      },
      "source": [
        "import pickle\n",
        "pickle.dump({'embeddings_index' : embeddings_index } , open('https://drive.google.com/drive/folders/MLdata', 'wb'))"
      ],
      "execution_count": 0,
      "outputs": [
        {
          "output_type": "error",
          "ename": "FileNotFoundError",
          "evalue": "ignored",
          "traceback": [
            "\u001b[0;31m---------------------------------------------------------------------------\u001b[0m",
            "\u001b[0;31mFileNotFoundError\u001b[0m                         Traceback (most recent call last)",
            "\u001b[0;32m<ipython-input-46-3c51acce9157>\u001b[0m in \u001b[0;36m<module>\u001b[0;34m()\u001b[0m\n\u001b[1;32m      1\u001b[0m \u001b[0;32mimport\u001b[0m \u001b[0mpickle\u001b[0m\u001b[0;34m\u001b[0m\u001b[0;34m\u001b[0m\u001b[0m\n\u001b[0;32m----> 2\u001b[0;31m \u001b[0mpickle\u001b[0m\u001b[0;34m.\u001b[0m\u001b[0mdump\u001b[0m\u001b[0;34m(\u001b[0m\u001b[0;34m{\u001b[0m\u001b[0;34m'embeddings_index'\u001b[0m \u001b[0;34m:\u001b[0m \u001b[0membeddings_index\u001b[0m \u001b[0;34m}\u001b[0m \u001b[0;34m,\u001b[0m \u001b[0mopen\u001b[0m\u001b[0;34m(\u001b[0m\u001b[0;34m'https://drive.google.com/drive/folders/MLdata'\u001b[0m\u001b[0;34m,\u001b[0m \u001b[0;34m'wb'\u001b[0m\u001b[0;34m)\u001b[0m\u001b[0;34m)\u001b[0m\u001b[0;34m\u001b[0m\u001b[0;34m\u001b[0m\u001b[0m\n\u001b[0m",
            "\u001b[0;31mFileNotFoundError\u001b[0m: [Errno 2] No such file or directory: 'https://drive.google.com/drive/folders/MLdata'"
          ]
        }
      ]
    },
    {
      "cell_type": "code",
      "metadata": {
        "id": "1Q21xeE_Wghm",
        "colab_type": "code",
        "outputId": "edea7e25-6908-4063-967b-aed78cb73e52",
        "colab": {
          "base_uri": "https://localhost:8080/",
          "height": 195
        }
      },
      "source": [
        "bimodelAttn = BiDirRNNWithAttention()\n",
        "bimodelAttn.summary()\n",
        "bimodelAttn.compile(loss='binary_crossentropy',optimizer=RMSprop(),metrics=['accuracy'])"
      ],
      "execution_count": 0,
      "outputs": [
        {
          "output_type": "error",
          "ename": "TypeError",
          "evalue": "ignored",
          "traceback": [
            "\u001b[0;31m---------------------------------------------------------------------------\u001b[0m",
            "\u001b[0;31mTypeError\u001b[0m                                 Traceback (most recent call last)",
            "\u001b[0;32m<ipython-input-35-fcaa90b3b988>\u001b[0m in \u001b[0;36m<module>\u001b[0;34m()\u001b[0m\n\u001b[0;32m----> 1\u001b[0;31m \u001b[0mbimodelAttn\u001b[0m \u001b[0;34m=\u001b[0m \u001b[0mBiDirRNNWithAttention\u001b[0m\u001b[0;34m(\u001b[0m\u001b[0;34m)\u001b[0m\u001b[0;34m\u001b[0m\u001b[0;34m\u001b[0m\u001b[0m\n\u001b[0m\u001b[1;32m      2\u001b[0m \u001b[0mbimodelAttn\u001b[0m\u001b[0;34m.\u001b[0m\u001b[0msummary\u001b[0m\u001b[0;34m(\u001b[0m\u001b[0;34m)\u001b[0m\u001b[0;34m\u001b[0m\u001b[0;34m\u001b[0m\u001b[0m\n\u001b[1;32m      3\u001b[0m \u001b[0mbimodelAttn\u001b[0m\u001b[0;34m.\u001b[0m\u001b[0mcompile\u001b[0m\u001b[0;34m(\u001b[0m\u001b[0mloss\u001b[0m\u001b[0;34m=\u001b[0m\u001b[0;34m'binary_crossentropy'\u001b[0m\u001b[0;34m,\u001b[0m\u001b[0moptimizer\u001b[0m\u001b[0;34m=\u001b[0m\u001b[0mRMSprop\u001b[0m\u001b[0;34m(\u001b[0m\u001b[0;34m)\u001b[0m\u001b[0;34m,\u001b[0m\u001b[0mmetrics\u001b[0m\u001b[0;34m=\u001b[0m\u001b[0;34m[\u001b[0m\u001b[0;34m'accuracy'\u001b[0m\u001b[0;34m]\u001b[0m\u001b[0;34m)\u001b[0m\u001b[0;34m\u001b[0m\u001b[0;34m\u001b[0m\u001b[0m\n",
            "\u001b[0;31mTypeError\u001b[0m: BiDirRNNWithAttention() missing 4 required positional arguments: 'maxlen', 'max_features', 'embed_size', and 'embedding_matrix'"
          ]
        }
      ]
    }
  ]
}